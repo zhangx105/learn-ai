{
 "cells": [
  {
   "cell_type": "markdown",
   "metadata": {},
   "source": [
    "概要：极限的概念很重要，我们要了解极限的一些特性，导数，微分都是在极限基础上的；数学\n",
    "公式不好打印，马虎记录一下。"
   ]
  },
  {
   "cell_type": "markdown",
   "metadata": {},
   "source": [
    "1.极限。"
   ]
  },
  {
   "cell_type": "markdown",
   "metadata": {},
   "source": [
    "单调数列，单调非增和非减数列。"
   ]
  },
  {
   "cell_type": "markdown",
   "metadata": {},
   "source": [
    "* 数列的夹逼定理："
   ]
  },
  {
   "cell_type": "markdown",
   "metadata": {},
   "source": [
    "设有数列( a n ) , ( bn ) 和( cn ) , 满足\n",
    "an ≤ bn ≤ cn ( n ∈ N) , \n",
    "如果lim\n",
    "n → ∞\n",
    "an = lim\n",
    "n→ ∞\n",
    "cn = A, 则lim\n",
    "n→ ∞\n",
    "，bn = A."
   ]
  },
  {
   "cell_type": "markdown",
   "metadata": {},
   "source": [
    "* 函数的夹逼定理："
   ]
  },
  {
   "cell_type": "markdown",
   "metadata": {},
   "source": [
    "设有函数f ( x ) , g ( x ) 和h( x ) , 满足\n",
    "f ( x ) ≤ g ( x ) ≤ h( x ) , \n",
    "如果lim\n",
    "x → □\n",
    "f ( x ) = lim\n",
    "x → □\n",
    "h( x ) = A, 则lim\n",
    "x → □\n",
    "g ( x ) = A.( 这里x → □ 表示\n",
    "函数极限的六种形式中任何一种) ."
   ]
  },
  {
   "cell_type": "markdown",
   "metadata": {},
   "source": [
    "* 极限的四则运算："
   ]
  },
  {
   "cell_type": "markdown",
   "metadata": {},
   "source": [
    "( 1) lim\n",
    "n→ ∞\n",
    "( can ) = cA( 其中c 为任意常数) ;\n",
    "( 2) lim\n",
    "n→ ∞\n",
    "( an + bn ) = A + B;\n",
    "( 3) lim\n",
    "n→ ∞\n",
    "( an ¡¤bn ) = A ¡¤B;\n",
    "( 4) lim\n",
    "n→ ∞\n",
    "a n\n",
    "bn\n",
    "=\n",
    "A\n",
    "B\n",
    "( B ≠ 0) ."
   ]
  },
  {
   "cell_type": "markdown",
   "metadata": {},
   "source": [
    "2.连续函数。"
   ]
  },
  {
   "cell_type": "markdown",
   "metadata": {},
   "source": [
    "在自然界中, 变量的变化有两种不同的形式: 渐变与突变。"
   ]
  },
  {
   "cell_type": "markdown",
   "metadata": {},
   "source": [
    "在微积分这门课程中, 主要的研究对象就是连续函数. 从直观上不妨这样说,\n",
    "连续函数的特征就是它的图形是连续的, 也就是说, 可以一笔画成"
   ]
  },
  {
   "cell_type": "markdown",
   "metadata": {},
   "source": [
    "如果lim\n",
    "x → x\n",
    "0\n",
    "f ( x ) = f ( x 0 ) , 则称f 在点x 0 连续."
   ]
  },
  {
   "cell_type": "markdown",
   "metadata": {},
   "source": [
    "定理："
   ]
  },
  {
   "cell_type": "markdown",
   "metadata": {},
   "source": [
    "* 假定函数f 与g 都在点x 0 连续, 则\n",
    "( 1) 对于任意常数α, β, 函数αf + βg 也在点x 0 连续;\n",
    "( 2) 乘积函数f ¡¤g 在点x 0 连续;\n",
    "( 3) 如果g ( x 0 ) ≠ 0, 则函数\n",
    "f\n",
    "g 在点x 0 连续."
   ]
  },
  {
   "cell_type": "markdown",
   "metadata": {},
   "source": [
    "* 零点定理：假设f ∈ C[ a , b] , 且f ( a ) 与f ( b) 异\n",
    "号, 则必存在ξ∈ ( a , b) , 使f ( ξ) = 0."
   ]
  },
  {
   "cell_type": "markdown",
   "metadata": {},
   "source": [
    "* 不动点定理：设f ∈ C[ 0, 1] , 且满足0 < f ( x )\n",
    "< 1( 0 ≤ x ≤ 1) , 则存在ξ∈ ( 0, 1) , 使得f ( ξ) = ξ."
   ]
  },
  {
   "cell_type": "markdown",
   "metadata": {},
   "source": [
    "* 介值定理：设f ∈ C[ a , b] 且f ( a ) ≠ f ( b) , 则对\n",
    "介于f ( a ) 和f ( b) 之间的每个数值μ, 都存在ξ∈ ( a , b) , 使得\n",
    "f ( ξ) = μ"
   ]
  },
  {
   "cell_type": "markdown",
   "metadata": {},
   "source": [
    "* 设f 是[ a , b] 上的单调连续函数, 则其值域是一\n",
    "个闭区间[ c, d ] , 并且反函数f - 1 在[ c, d ] 上连续"
   ]
  },
  {
   "cell_type": "markdown",
   "metadata": {},
   "source": [
    "3.实数系的几个定理。"
   ]
  },
  {
   "cell_type": "markdown",
   "metadata": {},
   "source": [
    "* 闭区间套定理：设[ an , bn ] ( n ∈ N) 是一列非空\n",
    "的闭区间, 满足下列条件:\n",
    "( 1) [ a n , bn ] Ê [ a n+ 1 , bn + 1 ] ( n = 1, 2, ⋯) ;\n",
    "( 2) bn - an → 0 ( n → ∞) .\n",
    "则存在唯一的ξ, 满足\n",
    "ξ∈ ∩\n",
    "∞\n",
    "n= 1\n",
    "[ a n , bn ] . ( 3.2.1)\n",
    "即对于所有的n ∈ N, 都有ξ∈ [ a n , bn ]"
   ]
  },
  {
   "cell_type": "markdown",
   "metadata": {},
   "source": [
    "* 任意有界数列都包含收敛子列。"
   ]
  },
  {
   "cell_type": "markdown",
   "metadata": {},
   "source": [
    "* 柯西列：设( x n ) 为一数列, 如果\" 􊶺> 0, v N ∈ N, 使得\n",
    "对所有满足n > N , m > N 的自然数n 和m, 都有\n",
    "©x¦ n - x m©¦< 􊶺, ( 3.2.4)\n",
    "则称( x n ) 为柯西列。\n",
    "由这个定义看出, 所谓柯西列, 是指该数列有一种渐近稳定\n",
    "性, 即随着下标n 的无限增大, 数列的各项之间的距离无限变小而\n",
    "趋于零。"
   ]
  },
  {
   "cell_type": "markdown",
   "metadata": {},
   "source": [
    "* 柯西收敛原则：称数列( x n ) 为柯西列, 是指\" 􊶺> 0, v N ∈ N,\n",
    "只要n > N , 那么对任意的p ∈ N, 都有\n",
    "©¦ xn + p - x n©¦< 􊶺.\n",
    "可以证明, 数列的这种渐近稳定性与收敛性是等价的, 这就是\n",
    "·94·\n",
    "著名的柯西收敛原则"
   ]
  },
  {
   "cell_type": "markdown",
   "metadata": {},
   "source": [
    "* 数列( x n ) 收敛的充分必要条件是( x n ) 为柯西列"
   ]
  },
  {
   "cell_type": "markdown",
   "metadata": {},
   "source": [
    "实数系的完备性："
   ]
  },
  {
   "cell_type": "markdown",
   "metadata": {},
   "source": [
    "* 确界定理所描述的性质, 即有界必有确界, 表明实数系是连续的。"
   ]
  },
  {
   "cell_type": "markdown",
   "metadata": {},
   "source": [
    "* 有界闭区间具有“紧性”。"
   ]
  },
  {
   "cell_type": "markdown",
   "metadata": {},
   "source": [
    "* 柯西收敛原则指出任一个柯西列都收敛, 这种性质称为实数系的完备性。"
   ]
  },
  {
   "cell_type": "markdown",
   "metadata": {},
   "source": [
    "上述这三个定理是互相等价的. 也就是说, 将其中任何一个定理作为公理, 都能够推出所有其它定理。"
   ]
  },
  {
   "cell_type": "markdown",
   "metadata": {},
   "source": [
    "4.连续函数在闭区间上的性质。"
   ]
  },
  {
   "cell_type": "markdown",
   "metadata": {},
   "source": [
    "* 设[ a , b] 为有界闭区间, f ∈ C[ a , b] , 则f 在\n",
    "[ a , b] 上有界. 即存在正数M, 使得\n",
    "©f¦ ( x ) ©¦≤ M ( x ∈ [ a , b] ) ."
   ]
  },
  {
   "cell_type": "markdown",
   "metadata": {},
   "source": [
    "* 设[ a, b] 为有界闭区间, f ∈ C[ a , b] , 则存在ξ, η\n",
    "∈ [ a , b] 使得\n",
    "f ( ξ) = m = min\n",
    "a ≤ x ≤ b\n",
    "f ( x ) , f ( η) = M = max\n",
    "a ≤x ≤ b\n",
    "f ( x )"
   ]
  },
  {
   "cell_type": "markdown",
   "metadata": {},
   "source": [
    "* 一致连续: 设函数f 在区间I 上有定义, 如果对于任意的正\n",
    "数􊶺, 都存在正数δ, 使得对于任意的t, x ∈ I , 只要©t¦- x ©<¦ δ, 就\n",
    "有©f¦ ( t) - f ( x ) ©¦< 􊶺, 则称f 在I 上一致连续( uniformly\n",
    "cont inuou s)"
   ]
  },
  {
   "cell_type": "markdown",
   "metadata": {},
   "source": [
    "* 函数f 在某个区间上连续和一致连续是两个不同的概念, 前\n",
    "者的含意是f 在该区间中每个点处都连续, 是局部性质的总和; 后\n",
    "者是f 在区间上的一个全局性质"
   ]
  },
  {
   "cell_type": "markdown",
   "metadata": {},
   "source": [
    "* 设[ a , b] 为有界闭区间, f ∈ C[ a , b] , 则f 在\n",
    "[ a , b] 上一致连续"
   ]
  },
  {
   "cell_type": "markdown",
   "metadata": {},
   "source": [
    "5.导数。"
   ]
  },
  {
   "cell_type": "markdown",
   "metadata": {},
   "source": [
    "* 假设函数f 在点x 0 及其附近有定义, 如果极限\n",
    "lim\n",
    "Δx → 0\n",
    "f ( x 0 + Δx ) - f ( x 0 )\n",
    "Δx\n",
    "( 4.1.1)\n",
    "存在, 则称函数f 在x 0 可导, 并且称这个极限值为函数f 在点x 0\n",
    "的导数( der ivative) .f 在点x 0 的导数记作f ′( x0 ) 或者\n",
    "df\n",
    "dx x = x\n",
    "0\n",
    ". 如\n",
    "·107·\n",
    "果函数表达式为y = f ( x ) , 那么导数也可以写作\n",
    "dy\n",
    "dx x = x\n",
    "0\n",
    "."
   ]
  },
  {
   "cell_type": "markdown",
   "metadata": {},
   "source": [
    "函数f 在点x 0 的导数实际上就是f 在x 0 这一点因变量关于自变量的变化率。"
   ]
  },
  {
   "cell_type": "markdown",
   "metadata": {},
   "source": [
    "函数f 在点x 0 存在导数的充分必要条件是f 在点x 0 的\n",
    "左、右导数都存在并且相等"
   ]
  },
  {
   "cell_type": "markdown",
   "metadata": {},
   "source": [
    "* 导函数：如果f 在区间I 中的每个点都可导, 就称f 在区间I 上可导. 这\n",
    "时, f ′( x ) 是定义在区间I 上的一个函数, 称其为f 的导函数, 简称导\n",
    "数. 当区间为有界闭区间[ a , b] 时, f 在区间[ a , b] 上可导是指f 在\n",
    "[ a , b] 的每一个内点可导, 在a , b 两点分别存在右导数和左导数"
   ]
  },
  {
   "cell_type": "markdown",
   "metadata": {},
   "source": [
    "6.微分。"
   ]
  },
  {
   "cell_type": "markdown",
   "metadata": {},
   "source": [
    "* 微分的定义：设函数f 在点x 0 的某个邻域中有定义, 如果存\n",
    "在一个与Δx 无关的常数a ( 或者存在Δx 的某个线性函数a ¡¤Δx ) ,\n",
    "使得能够将Δx 引起的函数改变量Δy = f ( x 0 + Δx ) - f ( x 0 ) 表\n",
    "示成\n",
    "Δy = f ( x0 + Δx ) - f ( x 0 ) = a ¡¤Δx + o( Δx ) . ( 4.1.5)\n",
    "则称函数f 在点x 0 可微( differentiable) , 并且称Δx 的线性函数\n",
    "a ¡¤Δx 是函数f 在点x 0 的微分( differen tial) , 其中常数a 称为微分\n",
    "系数( differential coefficient ) . 函数f 在点x0 的微分记作df ( x 0 ) ,\n",
    "或者dy ( x 0 )"
   ]
  },
  {
   "cell_type": "markdown",
   "metadata": {},
   "source": [
    "导数和微分的关系："
   ]
  },
  {
   "cell_type": "markdown",
   "metadata": {},
   "source": [
    "导数与微分是一元函数微分学中的两个基本概念, 这两个概\n",
    "念有密切联系, 这种联系具体体现在下述定理之中："
   ]
  },
  {
   "cell_type": "markdown",
   "metadata": {},
   "source": [
    "* 函数y = f ( x ) 在点x 0 可微的充分必要条件是f\n",
    "在点x 0 可导. 并且f 在点x 0 的微分系数就是f 在点x 0 的导数,\n",
    "即\n",
    "df ( x0 ) = f ′( x 0 ) Δx ."
   ]
  },
  {
   "cell_type": "markdown",
   "metadata": {},
   "source": [
    "如果f 在点x 0 可微( 可导) , 则f 在点x 0 连续。"
   ]
  },
  {
   "cell_type": "markdown",
   "metadata": {},
   "source": [
    "微分的性质："
   ]
  },
  {
   "cell_type": "markdown",
   "metadata": {},
   "source": [
    "① 当点x 0 确定之后, 函数f 在点x0 的微分df ( x 0 ) 是自变量\n",
    "改变量Δx = x - x 0 的线性函数. 在数值上, 微分df ( x0 ) =\n",
    "f ′( x 0 ) Δx ; 其中导数f ′( x 0 ) 是一个与Δx = x - x 0 无关的常数."
   ]
  },
  {
   "cell_type": "markdown",
   "metadata": {},
   "source": [
    "② 在微分df ( x 0 ) = f ′( x 0 ) Δx 中, Δx = x - x 0 是自变量, 微\n",
    "分df ′( x 0 ) 是Δx = x - x 0 的线性函数, 而不是常数."
   ]
  },
  {
   "cell_type": "markdown",
   "metadata": {},
   "source": [
    "③ 对于一元函数而言, 在一点可微与可导是等价的条件."
   ]
  },
  {
   "cell_type": "markdown",
   "metadata": {},
   "source": [
    "④ 微分df ( x 0 ) 是函数改变量Δy = f ( x 0 + Δx ) - f ( x 0 ) 的\n",
    "主要部分, 线性部分. 如果函数f 在点x 0 可导( 或可微) , 当自变量\n",
    "的改变量Δx 很小时, 用微分f ′( x 0 ) Δx 作为函数改变量Δy =\n",
    "f ( x 0 + Δx ) - f ( x 0 ) 的近似值, 有很高的精确度, 即\n",
    "f ( x 0 + Δx ) - f ( x 0 ) ≈ f ′( x 0 ) Δx ,"
   ]
  },
  {
   "cell_type": "code",
   "execution_count": null,
   "metadata": {},
   "outputs": [],
   "source": []
  }
 ],
 "metadata": {
  "kernelspec": {
   "display_name": "Python 3",
   "language": "python",
   "name": "python3"
  },
  "language_info": {
   "codemirror_mode": {
    "name": "ipython",
    "version": 3
   },
   "file_extension": ".py",
   "mimetype": "text/x-python",
   "name": "python",
   "nbconvert_exporter": "python",
   "pygments_lexer": "ipython3",
   "version": "3.6.4"
  }
 },
 "nbformat": 4,
 "nbformat_minor": 2
}
