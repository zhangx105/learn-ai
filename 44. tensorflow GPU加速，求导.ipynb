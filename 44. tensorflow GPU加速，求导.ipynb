{
 "cells": [
  {
   "cell_type": "markdown",
   "metadata": {},
   "source": [
    "概要：tensorflow的几个重要功能，包括GPU加速，自动求导等。"
   ]
  },
  {
   "cell_type": "markdown",
   "metadata": {},
   "source": [
    "1.自动求导。"
   ]
  },
  {
   "cell_type": "code",
   "execution_count": 2,
   "metadata": {},
   "outputs": [
    {
     "name": "stdout",
     "output_type": "stream",
     "text": [
      "tf.Tensor(10.0, shape=(), dtype=float32)\n"
     ]
    }
   ],
   "source": [
    "import tensorflow as tf \n",
    "\n",
    "# 创建4个张量\n",
    "a = tf.constant(1.)\n",
    "b = tf.constant(2.)\n",
    "c = tf.constant(3.)\n",
    "w = tf.constant(4.)\n",
    "\n",
    "with tf.GradientTape() as tape:# 构建梯度环境\n",
    "    tape.watch([w]) # 将w加入梯度跟踪列表\n",
    "    # 构建计算过程\n",
    "    y = a * w**2 + b * w + c\n",
    "# 求导\n",
    "[dy_dw] = tape.gradient(y, [w])\n",
    "print(dy_dw)"
   ]
  },
  {
   "cell_type": "markdown",
   "metadata": {},
   "source": [
    "考虑$ y = a*w^2 + b*w + c$"
   ]
  },
  {
   "cell_type": "markdown",
   "metadata": {},
   "source": [
    "$ \\frac{d_y}{d_w} = 2a*w + b $"
   ]
  },
  {
   "cell_type": "markdown",
   "metadata": {},
   "source": [
    "考虑在(a, b, c, w) = (1,2,3,4)处的导数，\n",
    "$ \\frac{d_y}{d_w} $ = 2 ∗ 1 ∗ 4 + 2 = 10"
   ]
  },
  {
   "cell_type": "markdown",
   "metadata": {},
   "source": [
    "2.GPU加速，我的电脑没有GPU，只能模拟CPU。"
   ]
  },
  {
   "cell_type": "code",
   "execution_count": 5,
   "metadata": {},
   "outputs": [
    {
     "name": "stdout",
     "output_type": "stream",
     "text": [
      "/job:localhost/replica:0/task:0/device:CPU:0 /job:localhost/replica:0/task:0/device:CPU:0\n",
      "warmup: 0.0015402360010909888\n",
      "run time: 0.0010101137690412543\n",
      "/job:localhost/replica:0/task:0/device:CPU:0 /job:localhost/replica:0/task:0/device:CPU:0\n",
      "warmup: 0.000643409708303011\n",
      "run time: 0.0005080173586407\n",
      "/job:localhost/replica:0/task:0/device:CPU:0 /job:localhost/replica:0/task:0/device:CPU:0\n",
      "warmup: 0.0004886755944113474\n",
      "run time: 0.000506043709236792\n",
      "/job:localhost/replica:0/task:0/device:CPU:0 /job:localhost/replica:0/task:0/device:CPU:0\n",
      "warmup: 0.0005238065539430181\n",
      "run time: 0.0005135435769858532\n",
      "/job:localhost/replica:0/task:0/device:CPU:0 /job:localhost/replica:0/task:0/device:CPU:0\n",
      "warmup: 0.0008455114080874182\n",
      "run time: 0.0008920895342185986\n",
      "/job:localhost/replica:0/task:0/device:CPU:0 /job:localhost/replica:0/task:0/device:CPU:0\n",
      "warmup: 0.0018568093667852281\n",
      "run time: 0.0017794423098251855\n",
      "/job:localhost/replica:0/task:0/device:CPU:0 /job:localhost/replica:0/task:0/device:CPU:0\n",
      "warmup: 0.014036989347815165\n",
      "run time: 0.013694363809889865\n",
      "/job:localhost/replica:0/task:0/device:CPU:0 /job:localhost/replica:0/task:0/device:CPU:0\n",
      "warmup: 0.1310917675925225\n",
      "run time: 0.13231148292911143\n",
      "/job:localhost/replica:0/task:0/device:CPU:0 /job:localhost/replica:0/task:0/device:CPU:0\n",
      "warmup: 1.3121500226180132\n",
      "run time: 1.3326783448818134\n"
     ]
    },
    {
     "name": "stderr",
     "output_type": "stream",
     "text": [
      "d:\\python36\\lib\\site-packages\\ipykernel_launcher.py:49: UserWarning: Attempted to set non-positive bottom ylim on a log-scaled axis.\n",
      "Invalid limit will be ignored.\n"
     ]
    },
    {
     "data": {
      "text/plain": [
       "<matplotlib.legend.Legend at 0x328699b0>"
      ]
     },
     "execution_count": 5,
     "metadata": {},
     "output_type": "execute_result"
    },
    {
     "data": {
      "image/png": "[encoded data removed]",
      "text/plain": [
       "<Figure size 648x504 with 1 Axes>"
      ]
     },
     "metadata": {
      "needs_background": "light"
     },
     "output_type": "display_data"
    }
   ],
   "source": [
    "import  numpy as np\n",
    "import  matplotlib\n",
    "from    matplotlib import pyplot as plt\n",
    "\n",
    "%matplotlib inline\n",
    "# Default parameters for plots\n",
    "matplotlib.rcParams['font.size'] = 20\n",
    "matplotlib.rcParams['figure.titlesize'] = 20\n",
    "matplotlib.rcParams['figure.figsize'] = [9, 7]\n",
    "matplotlib.rcParams['font.family'] = ['STKaiti']\n",
    "matplotlib.rcParams['axes.unicode_minus']=False \n",
    "\n",
    "\n",
    "import tensorflow as tf\n",
    "import timeit\n",
    "\n",
    "cpu_data = []\n",
    "for n in range(9):\n",
    "    n = 10**n\n",
    "    # 创建在CPU上运算的2个矩阵\n",
    "    with tf.device('/cpu:0'):\n",
    "        cpu_a = tf.random.normal([1, n])\n",
    "        cpu_b = tf.random.normal([n, 1])\n",
    "        print(cpu_a.device, cpu_b.device)\n",
    "\n",
    "    def cpu_run():\n",
    "        with tf.device('/cpu:0'):\n",
    "            c = tf.matmul(cpu_a, cpu_b)\n",
    "        return c \n",
    "\n",
    "    # 第一次计算需要热身，避免将初始化阶段时间结算在内\n",
    "    cpu_time = timeit.timeit(cpu_run, number=10)\n",
    "    print('warmup:', cpu_time)\n",
    "    # 正式计算10次，取平均时间\n",
    "    cpu_time = timeit.timeit(cpu_run, number=10)\n",
    "    print('run time:', cpu_time)\n",
    "    cpu_data.append(cpu_time/10)\n",
    "\n",
    "    del cpu_a,cpu_b\n",
    "\n",
    "x = [10**i for i in range(9)]\n",
    "cpu_data = [1000*i for i in cpu_data]\n",
    "plt.plot(x, cpu_data, 'C1')\n",
    "plt.plot(x, cpu_data, color='C1', marker='s', label='CPU')\n",
    "\n",
    "\n",
    "plt.gca().set_xscale('log')\n",
    "plt.gca().set_yscale('log')\n",
    "plt.ylim([0,100])\n",
    "plt.xlabel('mat size n:(1xn)@(nx1)')\n",
    "plt.ylabel('time (ms)')\n",
    "plt.legend()"
   ]
  },
  {
   "cell_type": "code",
   "execution_count": null,
   "metadata": {},
   "outputs": [],
   "source": []
  }
 ],
 "metadata": {
  "kernelspec": {
   "display_name": "Python 3",
   "language": "python",
   "name": "python3"
  },
  "language_info": {
   "codemirror_mode": {
    "name": "ipython",
    "version": 3
   },
   "file_extension": ".py",
   "mimetype": "text/x-python",
   "name": "python",
   "nbconvert_exporter": "python",
   "pygments_lexer": "ipython3",
   "version": "3.6.4"
  }
 },
 "nbformat": 4,
 "nbformat_minor": 2
}
