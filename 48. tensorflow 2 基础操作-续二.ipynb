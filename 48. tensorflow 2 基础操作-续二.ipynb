{
 "cells": [
  {
   "cell_type": "markdown",
   "metadata": {},
   "source": [
    "概要：熟悉tensorflow的基本操作。"
   ]
  },
  {
   "cell_type": "markdown",
   "metadata": {},
   "source": [
    "1.张量。"
   ]
  },
  {
   "cell_type": "code",
   "execution_count": 91,
   "metadata": {},
   "outputs": [
    {
     "data": {
      "text/plain": [
       "(float, tensorflow.python.framework.ops.EagerTensor, True)"
      ]
     },
     "execution_count": 91,
     "metadata": {},
     "output_type": "execute_result"
    }
   ],
   "source": [
    "import tensorflow as tf\n",
    "from    tensorflow import keras\n",
    "from    tensorflow.keras import layers, optimizers, datasets\n",
    "\n",
    "a = 1.2\n",
    "aa = tf.constant(1.2)\n",
    "\n",
    "type(a), type(aa), tf.is_tensor(aa)"
   ]
  },
  {
   "cell_type": "code",
   "execution_count": 2,
   "metadata": {},
   "outputs": [
    {
     "data": {
      "text/plain": [
       "<tf.Tensor: id=1, shape=(2,), dtype=float32, numpy=array([1.2, 4. ], dtype=float32)>"
      ]
     },
     "execution_count": 2,
     "metadata": {},
     "output_type": "execute_result"
    }
   ],
   "source": [
    "x = tf.constant([1.2, 4])\n",
    "x"
   ]
  },
  {
   "cell_type": "code",
   "execution_count": 3,
   "metadata": {},
   "outputs": [
    {
     "data": {
      "text/plain": [
       "array([1.2, 4. ], dtype=float32)"
      ]
     },
     "execution_count": 3,
     "metadata": {},
     "output_type": "execute_result"
    }
   ],
   "source": [
    "x.numpy()"
   ]
  },
  {
   "cell_type": "code",
   "execution_count": 4,
   "metadata": {},
   "outputs": [
    {
     "data": {
      "text/plain": [
       "tf.float32"
      ]
     },
     "execution_count": 4,
     "metadata": {},
     "output_type": "execute_result"
    }
   ],
   "source": [
    "x.dtype"
   ]
  },
  {
   "cell_type": "code",
   "execution_count": 5,
   "metadata": {},
   "outputs": [
    {
     "data": {
      "text/plain": [
       "TensorShape([2])"
      ]
     },
     "execution_count": 5,
     "metadata": {},
     "output_type": "execute_result"
    }
   ],
   "source": [
    "x.shape"
   ]
  },
  {
   "cell_type": "markdown",
   "metadata": {},
   "source": [
    "定义向量："
   ]
  },
  {
   "cell_type": "code",
   "execution_count": 6,
   "metadata": {},
   "outputs": [
    {
     "data": {
      "text/plain": [
       "<tf.Tensor: id=4, shape=(1,), dtype=float32, numpy=array([1.2], dtype=float32)>"
      ]
     },
     "execution_count": 6,
     "metadata": {},
     "output_type": "execute_result"
    }
   ],
   "source": [
    "a = tf.constant([1.2])\n",
    "a"
   ]
  },
  {
   "cell_type": "code",
   "execution_count": 7,
   "metadata": {},
   "outputs": [
    {
     "data": {
      "text/plain": [
       "TensorShape([1])"
      ]
     },
     "execution_count": 7,
     "metadata": {},
     "output_type": "execute_result"
    }
   ],
   "source": [
    "a.shape"
   ]
  },
  {
   "cell_type": "markdown",
   "metadata": {},
   "source": [
    "定义三维张量："
   ]
  },
  {
   "cell_type": "code",
   "execution_count": 8,
   "metadata": {},
   "outputs": [],
   "source": [
    "a = tf.constant([[[1,2],[3,4]],[[5,6],[7,8]]])"
   ]
  },
  {
   "cell_type": "code",
   "execution_count": 9,
   "metadata": {},
   "outputs": [
    {
     "data": {
      "text/plain": [
       "<tf.Tensor: id=6, shape=(2, 2, 2), dtype=int32, numpy=\n",
       "array([[[1, 2],\n",
       "        [3, 4]],\n",
       "\n",
       "       [[5, 6],\n",
       "        [7, 8]]])>"
      ]
     },
     "execution_count": 9,
     "metadata": {},
     "output_type": "execute_result"
    }
   ],
   "source": [
    "a"
   ]
  },
  {
   "cell_type": "markdown",
   "metadata": {},
   "source": [
    "创建字符串："
   ]
  },
  {
   "cell_type": "code",
   "execution_count": 10,
   "metadata": {},
   "outputs": [
    {
     "data": {
      "text/plain": [
       "<tf.Tensor: id=8, shape=(), dtype=string, numpy=b'i am a chinese.'>"
      ]
     },
     "execution_count": 10,
     "metadata": {},
     "output_type": "execute_result"
    }
   ],
   "source": [
    "a = tf.constant('i am a chinese.')\n",
    "a"
   ]
  },
  {
   "cell_type": "markdown",
   "metadata": {},
   "source": [
    "字符串操作："
   ]
  },
  {
   "cell_type": "code",
   "execution_count": 11,
   "metadata": {},
   "outputs": [
    {
     "data": {
      "text/plain": [
       "<tf.Tensor: id=10, shape=(), dtype=string, numpy=b'I AM A CHINESE.'>"
      ]
     },
     "execution_count": 11,
     "metadata": {},
     "output_type": "execute_result"
    }
   ],
   "source": [
    "tf.strings.upper(a)"
   ]
  },
  {
   "cell_type": "markdown",
   "metadata": {},
   "source": [
    "布尔类型："
   ]
  },
  {
   "cell_type": "code",
   "execution_count": 12,
   "metadata": {},
   "outputs": [
    {
     "data": {
      "text/plain": [
       "<tf.Tensor: id=12, shape=(), dtype=bool, numpy=True>"
      ]
     },
     "execution_count": 12,
     "metadata": {},
     "output_type": "execute_result"
    }
   ],
   "source": [
    "a = tf.constant(True)\n",
    "a"
   ]
  },
  {
   "cell_type": "markdown",
   "metadata": {},
   "source": [
    "布尔向量："
   ]
  },
  {
   "cell_type": "code",
   "execution_count": 13,
   "metadata": {},
   "outputs": [
    {
     "data": {
      "text/plain": [
       "<tf.Tensor: id=14, shape=(2,), dtype=bool, numpy=array([ True, False])>"
      ]
     },
     "execution_count": 13,
     "metadata": {},
     "output_type": "execute_result"
    }
   ],
   "source": [
    "a = tf.constant([True, False])\n",
    "a"
   ]
  },
  {
   "cell_type": "markdown",
   "metadata": {},
   "source": [
    "数值精度："
   ]
  },
  {
   "cell_type": "code",
   "execution_count": 14,
   "metadata": {},
   "outputs": [
    {
     "data": {
      "text/plain": [
       "<tf.Tensor: id=16, shape=(), dtype=int16, numpy=-13035>"
      ]
     },
     "execution_count": 14,
     "metadata": {},
     "output_type": "execute_result"
    }
   ],
   "source": [
    "tf.constant(123456789, dtype=tf.int16)"
   ]
  },
  {
   "cell_type": "code",
   "execution_count": 15,
   "metadata": {},
   "outputs": [
    {
     "data": {
      "text/plain": [
       "<tf.Tensor: id=18, shape=(), dtype=int32, numpy=123456789>"
      ]
     },
     "execution_count": 15,
     "metadata": {},
     "output_type": "execute_result"
    }
   ],
   "source": [
    "tf.constant(123456789, dtype=tf.int32)"
   ]
  },
  {
   "cell_type": "markdown",
   "metadata": {},
   "source": [
    "PI的精度："
   ]
  },
  {
   "cell_type": "code",
   "execution_count": 16,
   "metadata": {},
   "outputs": [
    {
     "data": {
      "text/plain": [
       "3.141592653589793"
      ]
     },
     "execution_count": 16,
     "metadata": {},
     "output_type": "execute_result"
    }
   ],
   "source": [
    "import numpy as np\n",
    "\n",
    "np.pi"
   ]
  },
  {
   "cell_type": "code",
   "execution_count": 17,
   "metadata": {},
   "outputs": [
    {
     "data": {
      "text/plain": [
       "<tf.Tensor: id=20, shape=(), dtype=float32, numpy=3.1415927>"
      ]
     },
     "execution_count": 17,
     "metadata": {},
     "output_type": "execute_result"
    }
   ],
   "source": [
    "tf.constant(np.pi, dtype=tf.float32)"
   ]
  },
  {
   "cell_type": "code",
   "execution_count": 18,
   "metadata": {},
   "outputs": [
    {
     "data": {
      "text/plain": [
       "<tf.Tensor: id=22, shape=(), dtype=float64, numpy=3.141592653589793>"
      ]
     },
     "execution_count": 18,
     "metadata": {},
     "output_type": "execute_result"
    }
   ],
   "source": [
    "tf.constant(np.pi, dtype=tf.float64)"
   ]
  },
  {
   "cell_type": "markdown",
   "metadata": {},
   "source": [
    "类型转换："
   ]
  },
  {
   "cell_type": "code",
   "execution_count": 19,
   "metadata": {},
   "outputs": [
    {
     "data": {
      "text/plain": [
       "<tf.Tensor: id=24, shape=(), dtype=float16, numpy=3.14>"
      ]
     },
     "execution_count": 19,
     "metadata": {},
     "output_type": "execute_result"
    }
   ],
   "source": [
    "a = tf.constant(np.pi, dtype=tf.float16)\n",
    "a"
   ]
  },
  {
   "cell_type": "code",
   "execution_count": 20,
   "metadata": {},
   "outputs": [
    {
     "data": {
      "text/plain": [
       "<tf.Tensor: id=26, shape=(), dtype=float32, numpy=3.140625>"
      ]
     },
     "execution_count": 20,
     "metadata": {},
     "output_type": "execute_result"
    }
   ],
   "source": [
    "tf.cast(a, tf.float32)"
   ]
  },
  {
   "cell_type": "markdown",
   "metadata": {},
   "source": [
    "布尔类型和整数类型的转换："
   ]
  },
  {
   "cell_type": "code",
   "execution_count": 21,
   "metadata": {},
   "outputs": [
    {
     "data": {
      "text/plain": [
       "<tf.Tensor: id=29, shape=(2,), dtype=int8, numpy=array([1, 0], dtype=int8)>"
      ]
     },
     "execution_count": 21,
     "metadata": {},
     "output_type": "execute_result"
    }
   ],
   "source": [
    "a = tf.constant([True, False])\n",
    "tf.cast(a, tf.int8)"
   ]
  },
  {
   "cell_type": "markdown",
   "metadata": {},
   "source": [
    "非0数字都是True:"
   ]
  },
  {
   "cell_type": "code",
   "execution_count": 22,
   "metadata": {},
   "outputs": [
    {
     "data": {
      "text/plain": [
       "<tf.Tensor: id=32, shape=(4,), dtype=bool, numpy=array([ True,  True,  True, False])>"
      ]
     },
     "execution_count": 22,
     "metadata": {},
     "output_type": "execute_result"
    }
   ],
   "source": [
    "tf.cast([1, 2, -1 , 0], tf.bool)"
   ]
  },
  {
   "cell_type": "markdown",
   "metadata": {},
   "source": [
    "待优化张量："
   ]
  },
  {
   "cell_type": "code",
   "execution_count": 23,
   "metadata": {},
   "outputs": [
    {
     "data": {
      "text/plain": [
       "('Variable:0', True)"
      ]
     },
     "execution_count": 23,
     "metadata": {},
     "output_type": "execute_result"
    }
   ],
   "source": [
    "a = tf.constant([1,2,3,4])\n",
    "aa = tf.Variable(a)\n",
    "aa.name, aa.trainable"
   ]
  },
  {
   "cell_type": "markdown",
   "metadata": {},
   "source": [
    "2. 创建张量。"
   ]
  },
  {
   "cell_type": "markdown",
   "metadata": {},
   "source": [
    "从numpy array中创建："
   ]
  },
  {
   "cell_type": "code",
   "execution_count": 24,
   "metadata": {},
   "outputs": [
    {
     "data": {
      "text/plain": [
       "<tf.Tensor: id=42, shape=(2, 2), dtype=float64, numpy=\n",
       "array([[1., 2.],\n",
       "       [3., 4.]])>"
      ]
     },
     "execution_count": 24,
     "metadata": {},
     "output_type": "execute_result"
    }
   ],
   "source": [
    "tf.convert_to_tensor(np.array([[1,2], [3.,4]]))"
   ]
  },
  {
   "cell_type": "markdown",
   "metadata": {},
   "source": [
    "创建全0，1标量："
   ]
  },
  {
   "cell_type": "code",
   "execution_count": 25,
   "metadata": {},
   "outputs": [
    {
     "data": {
      "text/plain": [
       "(<tf.Tensor: id=44, shape=(), dtype=float32, numpy=0.0>,\n",
       " <tf.Tensor: id=45, shape=(), dtype=float32, numpy=1.0>)"
      ]
     },
     "execution_count": 25,
     "metadata": {},
     "output_type": "execute_result"
    }
   ],
   "source": [
    "tf.zeros([]),tf.ones([])"
   ]
  },
  {
   "cell_type": "markdown",
   "metadata": {},
   "source": [
    "创建全0，1向量："
   ]
  },
  {
   "cell_type": "code",
   "execution_count": 26,
   "metadata": {},
   "outputs": [
    {
     "data": {
      "text/plain": [
       "(<tf.Tensor: id=50, shape=(2,), dtype=float32, numpy=array([0., 0.], dtype=float32)>,\n",
       " <tf.Tensor: id=53, shape=(3,), dtype=float32, numpy=array([1., 1., 1.], dtype=float32)>)"
      ]
     },
     "execution_count": 26,
     "metadata": {},
     "output_type": "execute_result"
    }
   ],
   "source": [
    "tf.zeros([2]),tf.ones([3])"
   ]
  },
  {
   "cell_type": "markdown",
   "metadata": {},
   "source": [
    "创建全0，1矩阵："
   ]
  },
  {
   "cell_type": "code",
   "execution_count": 27,
   "metadata": {},
   "outputs": [
    {
     "data": {
      "text/plain": [
       "(<tf.Tensor: id=58, shape=(2, 3), dtype=float32, numpy=\n",
       " array([[0., 0., 0.],\n",
       "        [0., 0., 0.]], dtype=float32)>,\n",
       " <tf.Tensor: id=61, shape=(3, 3), dtype=float32, numpy=\n",
       " array([[1., 1., 1.],\n",
       "        [1., 1., 1.],\n",
       "        [1., 1., 1.]], dtype=float32)>)"
      ]
     },
     "execution_count": 27,
     "metadata": {},
     "output_type": "execute_result"
    }
   ],
   "source": [
    "tf.zeros([2,3]),tf.ones([3,3])"
   ]
  },
  {
   "cell_type": "markdown",
   "metadata": {},
   "source": [
    "创建和某个张量shape一致的全0，1张量："
   ]
  },
  {
   "cell_type": "code",
   "execution_count": 28,
   "metadata": {},
   "outputs": [
    {
     "data": {
      "text/plain": [
       "<tf.Tensor: id=64, shape=(4,), dtype=int32, numpy=array([0, 0, 0, 0])>"
      ]
     },
     "execution_count": 28,
     "metadata": {},
     "output_type": "execute_result"
    }
   ],
   "source": [
    "tf.zeros_like(a)"
   ]
  },
  {
   "cell_type": "markdown",
   "metadata": {},
   "source": [
    "创建自定义数值的张量："
   ]
  },
  {
   "cell_type": "code",
   "execution_count": 29,
   "metadata": {},
   "outputs": [
    {
     "data": {
      "text/plain": [
       "<tf.Tensor: id=68, shape=(4,), dtype=int32, numpy=array([-1, -1, -1, -1])>"
      ]
     },
     "execution_count": 29,
     "metadata": {},
     "output_type": "execute_result"
    }
   ],
   "source": [
    "tf.fill(tf.shape(a), -1)"
   ]
  },
  {
   "cell_type": "code",
   "execution_count": 30,
   "metadata": {},
   "outputs": [
    {
     "data": {
      "text/plain": [
       "<tf.Tensor: id=72, shape=(), dtype=int32, numpy=-2>"
      ]
     },
     "execution_count": 30,
     "metadata": {},
     "output_type": "execute_result"
    }
   ],
   "source": [
    "tf.fill([], -2)"
   ]
  },
  {
   "cell_type": "code",
   "execution_count": 31,
   "metadata": {},
   "outputs": [
    {
     "data": {
      "text/plain": [
       "<tf.Tensor: id=76, shape=(2, 2), dtype=int32, numpy=\n",
       "array([[-1, -1],\n",
       "       [-1, -1]])>"
      ]
     },
     "execution_count": 31,
     "metadata": {},
     "output_type": "execute_result"
    }
   ],
   "source": [
    "tf.fill([2,2], -1)"
   ]
  },
  {
   "cell_type": "markdown",
   "metadata": {},
   "source": [
    "创建正太分布的张量："
   ]
  },
  {
   "cell_type": "code",
   "execution_count": 32,
   "metadata": {},
   "outputs": [
    {
     "data": {
      "text/plain": [
       "<tf.Tensor: id=83, shape=(3, 3), dtype=float32, numpy=\n",
       "array([[-2.0249934 , -0.3333491 , -2.7344513 ],\n",
       "       [-0.75663704, -0.16990145,  0.76856077],\n",
       "       [ 0.35646287,  1.6815854 ,  0.0954161 ]], dtype=float32)>"
      ]
     },
     "execution_count": 32,
     "metadata": {},
     "output_type": "execute_result"
    }
   ],
   "source": [
    "tf.random.normal([3,3], mean=0, stddev=1)"
   ]
  },
  {
   "cell_type": "markdown",
   "metadata": {},
   "source": [
    "创建均匀分布的张量："
   ]
  },
  {
   "cell_type": "code",
   "execution_count": 33,
   "metadata": {},
   "outputs": [
    {
     "data": {
      "text/plain": [
       "<tf.Tensor: id=91, shape=(2, 2), dtype=float32, numpy=\n",
       "array([[0.2696942 , 0.05701089],\n",
       "       [0.26538098, 0.08357155]], dtype=float32)>"
      ]
     },
     "execution_count": 33,
     "metadata": {},
     "output_type": "execute_result"
    }
   ],
   "source": [
    "tf.random.uniform([2,2], minval=0, maxval=1, dtype=tf.float32)"
   ]
  },
  {
   "cell_type": "markdown",
   "metadata": {},
   "source": [
    "创建序列;"
   ]
  },
  {
   "cell_type": "code",
   "execution_count": 34,
   "metadata": {},
   "outputs": [
    {
     "data": {
      "text/plain": [
       "<tf.Tensor: id=96, shape=(10,), dtype=int32, numpy=array([0, 1, 2, 3, 4, 5, 6, 7, 8, 9])>"
      ]
     },
     "execution_count": 34,
     "metadata": {},
     "output_type": "execute_result"
    }
   ],
   "source": [
    "tf.range(10)"
   ]
  },
  {
   "cell_type": "code",
   "execution_count": 35,
   "metadata": {},
   "outputs": [
    {
     "data": {
      "text/plain": [
       "<tf.Tensor: id=101, shape=(10,), dtype=int32, numpy=array([0, 1, 2, 3, 4, 5, 6, 7, 8, 9])>"
      ]
     },
     "execution_count": 35,
     "metadata": {},
     "output_type": "execute_result"
    }
   ],
   "source": [
    "tf.range(0, 10, delta=1)"
   ]
  },
  {
   "cell_type": "markdown",
   "metadata": {},
   "source": [
    "3.张量的典型应用。"
   ]
  },
  {
   "cell_type": "markdown",
   "metadata": {},
   "source": [
    "矩阵也是非常常见的张量类型，比如全连接层的批量输入𝑋 = [𝑏, $𝑑_{𝑖𝑛}$ ]，其中𝑏表示输入\n",
    "样本的个数，即batch size，$𝑑_{𝑖𝑛}$表示输入特征的长度。比如特征长度为4，一共包含2 个样\n",
    "本的输入可以表示为矩阵："
   ]
  },
  {
   "cell_type": "code",
   "execution_count": 36,
   "metadata": {},
   "outputs": [],
   "source": [
    "x = tf.random.normal([2, 4])"
   ]
  },
  {
   "cell_type": "markdown",
   "metadata": {},
   "source": [
    "假设输入有3个节点，则w表示为:"
   ]
  },
  {
   "cell_type": "code",
   "execution_count": 37,
   "metadata": {},
   "outputs": [],
   "source": [
    "w = tf.ones([4, 3])"
   ]
  },
  {
   "cell_type": "markdown",
   "metadata": {},
   "source": [
    "b表示为："
   ]
  },
  {
   "cell_type": "code",
   "execution_count": 38,
   "metadata": {},
   "outputs": [],
   "source": [
    "b = tf.zeros([3])"
   ]
  },
  {
   "cell_type": "code",
   "execution_count": 39,
   "metadata": {},
   "outputs": [
    {
     "data": {
      "text/plain": [
       "<tf.Tensor: id=116, shape=(2, 3), dtype=float32, numpy=\n",
       "array([[-2.2087054 , -2.2087054 , -2.2087054 ],\n",
       "       [ 0.45700884,  0.45700884,  0.45700884]], dtype=float32)>"
      ]
     },
     "execution_count": 39,
     "metadata": {},
     "output_type": "execute_result"
    }
   ],
   "source": [
    "o = x@w + b\n",
    "o"
   ]
  },
  {
   "cell_type": "markdown",
   "metadata": {},
   "source": [
    "图片的处理，例如4张32*32的彩色图片："
   ]
  },
  {
   "cell_type": "code",
   "execution_count": 40,
   "metadata": {},
   "outputs": [
    {
     "data": {
      "text/plain": [
       "TensorShape([4, 30, 30, 16])"
      ]
     },
     "execution_count": 40,
     "metadata": {},
     "output_type": "execute_result"
    }
   ],
   "source": [
    "x = tf.random.normal([4, 32, 32, 3])\n",
    "layer = layers.Conv2D(16, kernel_size=3)\n",
    "out = layer(x)\n",
    "out.shape"
   ]
  },
  {
   "cell_type": "markdown",
   "metadata": {},
   "source": [
    "可以访问卷积核张量："
   ]
  },
  {
   "cell_type": "code",
   "execution_count": 41,
   "metadata": {},
   "outputs": [
    {
     "data": {
      "text/plain": [
       "TensorShape([3, 3, 3, 16])"
      ]
     },
     "execution_count": 41,
     "metadata": {},
     "output_type": "execute_result"
    }
   ],
   "source": [
    "layer.kernel.shape"
   ]
  },
  {
   "cell_type": "markdown",
   "metadata": {},
   "source": [
    "4.张量的索引和切片。"
   ]
  },
  {
   "cell_type": "code",
   "execution_count": 42,
   "metadata": {},
   "outputs": [],
   "source": [
    "x = tf.random.normal([4, 32, 32, 3])"
   ]
  },
  {
   "cell_type": "markdown",
   "metadata": {},
   "source": [
    "取第一张图片数据："
   ]
  },
  {
   "cell_type": "code",
   "execution_count": 43,
   "metadata": {},
   "outputs": [
    {
     "data": {
      "text/plain": [
       "<tf.Tensor: id=161, shape=(32, 32, 3), dtype=float32, numpy=\n",
       "array([[[ 0.09448941, -0.07198378,  0.3972607 ],\n",
       "        [-0.881061  , -0.5349489 ,  0.6665005 ],\n",
       "        [-0.9721283 , -2.630834  , -0.11351258],\n",
       "        ...,\n",
       "        [ 1.6612664 ,  0.4118362 , -0.21476318],\n",
       "        [ 1.5897295 ,  0.32726958, -0.45773008],\n",
       "        [ 1.7548053 , -0.19228351,  1.9320621 ]],\n",
       "\n",
       "       [[-1.8597443 , -1.0506842 ,  0.20765679],\n",
       "        [-1.0137815 ,  0.88383424,  0.3740964 ],\n",
       "        [-1.542704  , -0.7860946 ,  0.22205907],\n",
       "        ...,\n",
       "        [-1.0571097 ,  0.38986793,  1.1456537 ],\n",
       "        [ 0.14960378, -1.0282735 , -0.36515057],\n",
       "        [ 0.3787227 , -1.1982152 , -0.3405726 ]],\n",
       "\n",
       "       [[-0.8443849 , -0.24177913, -2.048773  ],\n",
       "        [-0.32925543, -0.43694267, -0.4417162 ],\n",
       "        [ 1.0812519 , -0.09232543, -1.1789254 ],\n",
       "        ...,\n",
       "        [-0.14665832,  0.7175042 , -0.19737975],\n",
       "        [ 0.90199935, -0.03110392,  0.42211524],\n",
       "        [-0.8859993 , -0.24452367, -0.14426196]],\n",
       "\n",
       "       ...,\n",
       "\n",
       "       [[ 1.1212262 ,  1.4693388 ,  0.8676901 ],\n",
       "        [ 1.2367675 ,  1.3096713 ,  0.00968814],\n",
       "        [ 0.5854554 ,  0.9042314 ,  0.21322414],\n",
       "        ...,\n",
       "        [ 1.9356006 , -0.50476795,  1.4852457 ],\n",
       "        [ 0.58998275, -1.2430702 ,  0.04732546],\n",
       "        [-2.082846  , -0.8209936 ,  0.08275684]],\n",
       "\n",
       "       [[ 0.7298779 ,  0.83049864,  0.99213284],\n",
       "        [-1.1473346 , -0.08907076,  1.221723  ],\n",
       "        [ 0.6017457 , -0.806605  ,  1.1725618 ],\n",
       "        ...,\n",
       "        [ 0.09357981, -0.57463974,  0.14177614],\n",
       "        [-1.1218258 ,  1.0810956 , -1.2407125 ],\n",
       "        [ 2.1482666 , -0.13958971,  0.5010238 ]],\n",
       "\n",
       "       [[-0.820447  , -1.0747949 , -0.39601246],\n",
       "        [ 0.2935682 ,  0.88277346, -0.9231461 ],\n",
       "        [-1.0426456 , -0.70283425, -1.6901947 ],\n",
       "        ...,\n",
       "        [-0.28636813,  0.4397474 ,  0.73303527],\n",
       "        [ 1.6156517 , -1.3859243 , -0.18387507],\n",
       "        [-1.1120108 , -0.2300638 ,  1.2575387 ]]], dtype=float32)>"
      ]
     },
     "execution_count": 43,
     "metadata": {},
     "output_type": "execute_result"
    }
   ],
   "source": [
    "x[0]"
   ]
  },
  {
   "cell_type": "markdown",
   "metadata": {},
   "source": [
    "取第一张图片的第二行："
   ]
  },
  {
   "cell_type": "code",
   "execution_count": 44,
   "metadata": {},
   "outputs": [
    {
     "data": {
      "text/plain": [
       "<tf.Tensor: id=170, shape=(32, 3), dtype=float32, numpy=\n",
       "array([[-1.8597443 , -1.0506842 ,  0.20765679],\n",
       "       [-1.0137815 ,  0.88383424,  0.3740964 ],\n",
       "       [-1.542704  , -0.7860946 ,  0.22205907],\n",
       "       [-0.4911616 , -0.8200738 , -1.4751756 ],\n",
       "       [ 0.20182317,  0.12023496,  0.36576235],\n",
       "       [-0.15585935,  0.70501333, -0.1650768 ],\n",
       "       [-0.6385383 ,  0.14929692, -0.35914293],\n",
       "       [-0.202073  , -0.09118687,  0.70976377],\n",
       "       [-0.3022434 , -0.159974  ,  0.7108591 ],\n",
       "       [-0.7926795 ,  0.20133509,  0.05820744],\n",
       "       [ 0.4347381 , -0.75582105,  0.94135654],\n",
       "       [ 1.5125794 ,  1.3149359 , -0.36251894],\n",
       "       [-0.39134675,  0.20305203, -0.5931936 ],\n",
       "       [-1.8405795 ,  1.2775186 ,  1.1569258 ],\n",
       "       [-0.46200997,  0.6989832 ,  0.6044338 ],\n",
       "       [-1.3954263 , -0.69763917, -0.4060376 ],\n",
       "       [-0.42573   ,  1.5375113 ,  0.53119236],\n",
       "       [ 1.1542703 ,  0.03604562,  0.22716703],\n",
       "       [-1.0695527 , -0.85941714,  2.3088007 ],\n",
       "       [ 2.5183663 ,  0.20178524,  0.84622025],\n",
       "       [-0.2190971 ,  1.4456923 , -0.45126915],\n",
       "       [ 0.94403404, -0.43584836,  0.47301793],\n",
       "       [ 0.83605355, -0.9077741 , -0.00636716],\n",
       "       [ 0.42812932, -1.8231658 ,  1.1214157 ],\n",
       "       [ 0.59636796, -0.29735544, -1.2036557 ],\n",
       "       [ 0.70866084, -1.4271556 , -0.47462177],\n",
       "       [ 1.2951467 ,  2.6196382 , -0.8078839 ],\n",
       "       [-0.7068731 ,  1.3528711 ,  0.1372447 ],\n",
       "       [ 1.3454733 ,  1.0972823 ,  0.79810035],\n",
       "       [-1.0571097 ,  0.38986793,  1.1456537 ],\n",
       "       [ 0.14960378, -1.0282735 , -0.36515057],\n",
       "       [ 0.3787227 , -1.1982152 , -0.3405726 ]], dtype=float32)>"
      ]
     },
     "execution_count": 44,
     "metadata": {},
     "output_type": "execute_result"
    }
   ],
   "source": [
    "x[0][1]"
   ]
  },
  {
   "cell_type": "markdown",
   "metadata": {},
   "source": [
    "取第一张图片的第二行，第四列的像素："
   ]
  },
  {
   "cell_type": "code",
   "execution_count": 45,
   "metadata": {},
   "outputs": [
    {
     "data": {
      "text/plain": [
       "<tf.Tensor: id=183, shape=(3,), dtype=float32, numpy=array([-0.4911616, -0.8200738, -1.4751756], dtype=float32)>"
      ]
     },
     "execution_count": 45,
     "metadata": {},
     "output_type": "execute_result"
    }
   ],
   "source": [
    "x[0][1][3]"
   ]
  },
  {
   "cell_type": "markdown",
   "metadata": {},
   "source": [
    "取第一张图片的第二行，第四列的像素的B通道值："
   ]
  },
  {
   "cell_type": "code",
   "execution_count": 46,
   "metadata": {},
   "outputs": [
    {
     "data": {
      "text/plain": [
       "<tf.Tensor: id=200, shape=(), dtype=float32, numpy=-1.4751756>"
      ]
     },
     "execution_count": 46,
     "metadata": {},
     "output_type": "execute_result"
    }
   ],
   "source": [
    "x[0][1][3][2]"
   ]
  },
  {
   "cell_type": "markdown",
   "metadata": {},
   "source": [
    "也可以这样写："
   ]
  },
  {
   "cell_type": "code",
   "execution_count": 47,
   "metadata": {},
   "outputs": [
    {
     "data": {
      "text/plain": [
       "<tf.Tensor: id=205, shape=(), dtype=float32, numpy=-1.4751756>"
      ]
     },
     "execution_count": 47,
     "metadata": {},
     "output_type": "execute_result"
    }
   ],
   "source": [
    "x[0,1,3,2]"
   ]
  },
  {
   "cell_type": "markdown",
   "metadata": {},
   "source": [
    "第二个样本隔行隔列采样："
   ]
  },
  {
   "cell_type": "code",
   "execution_count": 48,
   "metadata": {},
   "outputs": [
    {
     "data": {
      "text/plain": [
       "<tf.Tensor: id=210, shape=(14, 14, 3), dtype=float32, numpy=\n",
       "array([[[ 0.73401654, -1.2058098 , -0.5221599 ],\n",
       "        [ 0.08795831, -0.39415658,  1.5225447 ],\n",
       "        [-0.5425426 ,  0.54277736,  0.2632363 ],\n",
       "        [-0.29333863, -0.33964312, -1.6562107 ],\n",
       "        [ 0.49850878,  0.75241816,  0.01324889],\n",
       "        [ 1.2416129 , -0.55015546, -0.26181814],\n",
       "        [-0.38838902,  0.0732642 ,  0.48705658],\n",
       "        [ 0.08408777, -0.7319648 ,  0.41697916],\n",
       "        [ 0.33777183,  0.32103515, -0.23179603],\n",
       "        [-1.9895552 , -0.1932585 , -1.7176075 ],\n",
       "        [ 0.77944005,  0.21368891, -1.0395972 ],\n",
       "        [ 0.4534441 , -0.0097742 ,  0.55667764],\n",
       "        [-0.33639917,  0.59099436,  2.9079356 ],\n",
       "        [-0.1502137 , -0.46802855, -1.4732088 ]],\n",
       "\n",
       "       [[-0.2292678 , -1.3442638 ,  0.55780834],\n",
       "        [-0.5668638 , -0.15558267,  0.2628339 ],\n",
       "        [-0.16742676, -0.08834255, -1.1184311 ],\n",
       "        [ 0.3500412 ,  0.28145352, -0.56560695],\n",
       "        [ 0.14007543,  1.9112685 ,  1.801863  ],\n",
       "        [ 0.0930177 ,  0.8193083 ,  0.6093767 ],\n",
       "        [ 1.8191555 ,  0.02747148,  0.13271175],\n",
       "        [ 0.26224625, -1.1552525 , -1.08201   ],\n",
       "        [ 0.01579576,  0.05242585, -0.22887309],\n",
       "        [ 1.0209019 , -1.4696083 ,  0.95608246],\n",
       "        [ 2.0896552 ,  0.8709597 ,  0.81083035],\n",
       "        [-0.18489994,  0.6665827 , -1.2024164 ],\n",
       "        [-1.4264597 ,  1.0767055 , -1.0394578 ],\n",
       "        [ 0.3521745 , -0.14794229, -0.23139343]],\n",
       "\n",
       "       [[ 1.1452302 , -0.530884  ,  1.1842282 ],\n",
       "        [-0.07879575, -0.70479906,  0.8064103 ],\n",
       "        [ 0.8757308 , -1.2636448 , -0.22158861],\n",
       "        [ 0.45366183,  0.9766526 , -1.0837389 ],\n",
       "        [ 0.11880679,  1.6673152 , -0.39766052],\n",
       "        [-1.0879834 , -0.14844632,  0.2213718 ],\n",
       "        [ 0.37012208, -1.480084  ,  0.83981633],\n",
       "        [ 0.50659573, -1.3581253 , -0.27368695],\n",
       "        [-1.668121  ,  0.17649661,  1.8625544 ],\n",
       "        [ 0.52322984, -0.01037397,  0.920388  ],\n",
       "        [-0.75892484, -2.175963  ,  1.1883291 ],\n",
       "        [-0.52512884, -0.80378664, -1.1850806 ],\n",
       "        [-1.0097251 ,  0.5754499 , -0.00955748],\n",
       "        [ 1.461946  , -0.21652685, -0.5111727 ]],\n",
       "\n",
       "       [[ 0.8557104 , -0.75888485, -1.4919889 ],\n",
       "        [-0.22144644, -0.3219587 , -1.3853528 ],\n",
       "        [ 1.6785684 , -1.2664572 , -0.29663232],\n",
       "        [ 0.7805609 ,  0.04210235, -1.2056623 ],\n",
       "        [ 0.32796758,  1.5287731 ,  0.5816619 ],\n",
       "        [ 1.040579  ,  1.0520258 ,  1.1565748 ],\n",
       "        [ 0.00320778,  1.7926599 ,  0.8641387 ],\n",
       "        [-0.2939506 , -1.252511  , -1.0369133 ],\n",
       "        [-1.1625396 ,  0.5182703 , -0.47045228],\n",
       "        [-0.3545145 ,  0.7058354 ,  0.24047013],\n",
       "        [-0.60387045, -1.0354755 ,  2.0942547 ],\n",
       "        [ 1.182921  , -0.06509451, -2.0883038 ],\n",
       "        [-0.37440926, -0.68471766, -0.07987981],\n",
       "        [-0.29618746, -2.128958  , -0.03269171]],\n",
       "\n",
       "       [[-0.84263355,  2.867665  ,  0.8699865 ],\n",
       "        [-0.56539106,  1.4306053 , -0.7645883 ],\n",
       "        [ 1.7579104 ,  0.4936852 , -0.02682313],\n",
       "        [-1.5822635 , -0.21882324, -0.29257843],\n",
       "        [-0.9257548 , -0.09702571, -0.03894506],\n",
       "        [ 1.0353082 , -0.04832215, -1.0028212 ],\n",
       "        [-0.45298523, -0.2819826 ,  2.0549767 ],\n",
       "        [-0.41315925, -0.11279409,  0.20507376],\n",
       "        [-0.48789927, -1.4912457 , -0.24545208],\n",
       "        [ 2.5751097 , -0.3697129 , -0.11225741],\n",
       "        [-0.462812  , -0.77187854, -0.03844988],\n",
       "        [-1.2030822 , -0.58742493, -0.6630587 ],\n",
       "        [ 0.88874775, -1.5021318 , -0.6894828 ],\n",
       "        [-0.04164744,  0.91488653,  1.1765081 ]],\n",
       "\n",
       "       [[ 0.54942113, -1.6080083 , -0.8867219 ],\n",
       "        [ 0.67615336, -0.5125072 , -0.1954175 ],\n",
       "        [ 1.2736018 , -0.51634806, -1.4405991 ],\n",
       "        [ 1.4067668 , -0.3618564 , -0.42183116],\n",
       "        [ 0.58233356, -0.19266202, -0.53676367],\n",
       "        [ 0.07412265,  0.49819282, -0.2932586 ],\n",
       "        [-0.00463003, -0.63010347, -0.55986506],\n",
       "        [ 0.13243896, -0.9054722 , -0.9500312 ],\n",
       "        [ 1.8725854 , -0.4216672 ,  0.3340391 ],\n",
       "        [-0.5928919 ,  0.56617725,  0.4002201 ],\n",
       "        [-0.11326427,  0.8600832 ,  0.49624297],\n",
       "        [ 0.4066801 ,  1.2781962 , -1.0872439 ],\n",
       "        [-0.38316867, -0.41949102,  0.57778484],\n",
       "        [ 0.71804553, -1.2168901 ,  0.8383258 ]],\n",
       "\n",
       "       [[-0.04902472, -1.6468117 ,  0.32933563],\n",
       "        [-0.4497529 , -2.4045663 ,  1.3219272 ],\n",
       "        [-2.1299794 ,  1.1545863 , -0.11236675],\n",
       "        [-0.77785873,  1.0593461 , -1.6103945 ],\n",
       "        [ 0.9721052 , -0.51321614, -0.5665411 ],\n",
       "        [ 0.698064  , -0.54846036,  0.01615062],\n",
       "        [-0.4286339 , -1.6531821 ,  0.02435492],\n",
       "        [-0.04955144, -0.46153215,  0.01972074],\n",
       "        [-0.39347225,  1.4028851 , -0.30088806],\n",
       "        [ 1.9238071 ,  0.5553906 , -0.9243334 ],\n",
       "        [ 0.8451929 , -0.24458267,  1.8232372 ],\n",
       "        [ 1.2873263 ,  1.5666987 , -1.055901  ],\n",
       "        [-0.30455345, -0.89396495, -0.8359404 ],\n",
       "        [ 2.076538  , -0.7134231 ,  2.8351767 ]],\n",
       "\n",
       "       [[-0.74341524,  0.08094881,  0.647334  ],\n",
       "        [ 0.26637188, -1.0730512 ,  0.7369209 ],\n",
       "        [ 2.135556  ,  0.00353982,  0.75486046],\n",
       "        [ 0.65235275, -1.3169622 ,  0.08119612],\n",
       "        [-0.12033124, -0.2144178 , -0.26856646],\n",
       "        [-0.16350165, -0.01315878,  0.37224734],\n",
       "        [ 0.2901791 ,  0.9309903 , -0.57336724],\n",
       "        [ 0.53642964, -0.40928835, -0.22697571],\n",
       "        [ 1.4981953 ,  1.0814037 , -0.74000186],\n",
       "        [-1.8376107 , -0.14753477, -0.6259752 ],\n",
       "        [ 1.0941064 ,  1.2791188 ,  0.12103152],\n",
       "        [ 0.5334688 ,  0.57558715, -0.8445546 ],\n",
       "        [ 0.7159359 , -0.60815674, -2.573736  ],\n",
       "        [-0.94673353,  0.7542651 ,  1.0839576 ]],\n",
       "\n",
       "       [[ 3.0035186 , -0.12202206, -0.1994429 ],\n",
       "        [-0.12646925, -0.6055146 , -0.2824139 ],\n",
       "        [-0.44431767, -0.11562721, -0.16844666],\n",
       "        [ 1.0809181 , -0.28878233, -1.2344966 ],\n",
       "        [ 0.76164204, -1.9531606 , -1.9684849 ],\n",
       "        [-0.45910814, -0.48311773,  0.6200487 ],\n",
       "        [-0.220215  , -1.4226918 , -1.3286381 ],\n",
       "        [ 0.5415154 ,  0.16956325,  0.95101833],\n",
       "        [-1.3050463 ,  0.6245165 ,  0.82245487],\n",
       "        [ 1.0656254 ,  0.06922254,  0.1650721 ],\n",
       "        [-0.37763762, -0.45717445,  0.54899925],\n",
       "        [-1.1886178 ,  0.25564426, -1.3455911 ],\n",
       "        [-1.8476256 , -0.05149551, -0.6027871 ],\n",
       "        [-0.87987494,  0.3706455 , -0.52869326]],\n",
       "\n",
       "       [[-0.6256575 ,  1.3102525 , -0.8283713 ],\n",
       "        [-0.15632108, -0.61737645,  0.44831648],\n",
       "        [ 1.7989564 , -0.06478065,  0.9998537 ],\n",
       "        [ 1.2624125 , -0.12284657, -0.6965201 ],\n",
       "        [ 1.2271866 ,  1.0646273 ,  0.08117249],\n",
       "        [-2.13672   , -0.9409572 , -1.0816525 ],\n",
       "        [-0.5943018 ,  2.1010985 , -0.44661254],\n",
       "        [-0.9565981 ,  1.7025676 , -0.3531762 ],\n",
       "        [ 0.7042515 ,  0.08654577, -0.43772107],\n",
       "        [ 1.8279377 ,  0.5736733 ,  1.5351267 ],\n",
       "        [-0.51815826,  0.48391297, -0.5701039 ],\n",
       "        [-0.06099933, -1.4610214 , -1.36587   ],\n",
       "        [ 0.5427955 , -0.25040781,  0.2579847 ],\n",
       "        [ 0.33456227,  2.1891015 ,  0.6886965 ]],\n",
       "\n",
       "       [[-0.16839491, -0.4131269 , -0.23769757],\n",
       "        [-1.0918047 , -0.1299258 , -0.5735416 ],\n",
       "        [-0.35278127, -0.27886108, -0.97127336],\n",
       "        [ 0.37389237,  1.0371107 , -0.0665618 ],\n",
       "        [ 0.22960205, -0.7131918 , -1.2929485 ],\n",
       "        [ 0.31186518,  0.14924379, -0.4157334 ],\n",
       "        [-0.54956645,  0.48210663,  0.1718378 ],\n",
       "        [-0.4623374 , -1.2941446 ,  1.5826162 ],\n",
       "        [-0.16323012, -0.16359021, -0.04147321],\n",
       "        [ 0.4918232 , -0.85381347,  0.6676976 ],\n",
       "        [-0.41119888, -1.302535  ,  0.05707515],\n",
       "        [ 1.3817909 ,  0.12500492,  0.09834325],\n",
       "        [ 1.2156146 ,  1.5453361 ,  0.46262065],\n",
       "        [ 1.1211759 , -1.091858  , -0.13169453]],\n",
       "\n",
       "       [[ 1.4819549 , -0.50636256,  0.4800407 ],\n",
       "        [ 0.5763292 , -0.20694114, -0.57862014],\n",
       "        [-1.4348605 , -0.38123238,  0.2971345 ],\n",
       "        [ 1.6370348 ,  0.38020015, -0.5698685 ],\n",
       "        [ 1.0756079 , -0.3039368 ,  0.07830828],\n",
       "        [ 1.053407  ,  0.16564146, -1.1520807 ],\n",
       "        [ 0.21957877, -1.1960298 , -0.5960233 ],\n",
       "        [ 0.40797356, -0.2810303 ,  0.02625634],\n",
       "        [-1.9934385 ,  1.4108654 ,  1.4537282 ],\n",
       "        [-0.7117275 , -0.40872917,  0.6612727 ],\n",
       "        [-0.3196661 ,  0.07856109,  1.6517384 ],\n",
       "        [ 2.194966  , -0.82545406, -1.1482307 ],\n",
       "        [-1.332434  , -0.85455877, -0.25751108],\n",
       "        [ 0.37872276, -0.4457292 , -0.27140242]],\n",
       "\n",
       "       [[-0.02840793, -1.6346146 , -0.8940021 ],\n",
       "        [ 1.394297  , -0.859877  , -0.3004717 ],\n",
       "        [-1.5402573 , -0.44156045, -0.5078163 ],\n",
       "        [-0.8454731 ,  0.8764238 ,  1.0171639 ],\n",
       "        [ 0.72494096,  0.8942122 ,  0.24444854],\n",
       "        [ 1.088404  ,  1.4197439 , -2.8866248 ],\n",
       "        [ 0.43883064, -1.8459721 ,  0.29555488],\n",
       "        [-0.7125788 , -0.1933485 , -1.2271849 ],\n",
       "        [-1.4477677 , -0.90682054, -0.88612163],\n",
       "        [ 1.3786856 ,  0.75735044,  0.5680051 ],\n",
       "        [ 1.4807708 ,  1.7229737 , -0.10642868],\n",
       "        [ 1.9585029 , -0.4052992 , -0.73723537],\n",
       "        [-0.9157111 , -1.1357125 , -0.18655251],\n",
       "        [ 0.74324363,  1.4432561 ,  0.9900941 ]],\n",
       "\n",
       "       [[ 0.39881545,  1.4333165 , -0.82590675],\n",
       "        [-1.4615222 ,  0.26942405,  0.78074235],\n",
       "        [-0.18998441,  0.35713992, -1.5031416 ],\n",
       "        [-0.28606558,  0.36195278, -1.7456628 ],\n",
       "        [-0.17887014,  0.6484411 ,  0.2929395 ],\n",
       "        [-0.68846464, -1.2769465 , -1.33447   ],\n",
       "        [ 0.49200782,  0.07900291,  0.078726  ],\n",
       "        [-0.2724721 , -0.39722738,  0.59753746],\n",
       "        [-0.48668092,  0.823974  , -0.60613406],\n",
       "        [-0.83381104, -0.2789898 ,  0.84106874],\n",
       "        [ 0.86119604,  0.8531283 ,  0.9586336 ],\n",
       "        [ 1.069479  ,  0.54938656, -0.19635591],\n",
       "        [ 0.18826503, -0.75478786, -0.72052556],\n",
       "        [ 0.46050552,  1.2694567 , -0.6206316 ]]], dtype=float32)>"
      ]
     },
     "execution_count": 48,
     "metadata": {},
     "output_type": "execute_result"
    }
   ],
   "source": [
    "x[1, 0:28:2, 0:28:2,:]"
   ]
  },
  {
   "cell_type": "markdown",
   "metadata": {},
   "source": [
    "相当于在图片的高宽各缩放至原来的50%。"
   ]
  },
  {
   "cell_type": "markdown",
   "metadata": {},
   "source": [
    "step可以为负数:"
   ]
  },
  {
   "cell_type": "code",
   "execution_count": 49,
   "metadata": {},
   "outputs": [
    {
     "data": {
      "text/plain": [
       "<tf.Tensor: id=215, shape=(9,), dtype=int32, numpy=array([0, 1, 2, 3, 4, 5, 6, 7, 8])>"
      ]
     },
     "execution_count": 49,
     "metadata": {},
     "output_type": "execute_result"
    }
   ],
   "source": [
    "x = tf.range(9)\n",
    "x"
   ]
  },
  {
   "cell_type": "code",
   "execution_count": 50,
   "metadata": {},
   "outputs": [
    {
     "data": {
      "text/plain": [
       "<tf.Tensor: id=220, shape=(8,), dtype=int32, numpy=array([8, 7, 6, 5, 4, 3, 2, 1])>"
      ]
     },
     "execution_count": 50,
     "metadata": {},
     "output_type": "execute_result"
    }
   ],
   "source": [
    "x[8:0:-1]"
   ]
  },
  {
   "cell_type": "code",
   "execution_count": 51,
   "metadata": {},
   "outputs": [
    {
     "data": {
      "text/plain": [
       "<tf.Tensor: id=225, shape=(0,), dtype=int32, numpy=array([], dtype=int32)>"
      ]
     },
     "execution_count": 51,
     "metadata": {},
     "output_type": "execute_result"
    }
   ],
   "source": [
    "x[8:0:1]"
   ]
  },
  {
   "cell_type": "markdown",
   "metadata": {},
   "source": [
    "逆序间隔采样："
   ]
  },
  {
   "cell_type": "code",
   "execution_count": 52,
   "metadata": {},
   "outputs": [
    {
     "data": {
      "text/plain": [
       "<tf.Tensor: id=230, shape=(5,), dtype=int32, numpy=array([8, 6, 4, 2, 0])>"
      ]
     },
     "execution_count": 52,
     "metadata": {},
     "output_type": "execute_result"
    }
   ],
   "source": [
    "x[::-2]"
   ]
  },
  {
   "cell_type": "markdown",
   "metadata": {},
   "source": [
    "当维数过多，可以用...，例如读取第1,2张图片的G,B通道值："
   ]
  },
  {
   "cell_type": "code",
   "execution_count": 53,
   "metadata": {},
   "outputs": [
    {
     "data": {
      "text/plain": [
       "<tf.Tensor: id=241, shape=(2, 32, 32, 2), dtype=float32, numpy=\n",
       "array([[[[-8.3739078e-01, -9.0266508e-01],\n",
       "         [ 2.2082706e-01,  4.2596883e-01],\n",
       "         [ 3.1196231e-01,  9.3580496e-01],\n",
       "         ...,\n",
       "         [-1.2356512e-01, -1.4185637e+00],\n",
       "         [ 9.6177471e-01,  8.5953772e-02],\n",
       "         [-6.9855797e-01, -2.3623338e-02]],\n",
       "\n",
       "        [[-4.0964100e-01,  2.1698213e+00],\n",
       "         [ 1.3123107e+00,  5.7625491e-02],\n",
       "         [-8.2495779e-01,  6.8798256e-01],\n",
       "         ...,\n",
       "         [ 3.9232105e-01, -2.5460920e+00],\n",
       "         [-4.2220220e-01,  1.2378458e-01],\n",
       "         [ 1.4766570e+00, -9.6481472e-01]],\n",
       "\n",
       "        [[-1.8557934e+00, -1.3910984e+00],\n",
       "         [-4.6415305e-01, -2.7092078e-01],\n",
       "         [-1.0094086e+00,  8.0301523e-01],\n",
       "         ...,\n",
       "         [-5.3441072e-01, -3.1323653e-01],\n",
       "         [-1.7374965e+00,  2.3389568e-03],\n",
       "         [-5.7772070e-01, -2.3453806e-01]],\n",
       "\n",
       "        ...,\n",
       "\n",
       "        [[ 6.5552735e-01, -1.0250862e+00],\n",
       "         [-5.1775926e-01,  1.9002439e+00],\n",
       "         [ 5.7655782e-01, -4.4835114e-01],\n",
       "         ...,\n",
       "         [ 1.0620536e+00, -1.3240216e+00],\n",
       "         [ 2.5395510e-01, -4.9597014e-02],\n",
       "         [-2.1870555e-01,  7.6807272e-01]],\n",
       "\n",
       "        [[-7.8936869e-01, -8.8679361e-01],\n",
       "         [-6.1551166e-01, -5.6003851e-01],\n",
       "         [ 2.4714372e-01,  1.5070001e+00],\n",
       "         ...,\n",
       "         [-2.4382028e-01, -4.1683981e-01],\n",
       "         [ 1.1787410e+00, -1.9943622e+00],\n",
       "         [ 2.4998818e-02,  1.0441271e+00]],\n",
       "\n",
       "        [[-2.2572763e-02,  7.9774225e-01],\n",
       "         [-9.4201696e-01,  8.6346573e-01],\n",
       "         [ 1.7926722e+00, -7.0092446e-01],\n",
       "         ...,\n",
       "         [-2.7195236e-01, -1.6016939e+00],\n",
       "         [-3.8124228e-01, -1.6912240e-01],\n",
       "         [ 3.3409747e-01,  2.3188922e+00]]],\n",
       "\n",
       "\n",
       "       [[[ 7.9964256e-01,  4.6275744e-01],\n",
       "         [ 1.4781852e+00, -4.8206523e-01],\n",
       "         [-6.0265870e-03,  8.0318466e-02],\n",
       "         ...,\n",
       "         [-6.6292608e-01, -3.0679840e-01],\n",
       "         [-5.4448700e-01, -6.0562825e-01],\n",
       "         [-1.4527894e+00, -5.2433521e-01]],\n",
       "\n",
       "        [[ 1.9046107e-01,  4.2266083e-01],\n",
       "         [-1.4566423e+00,  1.4324205e-01],\n",
       "         [-2.3158157e+00,  1.6888916e+00],\n",
       "         ...,\n",
       "         [-7.6925777e-02, -3.2926506e-01],\n",
       "         [ 9.9821761e-02,  1.3801353e+00],\n",
       "         [-5.5728789e-02,  9.1964275e-01]],\n",
       "\n",
       "        [[ 1.3701156e+00, -3.4526360e-01],\n",
       "         [-4.8408842e-01,  6.8765825e-01],\n",
       "         [-1.2285302e+00,  5.3961056e-01],\n",
       "         ...,\n",
       "         [-6.7016982e-02,  7.9975772e-01],\n",
       "         [-1.0261341e+00,  9.4852053e-02],\n",
       "         [-1.1753176e+00,  1.8539984e+00]],\n",
       "\n",
       "        ...,\n",
       "\n",
       "        [[ 1.4727213e+00,  7.3777968e-01],\n",
       "         [-1.1083524e+00, -8.7972999e-01],\n",
       "         [-8.3977634e-01, -4.8252872e-01],\n",
       "         ...,\n",
       "         [ 4.5728925e-01, -1.1268681e+00],\n",
       "         [-7.5446102e-03,  5.2780497e-01],\n",
       "         [-4.2069200e-01, -2.0135799e-01]],\n",
       "\n",
       "        [[ 1.4577812e+00,  9.0165451e-02],\n",
       "         [-8.2426101e-01,  6.3961649e-01],\n",
       "         [-3.7993985e-01, -2.7175742e-01],\n",
       "         ...,\n",
       "         [ 8.4111780e-02, -1.2528174e+00],\n",
       "         [-8.2311136e-01, -9.8528576e-01],\n",
       "         [-7.1206939e-01, -1.6860056e+00]],\n",
       "\n",
       "        [[-2.6238017e+00, -1.8780636e+00],\n",
       "         [ 9.3128693e-01, -1.2607776e+00],\n",
       "         [-2.3177405e-01,  9.8020548e-01],\n",
       "         ...,\n",
       "         [-2.6499993e-01,  1.0091057e+00],\n",
       "         [-9.7585946e-01,  8.4194988e-01],\n",
       "         [-9.9746341e-01, -1.3762562e+00]]]], dtype=float32)>"
      ]
     },
     "execution_count": 53,
     "metadata": {},
     "output_type": "execute_result"
    }
   ],
   "source": [
    "x = tf.random.normal([4,32,32,3])\n",
    "x[0:2,...,1:]"
   ]
  },
  {
   "cell_type": "markdown",
   "metadata": {},
   "source": [
    "5.纬度变换。"
   ]
  },
  {
   "cell_type": "markdown",
   "metadata": {},
   "source": [
    "改变视图:"
   ]
  },
  {
   "cell_type": "code",
   "execution_count": 54,
   "metadata": {},
   "outputs": [
    {
     "data": {
      "text/plain": [
       "TensorShape([96])"
      ]
     },
     "execution_count": 54,
     "metadata": {},
     "output_type": "execute_result"
    }
   ],
   "source": [
    "x = tf.range(96)\n",
    "x.shape"
   ]
  },
  {
   "cell_type": "code",
   "execution_count": 55,
   "metadata": {},
   "outputs": [
    {
     "data": {
      "text/plain": [
       "<tf.Tensor: id=248, shape=(2, 4, 4, 3), dtype=int32, numpy=\n",
       "array([[[[ 0,  1,  2],\n",
       "         [ 3,  4,  5],\n",
       "         [ 6,  7,  8],\n",
       "         [ 9, 10, 11]],\n",
       "\n",
       "        [[12, 13, 14],\n",
       "         [15, 16, 17],\n",
       "         [18, 19, 20],\n",
       "         [21, 22, 23]],\n",
       "\n",
       "        [[24, 25, 26],\n",
       "         [27, 28, 29],\n",
       "         [30, 31, 32],\n",
       "         [33, 34, 35]],\n",
       "\n",
       "        [[36, 37, 38],\n",
       "         [39, 40, 41],\n",
       "         [42, 43, 44],\n",
       "         [45, 46, 47]]],\n",
       "\n",
       "\n",
       "       [[[48, 49, 50],\n",
       "         [51, 52, 53],\n",
       "         [54, 55, 56],\n",
       "         [57, 58, 59]],\n",
       "\n",
       "        [[60, 61, 62],\n",
       "         [63, 64, 65],\n",
       "         [66, 67, 68],\n",
       "         [69, 70, 71]],\n",
       "\n",
       "        [[72, 73, 74],\n",
       "         [75, 76, 77],\n",
       "         [78, 79, 80],\n",
       "         [81, 82, 83]],\n",
       "\n",
       "        [[84, 85, 86],\n",
       "         [87, 88, 89],\n",
       "         [90, 91, 92],\n",
       "         [93, 94, 95]]]])>"
      ]
     },
     "execution_count": 55,
     "metadata": {},
     "output_type": "execute_result"
    }
   ],
   "source": [
    "b = tf.reshape(x, [2, 4, 4, 3])\n",
    "b"
   ]
  },
  {
   "cell_type": "markdown",
   "metadata": {},
   "source": [
    "新增纬度："
   ]
  },
  {
   "cell_type": "code",
   "execution_count": 56,
   "metadata": {},
   "outputs": [
    {
     "data": {
      "text/plain": [
       "<tf.Tensor: id=253, shape=(2, 28), dtype=int32, numpy=\n",
       "array([[9, 7, 1, 1, 2, 7, 1, 3, 6, 9, 5, 0, 2, 9, 0, 2, 7, 1, 3, 1, 0, 3,\n",
       "        9, 4, 7, 1, 8, 4],\n",
       "       [4, 8, 2, 5, 6, 6, 1, 6, 9, 1, 0, 7, 0, 0, 3, 8, 5, 9, 2, 6, 2, 9,\n",
       "        5, 0, 4, 8, 4, 0]])>"
      ]
     },
     "execution_count": 56,
     "metadata": {},
     "output_type": "execute_result"
    }
   ],
   "source": [
    "x = tf.random.uniform([2, 28], maxval=10, dtype=tf.int32)\n",
    "x"
   ]
  },
  {
   "cell_type": "code",
   "execution_count": 57,
   "metadata": {},
   "outputs": [
    {
     "data": {
      "text/plain": [
       "<tf.Tensor: id=256, shape=(1, 2, 28), dtype=int32, numpy=\n",
       "array([[[9, 7, 1, 1, 2, 7, 1, 3, 6, 9, 5, 0, 2, 9, 0, 2, 7, 1, 3, 1, 0,\n",
       "         3, 9, 4, 7, 1, 8, 4],\n",
       "        [4, 8, 2, 5, 6, 6, 1, 6, 9, 1, 0, 7, 0, 0, 3, 8, 5, 9, 2, 6, 2,\n",
       "         9, 5, 0, 4, 8, 4, 0]]])>"
      ]
     },
     "execution_count": 57,
     "metadata": {},
     "output_type": "execute_result"
    }
   ],
   "source": [
    "y = tf.expand_dims(x, axis=0)\n",
    "y"
   ]
  },
  {
   "cell_type": "markdown",
   "metadata": {},
   "source": [
    "删除维度："
   ]
  },
  {
   "cell_type": "code",
   "execution_count": 58,
   "metadata": {},
   "outputs": [
    {
     "data": {
      "text/plain": [
       "<tf.Tensor: id=258, shape=(2, 28), dtype=int32, numpy=\n",
       "array([[9, 7, 1, 1, 2, 7, 1, 3, 6, 9, 5, 0, 2, 9, 0, 2, 7, 1, 3, 1, 0, 3,\n",
       "        9, 4, 7, 1, 8, 4],\n",
       "       [4, 8, 2, 5, 6, 6, 1, 6, 9, 1, 0, 7, 0, 0, 3, 8, 5, 9, 2, 6, 2, 9,\n",
       "        5, 0, 4, 8, 4, 0]])>"
      ]
     },
     "execution_count": 58,
     "metadata": {},
     "output_type": "execute_result"
    }
   ],
   "source": [
    "y = tf.squeeze(y, axis=0)\n",
    "y"
   ]
  },
  {
   "cell_type": "markdown",
   "metadata": {},
   "source": [
    "交换维度："
   ]
  },
  {
   "cell_type": "code",
   "execution_count": 59,
   "metadata": {},
   "outputs": [
    {
     "data": {
      "text/plain": [
       "<tf.Tensor: id=265, shape=(2, 4, 4, 3), dtype=float32, numpy=\n",
       "array([[[[ 0.49437642,  0.45573685, -0.20116872],\n",
       "         [-0.07239521,  1.1448351 , -1.8645545 ],\n",
       "         [ 0.14517088,  1.8629376 ,  1.949122  ],\n",
       "         [-0.74515516, -0.63690823, -0.25047708]],\n",
       "\n",
       "        [[-0.00982935,  0.91370445,  0.08548588],\n",
       "         [-0.5439232 , -0.11996564,  1.2472528 ],\n",
       "         [-1.8104815 ,  0.24239427, -0.47999576],\n",
       "         [-2.9315698 ,  2.5705469 , -0.2939242 ]],\n",
       "\n",
       "        [[-1.061615  ,  0.9709544 ,  1.6522598 ],\n",
       "         [-0.06250096, -0.5002315 ,  0.0907607 ],\n",
       "         [ 0.51200706, -0.40487355,  0.01813413],\n",
       "         [-0.49111587,  0.2654742 , -0.30879784]],\n",
       "\n",
       "        [[ 1.0949973 , -1.0338459 ,  0.57658786],\n",
       "         [ 1.3494128 ,  0.08951985,  1.0573262 ],\n",
       "         [ 1.2270001 , -0.4001184 , -0.30121142],\n",
       "         [-1.7238938 , -1.9484409 , -1.500688  ]]],\n",
       "\n",
       "\n",
       "       [[[ 0.03187727,  1.3926213 , -1.5160444 ],\n",
       "         [-0.9898932 ,  0.2895146 , -1.5949177 ],\n",
       "         [-1.0791664 , -0.6863546 ,  0.78881484],\n",
       "         [-0.20351705, -0.6419443 ,  1.0808733 ]],\n",
       "\n",
       "        [[ 0.03835795,  0.3518035 ,  0.16742577],\n",
       "         [ 1.2204373 , -1.1042404 , -1.6355982 ],\n",
       "         [-2.302266  , -1.1331227 ,  0.7486008 ],\n",
       "         [-0.11076134, -0.89139783, -1.0475417 ]],\n",
       "\n",
       "        [[ 1.3009849 , -0.22214225,  1.5158916 ],\n",
       "         [ 0.88943195, -0.0813733 ,  0.39602473],\n",
       "         [ 0.69834   ,  0.04583187,  1.0431613 ],\n",
       "         [ 0.25353378, -0.47118556,  0.00914468]],\n",
       "\n",
       "        [[ 0.19136024,  0.71634483, -0.23380248],\n",
       "         [-0.6754468 , -0.80398697,  0.32453108],\n",
       "         [ 2.6774611 , -1.0267723 , -1.1855379 ],\n",
       "         [-0.6194028 , -1.1070375 , -0.39217284]]]], dtype=float32)>"
      ]
     },
     "execution_count": 59,
     "metadata": {},
     "output_type": "execute_result"
    }
   ],
   "source": [
    "x = tf.random.normal([2, 4, 4, 3])\n",
    "x"
   ]
  },
  {
   "cell_type": "code",
   "execution_count": 60,
   "metadata": {},
   "outputs": [
    {
     "data": {
      "text/plain": [
       "<tf.Tensor: id=268, shape=(2, 3, 4, 4), dtype=float32, numpy=\n",
       "array([[[[ 0.49437642, -0.07239521,  0.14517088, -0.74515516],\n",
       "         [-0.00982935, -0.5439232 , -1.8104815 , -2.9315698 ],\n",
       "         [-1.061615  , -0.06250096,  0.51200706, -0.49111587],\n",
       "         [ 1.0949973 ,  1.3494128 ,  1.2270001 , -1.7238938 ]],\n",
       "\n",
       "        [[ 0.45573685,  1.1448351 ,  1.8629376 , -0.63690823],\n",
       "         [ 0.91370445, -0.11996564,  0.24239427,  2.5705469 ],\n",
       "         [ 0.9709544 , -0.5002315 , -0.40487355,  0.2654742 ],\n",
       "         [-1.0338459 ,  0.08951985, -0.4001184 , -1.9484409 ]],\n",
       "\n",
       "        [[-0.20116872, -1.8645545 ,  1.949122  , -0.25047708],\n",
       "         [ 0.08548588,  1.2472528 , -0.47999576, -0.2939242 ],\n",
       "         [ 1.6522598 ,  0.0907607 ,  0.01813413, -0.30879784],\n",
       "         [ 0.57658786,  1.0573262 , -0.30121142, -1.500688  ]]],\n",
       "\n",
       "\n",
       "       [[[ 0.03187727, -0.9898932 , -1.0791664 , -0.20351705],\n",
       "         [ 0.03835795,  1.2204373 , -2.302266  , -0.11076134],\n",
       "         [ 1.3009849 ,  0.88943195,  0.69834   ,  0.25353378],\n",
       "         [ 0.19136024, -0.6754468 ,  2.6774611 , -0.6194028 ]],\n",
       "\n",
       "        [[ 1.3926213 ,  0.2895146 , -0.6863546 , -0.6419443 ],\n",
       "         [ 0.3518035 , -1.1042404 , -1.1331227 , -0.89139783],\n",
       "         [-0.22214225, -0.0813733 ,  0.04583187, -0.47118556],\n",
       "         [ 0.71634483, -0.80398697, -1.0267723 , -1.1070375 ]],\n",
       "\n",
       "        [[-1.5160444 , -1.5949177 ,  0.78881484,  1.0808733 ],\n",
       "         [ 0.16742577, -1.6355982 ,  0.7486008 , -1.0475417 ],\n",
       "         [ 1.5158916 ,  0.39602473,  1.0431613 ,  0.00914468],\n",
       "         [-0.23380248,  0.32453108, -1.1855379 , -0.39217284]]]],\n",
       "      dtype=float32)>"
      ]
     },
     "execution_count": 60,
     "metadata": {},
     "output_type": "execute_result"
    }
   ],
   "source": [
    "y = tf.transpose(x, perm=[0,3,1,2])\n",
    "y"
   ]
  },
  {
   "cell_type": "markdown",
   "metadata": {},
   "source": [
    "数据复制:"
   ]
  },
  {
   "cell_type": "code",
   "execution_count": 63,
   "metadata": {},
   "outputs": [
    {
     "data": {
      "text/plain": [
       "<tf.Tensor: id=794, shape=(1, 2), dtype=int32, numpy=array([[1, 2]])>"
      ]
     },
     "execution_count": 63,
     "metadata": {},
     "output_type": "execute_result"
    }
   ],
   "source": [
    "b = tf.constant([1,2])\n",
    "b = tf.expand_dims(b, axis=0)\n",
    "b"
   ]
  },
  {
   "cell_type": "code",
   "execution_count": 65,
   "metadata": {},
   "outputs": [
    {
     "data": {
      "text/plain": [
       "<tf.Tensor: id=800, shape=(4, 2), dtype=int32, numpy=\n",
       "array([[1, 2],\n",
       "       [1, 2],\n",
       "       [1, 2],\n",
       "       [1, 2]])>"
      ]
     },
     "execution_count": 65,
     "metadata": {},
     "output_type": "execute_result"
    }
   ],
   "source": [
    "b = tf.tile(b, multiples=[2,1])\n",
    "b"
   ]
  },
  {
   "cell_type": "markdown",
   "metadata": {},
   "source": [
    "广播机制："
   ]
  },
  {
   "cell_type": "code",
   "execution_count": 68,
   "metadata": {},
   "outputs": [
    {
     "data": {
      "text/plain": [
       "<tf.Tensor: id=843, shape=(2, 3), dtype=float32, numpy=\n",
       "array([[1.5603006 , 1.5603006 , 1.5603006 ],\n",
       "       [0.97769535, 0.97769535, 0.97769535]], dtype=float32)>"
      ]
     },
     "execution_count": 68,
     "metadata": {},
     "output_type": "execute_result"
    }
   ],
   "source": [
    "x = tf.random.normal([2,4])\n",
    "w = tf.ones([4,3])\n",
    "b = tf.zeros([3])\n",
    "y = x@w + b\n",
    "y"
   ]
  },
  {
   "cell_type": "markdown",
   "metadata": {},
   "source": [
    "上述代码自动推导，自动调用tf.broadcast_to完成计算，等价于："
   ]
  },
  {
   "cell_type": "code",
   "execution_count": 70,
   "metadata": {},
   "outputs": [],
   "source": [
    "y = x@w + tf.broadcast_to(b, [2,3])"
   ]
  },
  {
   "cell_type": "markdown",
   "metadata": {},
   "source": [
    "显示的shape扩张："
   ]
  },
  {
   "cell_type": "code",
   "execution_count": 72,
   "metadata": {},
   "outputs": [],
   "source": [
    "a = tf.random.normal([32, 1])\n",
    "a = tf.broadcast_to(a, [2, 32, 32, 3])"
   ]
  },
  {
   "cell_type": "code",
   "execution_count": 75,
   "metadata": {},
   "outputs": [
    {
     "data": {
      "text/plain": [
       "TensorShape([2, 32, 32, 3])"
      ]
     },
     "execution_count": 75,
     "metadata": {},
     "output_type": "execute_result"
    }
   ],
   "source": [
    "a.shape"
   ]
  },
  {
   "cell_type": "code",
   "execution_count": 76,
   "metadata": {},
   "outputs": [
    {
     "data": {
      "text/plain": [
       "(<tf.Tensor: id=2046, shape=(2, 32, 32, 32), dtype=float32, numpy=\n",
       " array([[[[-1.7647635e+00, -1.4102317e-01,  1.9089935e+00, ...,\n",
       "           -6.1659324e-01, -4.6839893e-01,  1.2279582e+00],\n",
       "          [-1.7012602e-01, -8.7247211e-01, -1.8547388e+00, ...,\n",
       "           -4.9077770e-01, -8.2729226e-01,  8.8393724e-01],\n",
       "          [ 1.1359652e+00,  2.2716200e-01,  7.5811172e-01, ...,\n",
       "            1.5490886e+00,  5.2278996e-02,  2.2052169e-01],\n",
       "          ...,\n",
       "          [ 7.3501647e-02,  6.4287388e-01,  3.0143857e-02, ...,\n",
       "            7.0586276e-01,  6.8687940e-01,  1.9253534e-01],\n",
       "          [ 4.9191117e-03,  9.9384457e-01, -4.7118670e-01, ...,\n",
       "           -5.1199967e-01, -2.4826574e-01, -1.2759218e-01],\n",
       "          [-2.3307600e+00, -1.1448890e+00, -8.9740872e-02, ...,\n",
       "            5.6085813e-01, -1.0130892e+00, -2.1156027e+00]],\n",
       " \n",
       "         [[-1.5653455e+00,  5.8394730e-02,  2.1084113e+00, ...,\n",
       "           -4.1717535e-01, -2.6898104e-01,  1.4273760e+00],\n",
       "          [ 1.6990737e+00,  9.9672759e-01,  1.4460921e-02, ...,\n",
       "            1.3784220e+00,  1.0419074e+00,  2.7531371e+00],\n",
       "          [ 2.5469524e-01, -6.5410799e-01, -1.2315823e-01, ...,\n",
       "            6.6781861e-01, -8.2899100e-01, -6.6074830e-01],\n",
       "          ...,\n",
       "          [-3.0294061e+00, -2.4600339e+00, -3.0727639e+00, ...,\n",
       "           -2.3970451e+00, -2.4160285e+00, -2.9103725e+00],\n",
       "          [-2.5000727e+00, -1.5111473e+00, -2.9761786e+00, ...,\n",
       "           -3.0169916e+00, -2.7532575e+00, -2.6325841e+00],\n",
       "          [ 1.2300155e+00,  2.4158864e+00,  3.4710345e+00, ...,\n",
       "            4.1216335e+00,  2.5476861e+00,  1.4451728e+00]],\n",
       " \n",
       "         [[-1.4719719e+00,  1.5176842e-01,  2.2017851e+00, ...,\n",
       "           -3.2380167e-01, -1.7560735e-01,  1.5207498e+00],\n",
       "          [ 1.5795616e+00,  8.7721550e-01, -1.0505116e-01, ...,\n",
       "            1.2589099e+00,  9.2239535e-01,  2.6336250e+00],\n",
       "          [ 6.7134231e-02, -8.4166896e-01, -3.1071925e-01, ...,\n",
       "            4.8025760e-01, -1.0165520e+00, -8.4830928e-01],\n",
       "          ...,\n",
       "          [ 3.0385947e-01,  8.7323171e-01,  2.6050168e-01, ...,\n",
       "            9.3622059e-01,  9.1723722e-01,  4.2289317e-01],\n",
       "          [-3.0822990e+00, -2.0933735e+00, -3.5584049e+00, ...,\n",
       "           -3.5992179e+00, -3.3354838e+00, -3.2148104e+00],\n",
       "          [-1.8908783e+00, -7.0500743e-01,  3.5014069e-01, ...,\n",
       "            1.0007397e+00, -5.7320762e-01, -1.6757212e+00]],\n",
       " \n",
       "         ...,\n",
       " \n",
       "         [[-2.9186578e+00, -1.2949173e+00,  7.5509930e-01, ...,\n",
       "           -1.7704874e+00, -1.6222931e+00,  7.4064016e-02],\n",
       "          [ 7.8321004e-01,  8.0863982e-02, -9.0140271e-01, ...,\n",
       "            4.6255839e-01,  1.2604383e-01,  1.8372734e+00],\n",
       "          [-9.5792860e-01, -1.8667319e+00, -1.3357821e+00, ...,\n",
       "           -5.4480523e-01, -2.0416148e+00, -1.8733721e+00],\n",
       "          ...,\n",
       "          [-4.5730650e-01,  1.1206573e-01, -5.0066429e-01, ...,\n",
       "            1.7505461e-01,  1.5607125e-01, -3.3827281e-01],\n",
       "          [-7.2246516e-01,  2.6646033e-01, -1.1985710e+00, ...,\n",
       "           -1.2393839e+00, -9.7564995e-01, -8.5497642e-01],\n",
       "          [-8.7988377e-04,  1.1849910e+00,  2.2401390e+00, ...,\n",
       "            2.8907380e+00,  1.3167908e+00,  2.1427733e-01]],\n",
       " \n",
       "         [[-9.9651456e-01,  6.2722576e-01,  2.6772423e+00, ...,\n",
       "            1.5165567e-01,  2.9984999e-01,  1.9962071e+00],\n",
       "          [-8.5913181e-01, -1.5614779e+00, -2.5437446e+00, ...,\n",
       "           -1.1797835e+00, -1.5162981e+00,  1.9493151e-01],\n",
       "          [ 5.1074868e-01, -3.9805454e-01,  1.3289520e-01, ...,\n",
       "            9.2387205e-01, -5.7293755e-01, -4.0469486e-01],\n",
       "          ...,\n",
       "          [-4.7553265e-01,  9.3839586e-02, -5.1889044e-01, ...,\n",
       "            1.5682846e-01,  1.3784510e-01, -3.5649896e-01],\n",
       "          [-6.7292452e-01,  3.1600097e-01, -1.1490303e+00, ...,\n",
       "           -1.1898433e+00, -9.2610931e-01, -8.0543578e-01],\n",
       "          [-1.3267016e-01,  1.0532007e+00,  2.1083488e+00, ...,\n",
       "            2.7589478e+00,  1.1850005e+00,  8.2487047e-02]],\n",
       " \n",
       "         [[-1.7786533e+00, -1.5491295e-01,  1.8951037e+00, ...,\n",
       "           -6.3048303e-01, -4.8228872e-01,  1.2140684e+00],\n",
       "          [-7.8816581e-01, -1.4905119e+00, -2.4727786e+00, ...,\n",
       "           -1.1088175e+00, -1.4453321e+00,  2.6589751e-01],\n",
       "          [ 1.4959974e+00,  5.8719414e-01,  1.1181439e+00, ...,\n",
       "            1.9091208e+00,  4.1231114e-01,  5.8055383e-01],\n",
       "          ...,\n",
       "          [ 5.9904826e-01,  1.1684206e+00,  5.5569047e-01, ...,\n",
       "            1.2314093e+00,  1.2124259e+00,  7.1808195e-01],\n",
       "          [-2.8172317e-01,  7.0720226e-01, -7.5782901e-01, ...,\n",
       "           -7.9864198e-01, -5.3490806e-01, -4.1423446e-01],\n",
       "          [-1.5782876e+00, -3.9241669e-01,  6.6273141e-01, ...,\n",
       "            1.3133304e+00, -2.6061690e-01, -1.3631303e+00]]],\n",
       " \n",
       " \n",
       "        [[[-3.0658302e+00, -1.4420899e+00,  6.0792673e-01, ...,\n",
       "           -1.9176600e+00, -1.7694657e+00, -7.3108554e-02],\n",
       "          [-1.5028749e+00, -2.2052209e+00, -3.1874876e+00, ...,\n",
       "           -1.8235265e+00, -2.1600411e+00, -4.4881153e-01],\n",
       "          [-1.2950048e+00, -2.2038081e+00, -1.6728584e+00, ...,\n",
       "           -8.8188154e-01, -2.3786912e+00, -2.2104485e+00],\n",
       "          ...,\n",
       "          [-1.0857309e+00, -5.1635873e-01, -1.1290888e+00, ...,\n",
       "           -4.5336986e-01, -4.7235322e-01, -9.6669728e-01],\n",
       "          [ 1.3564308e+00,  2.3453562e+00,  8.8032496e-01, ...,\n",
       "            8.3951199e-01,  1.1032460e+00,  1.2239195e+00],\n",
       "          [ 1.8225145e-01,  1.3681223e+00,  2.4232705e+00, ...,\n",
       "            3.0738695e+00,  1.4999222e+00,  3.9740866e-01]],\n",
       " \n",
       "         [[-2.9342308e+00, -1.3104906e+00,  7.3952603e-01, ...,\n",
       "           -1.7860607e+00, -1.6378664e+00,  5.8490753e-02],\n",
       "          [-4.1880408e-01, -1.1211501e+00, -2.1034169e+00, ...,\n",
       "           -7.3945576e-01, -1.0759703e+00,  6.3525921e-01],\n",
       "          [ 3.4233412e-01, -5.6646913e-01, -3.5519369e-02, ...,\n",
       "            7.5545746e-01, -7.4135214e-01, -5.7310945e-01],\n",
       "          ...,\n",
       "          [ 2.3132696e+00,  2.8826420e+00,  2.2699120e+00, ...,\n",
       "            2.9456308e+00,  2.9266474e+00,  2.4323034e+00],\n",
       "          [-2.4933763e+00, -1.5044508e+00, -2.9694819e+00, ...,\n",
       "           -3.0102949e+00, -2.7465611e+00, -2.6258876e+00],\n",
       "          [-5.7396275e-01,  6.1190814e-01,  1.6670563e+00, ...,\n",
       "            2.3176553e+00,  7.4370795e-01, -3.5880554e-01]],\n",
       " \n",
       "         [[-3.7298851e+00, -2.1061449e+00, -5.6128263e-02, ...,\n",
       "           -2.5817151e+00, -2.4335208e+00, -7.3716354e-01],\n",
       "          [-2.9774696e-02, -7.3212075e-01, -1.7143874e+00, ...,\n",
       "           -3.5042638e-01, -6.8694091e-01,  1.0242887e+00],\n",
       "          [-1.0872769e-01, -1.0175309e+00, -4.8658118e-01, ...,\n",
       "            3.0439568e-01, -1.1924139e+00, -1.0241712e+00],\n",
       "          ...,\n",
       "          [-1.6805291e+00, -1.1111569e+00, -1.7238870e+00, ...,\n",
       "           -1.0481681e+00, -1.0671514e+00, -1.5614955e+00],\n",
       "          [ 8.4608644e-03,  9.9738634e-01, -4.6764493e-01, ...,\n",
       "           -5.0845790e-01, -2.4472399e-01, -1.2405042e-01],\n",
       "          [-1.9257202e+00, -7.3984933e-01,  3.1529880e-01, ...,\n",
       "            9.6589780e-01, -6.0804951e-01, -1.7105629e+00]],\n",
       " \n",
       "         ...,\n",
       " \n",
       "         [[-1.9591886e+00, -3.3544821e-01,  1.7145684e+00, ...,\n",
       "           -8.1101829e-01, -6.6282398e-01,  1.0335331e+00],\n",
       "          [ 3.0411336e-01, -3.9823273e-01, -1.3804994e+00, ...,\n",
       "           -1.6538311e-02, -3.5305288e-01,  1.3581767e+00],\n",
       "          [-1.4744294e+00, -2.3832326e+00, -1.8522829e+00, ...,\n",
       "           -1.0613060e+00, -2.5581157e+00, -2.3898730e+00],\n",
       "          ...,\n",
       "          [-1.3566930e+00, -7.8732073e-01, -1.4000508e+00, ...,\n",
       "           -7.2433186e-01, -7.4331522e-01, -1.2376592e+00],\n",
       "          [-4.2395890e-03,  9.8468590e-01, -4.8034540e-01, ...,\n",
       "           -5.2115834e-01, -2.5742444e-01, -1.3675088e-01],\n",
       "          [-1.2803488e+00, -9.4477937e-02,  9.6067017e-01, ...,\n",
       "            1.6112692e+00,  3.7321866e-02, -1.0651916e+00]],\n",
       " \n",
       "         [[-9.9464470e-01,  6.2909561e-01,  2.6791122e+00, ...,\n",
       "            1.5352553e-01,  3.0171984e-01,  1.9980769e+00],\n",
       "          [-6.4207107e-02, -7.6655316e-01, -1.7488198e+00, ...,\n",
       "           -3.8485879e-01, -7.2137332e-01,  9.8985618e-01],\n",
       "          [-3.6591452e-01, -1.2747178e+00, -7.4376804e-01, ...,\n",
       "            4.7208846e-02, -1.4496007e+00, -1.2813580e+00],\n",
       "          ...,\n",
       "          [-3.7494200e-01,  1.9443023e-01, -4.1829979e-01, ...,\n",
       "            2.5741911e-01,  2.3843575e-01, -2.5590831e-01],\n",
       "          [-4.0560478e-01,  5.8332068e-01, -8.8171059e-01, ...,\n",
       "           -9.2252356e-01, -6.5878963e-01, -5.3811610e-01],\n",
       "          [-3.0320609e-01,  8.8266480e-01,  1.9378129e+00, ...,\n",
       "            2.5884118e+00,  1.0144646e+00, -8.8048875e-02]],\n",
       " \n",
       "         [[-1.5083213e+00,  1.1541906e-01,  2.1654358e+00, ...,\n",
       "           -3.6015102e-01, -2.1195671e-01,  1.4844004e+00],\n",
       "          [ 7.7418196e-01,  7.1835846e-02, -9.1043085e-01, ...,\n",
       "            4.5353025e-01,  1.1701569e-01,  1.8282452e+00],\n",
       "          [-1.7869204e-01, -1.0874953e+00, -5.5654556e-01, ...,\n",
       "            2.3443133e-01, -1.2623782e+00, -1.0941355e+00],\n",
       "          ...,\n",
       "          [-1.4689374e+00, -8.9956516e-01, -1.5122952e+00, ...,\n",
       "           -8.3657628e-01, -8.5555965e-01, -1.3499037e+00],\n",
       "          [-1.0667927e+00, -7.7867270e-02, -1.5428985e+00, ...,\n",
       "           -1.5837115e+00, -1.3199775e+00, -1.1993040e+00],\n",
       "          [ 4.1898561e-01,  1.6048565e+00,  2.6600046e+00, ...,\n",
       "            3.3106036e+00,  1.7366563e+00,  6.3414282e-01]]]],\n",
       "       dtype=float32)>,\n",
       " <tf.Tensor: id=2047, shape=(2, 32, 32, 32), dtype=float32, numpy=\n",
       " array([[[[ 1.9956988 ,  0.3719585 , -1.6780581 , ...,  0.8475286 ,\n",
       "            0.69933426, -0.99702287],\n",
       "          [-0.7143394 , -0.01199329,  0.9702734 , ..., -0.3936877 ,\n",
       "           -0.05717313, -1.7684027 ],\n",
       "          [ 0.32065177,  1.229455  ,  0.6985053 , ..., -0.0924716 ,\n",
       "            1.404338  ,  1.2360953 ],\n",
       "          ...,\n",
       "          [ 1.7861478 ,  1.2167757 ,  1.8295057 , ...,  1.1537868 ,\n",
       "            1.1727701 ,  1.6671143 ],\n",
       "          [ 0.48582608, -0.5030994 ,  0.9619319 , ...,  1.0027449 ,\n",
       "            0.73901093,  0.6183374 ],\n",
       "          [-0.15618742, -1.3420583 , -2.3972063 , ..., -3.0478053 ,\n",
       "           -1.4738581 , -0.37134463]],\n",
       " \n",
       "         [[ 2.1951168 ,  0.5713764 , -1.4786403 , ...,  1.0469465 ,\n",
       "            0.89875215, -0.797605  ],\n",
       "          [ 1.1548604 ,  1.8572065 ,  2.8394732 , ...,  1.475512  ,\n",
       "            1.8120266 ,  0.10079706],\n",
       "          [-0.5606182 ,  0.348185  , -0.18276472, ..., -0.9737416 ,\n",
       "            0.523068  ,  0.35482532],\n",
       "          ...,\n",
       "          [-1.31676   , -1.8861322 , -1.2734022 , ..., -1.949121  ,\n",
       "           -1.9301376 , -1.4357936 ],\n",
       "          [-2.0191658 , -3.0080912 , -1.54306   , ..., -1.502247  ,\n",
       "           -1.765981  , -1.8866545 ],\n",
       "          [ 3.404588  ,  2.218717  ,  1.163569  , ...,  0.51297   ,\n",
       "            2.0869174 ,  3.1894307 ]],\n",
       " \n",
       "         [[ 2.2884903 ,  0.6647501 , -1.3852665 , ...,  1.1403202 ,\n",
       "            0.99212587, -0.70423126],\n",
       "          [ 1.0353483 ,  1.7376944 ,  2.7199612 , ...,  1.356     ,\n",
       "            1.6925145 , -0.01871502],\n",
       "          [-0.7481792 ,  0.160624  , -0.37032574, ..., -1.1613026 ,\n",
       "            0.335507  ,  0.16726431],\n",
       "          ...,\n",
       "          [ 2.0165057 ,  1.4471335 ,  2.0598636 , ...,  1.3841445 ,\n",
       "            1.4031279 ,  1.897472  ],\n",
       "          [-2.601392  , -3.5903175 , -2.125286  , ..., -2.0844731 ,\n",
       "           -2.3482072 , -2.4688807 ],\n",
       "          [ 0.28369415, -0.90217674, -1.9573249 , ..., -2.607924  ,\n",
       "           -1.0339766 ,  0.06853694]],\n",
       " \n",
       "         ...,\n",
       " \n",
       "         [[ 0.8418046 , -0.7819357 , -2.8319523 , ..., -0.3063656 ,\n",
       "           -0.45455992, -2.150917  ],\n",
       "          [ 0.23899671,  0.94134283,  1.9236095 , ...,  0.5596484 ,\n",
       "            0.896163  , -0.8150666 ],\n",
       "          [-1.773242  , -0.86443883, -1.3953886 , ..., -2.1863654 ,\n",
       "           -0.6895558 , -0.8577985 ],\n",
       "          ...,\n",
       "          [ 1.2553397 ,  0.6859675 ,  1.2986975 , ...,  0.6229786 ,\n",
       "            0.641962  ,  1.136306  ],\n",
       "          [-0.24155816, -1.2304837 ,  0.23454764, ...,  0.2753606 ,\n",
       "            0.01162669, -0.10904688],\n",
       "          [ 2.1736927 ,  0.9878217 , -0.06732643, ..., -0.7179254 ,\n",
       "            0.8560219 ,  1.9585354 ]],\n",
       " \n",
       "         [[ 2.7639477 ,  1.1402074 , -0.90980923, ...,  1.6157775 ,\n",
       "            1.4675832 , -0.22877395],\n",
       "          [-1.4033451 , -0.700999  ,  0.28126764, ..., -1.0826935 ,\n",
       "           -0.74617887, -2.4574084 ],\n",
       "          [-0.30456477,  0.60423845,  0.07328871, ..., -0.71768814,\n",
       "            0.77912146,  0.61087877],\n",
       "          ...,\n",
       "          [ 1.2371136 ,  0.66774136,  1.2804713 , ...,  0.6047525 ,\n",
       "            0.62373585,  1.1180799 ],\n",
       "          [-0.19201753, -1.180943  ,  0.28408828, ...,  0.32490125,\n",
       "            0.06116733, -0.05950624],\n",
       "          [ 2.0419023 ,  0.8560314 , -0.1991167 , ..., -0.8497157 ,\n",
       "            0.7242316 ,  1.826745  ]],\n",
       " \n",
       "         [[ 1.981809  ,  0.3580687 , -1.6919479 , ...,  0.8336388 ,\n",
       "            0.6854445 , -1.0109127 ],\n",
       "          [-1.3323791 , -0.630033  ,  0.35223365, ..., -1.0117275 ,\n",
       "           -0.67521286, -2.3864424 ],\n",
       "          [ 0.6806839 ,  1.5894871 ,  1.0585374 , ...,  0.26756054,\n",
       "            1.7643702 ,  1.5961275 ],\n",
       "          ...,\n",
       "          [ 2.3116946 ,  1.7423222 ,  2.3550522 , ...,  1.6793334 ,\n",
       "            1.6983168 ,  2.1926608 ],\n",
       "          [ 0.19918379, -0.7897417 ,  0.6752896 , ...,  0.71610254,\n",
       "            0.45236865,  0.33169508],\n",
       "          [ 0.59628487, -0.589586  , -1.6447341 , ..., -2.2953331 ,\n",
       "           -0.7213858 ,  0.3811277 ]]],\n",
       " \n",
       " \n",
       "        [[[ 0.69463205, -0.92910826, -2.979125  , ..., -0.45353818,\n",
       "           -0.6017325 , -2.2980895 ],\n",
       "          [-2.0470881 , -1.3447421 , -0.3624754 , ..., -1.7264365 ,\n",
       "           -1.3899219 , -3.1011515 ],\n",
       "          [-2.1103184 , -1.2015152 , -1.7324649 , ..., -2.5234418 ,\n",
       "           -1.0266321 , -1.1948748 ],\n",
       "          ...,\n",
       "          [ 0.6269153 ,  0.05754305,  0.67027307, ..., -0.00544582,\n",
       "            0.01353754,  0.5078816 ],\n",
       "          [ 1.8373377 ,  0.8484123 ,  2.3134437 , ...,  2.3542566 ,\n",
       "            2.0905225 ,  1.969849  ],\n",
       "          [ 2.356824  ,  1.170953  ,  0.11580491, ..., -0.5347941 ,\n",
       "            1.0391532 ,  2.1416667 ]],\n",
       " \n",
       "         [[ 0.82623136, -0.79750896, -2.8475256 , ..., -0.32193887,\n",
       "           -0.4701332 , -2.1664903 ],\n",
       "          [-0.96301746, -0.26067135,  0.72159535, ..., -0.64236575,\n",
       "           -0.3058512 , -2.0170808 ],\n",
       "          [-0.47297934,  0.4358239 , -0.09512586, ..., -0.88610274,\n",
       "            0.61070687,  0.4424642 ],\n",
       "          ...,\n",
       "          [ 4.025916  ,  3.4565437 ,  4.069274  , ...,  3.393555  ,\n",
       "            3.4125383 ,  3.9068823 ],\n",
       "          [-2.0124693 , -3.0013947 , -1.5363635 , ..., -1.4955505 ,\n",
       "           -1.7592845 , -1.879958  ],\n",
       "          [ 1.6006098 ,  0.41473883, -0.6404093 , ..., -1.2910082 ,\n",
       "            0.28293902,  1.3854525 ]],\n",
       " \n",
       "         [[ 0.03057706, -1.5931633 , -3.64318   , ..., -1.1175932 ,\n",
       "           -1.2657875 , -2.9621446 ],\n",
       "          [-0.5739881 ,  0.12835804,  1.1106248 , ..., -0.25333637,\n",
       "            0.08317819, -1.6280513 ],\n",
       "          [-0.92404115, -0.01523793, -0.54618764, ..., -1.3371645 ,\n",
       "            0.15964508, -0.00859761],\n",
       "          ...,\n",
       "          [ 0.03211707, -0.53725517,  0.07547486, ..., -0.60024405,\n",
       "           -0.5812607 , -0.08691663],\n",
       "          [ 0.48936784, -0.4995576 ,  0.96547365, ...,  1.0062866 ,\n",
       "            0.7425527 ,  0.6218791 ],\n",
       "          [ 0.24885225, -0.93701863, -1.9921668 , ..., -2.6427658 ,\n",
       "           -1.0688184 ,  0.03369504]],\n",
       " \n",
       "         ...,\n",
       " \n",
       "         [[ 1.8012737 ,  0.17753345, -1.8724833 , ...,  0.65310353,\n",
       "            0.5049092 , -1.191448  ],\n",
       "          [-0.2401    ,  0.4622461 ,  1.4445128 , ...,  0.08055168,\n",
       "            0.41706625, -1.2941632 ],\n",
       "          [-2.289743  , -1.3809397 , -1.9118894 , ..., -2.7028663 ,\n",
       "           -1.2060566 , -1.3742993 ],\n",
       "          ...,\n",
       "          [ 0.35595328, -0.21341896,  0.39931107, ..., -0.27640784,\n",
       "           -0.25742447,  0.23691958],\n",
       "          [ 0.47666737, -0.51225805,  0.9527732 , ...,  0.9935862 ,\n",
       "            0.7298522 ,  0.60917866],\n",
       "          [ 0.89422363, -0.29164726, -1.3467953 , ..., -1.9973943 ,\n",
       "           -0.42344704,  0.6790664 ]],\n",
       " \n",
       "         [[ 2.7658176 ,  1.1420772 , -0.9079394 , ...,  1.6176474 ,\n",
       "            1.4694531 , -0.2269041 ],\n",
       "          [-0.6084205 ,  0.09392563,  1.0761924 , ..., -0.28776878,\n",
       "            0.04874578, -1.6624837 ],\n",
       "          [-1.1812279 , -0.27242476, -0.80337447, ..., -1.5943513 ,\n",
       "           -0.09754175, -0.26578444],\n",
       "          ...,\n",
       "          [ 1.3377042 ,  0.768332  ,  1.381062  , ...,  0.7053431 ,\n",
       "            0.7243265 ,  1.2186706 ],\n",
       "          [ 0.07530217, -0.9136233 ,  0.551408  , ...,  0.59222096,\n",
       "            0.32848704,  0.20781346],\n",
       "          [ 1.8713664 ,  0.6854955 , -0.36965263, ..., -1.0202516 ,\n",
       "            0.5536957 ,  1.6562092 ]],\n",
       " \n",
       "         [[ 2.252141  ,  0.6284007 , -1.421616  , ...,  1.1039708 ,\n",
       "            0.95577645, -0.7405807 ],\n",
       "          [ 0.22996858,  0.93231463,  1.9145813 , ...,  0.55062026,\n",
       "            0.8871348 , -0.8240947 ],\n",
       "          [-0.9940055 , -0.08520228, -0.616152  , ..., -1.4071288 ,\n",
       "            0.08968073, -0.07856196],\n",
       "          ...,\n",
       "          [ 0.24370885, -0.3256634 ,  0.28706664, ..., -0.38865227,\n",
       "           -0.3696689 ,  0.12467515],\n",
       "          [-0.58588576, -1.5748112 , -0.10977995, ..., -0.06896698,\n",
       "           -0.3327009 , -0.45337448],\n",
       "          [ 2.593558  ,  1.4076872 ,  0.35253906, ..., -0.29805994,\n",
       "            1.2758874 ,  2.3784008 ]]]], dtype=float32)>,\n",
       " <tf.Tensor: id=2048, shape=(2, 32, 32, 32), dtype=float32, numpy=\n",
       " array([[[[-2.17105880e-01, -2.96163931e-02,  2.07094222e-01, ...,\n",
       "           -8.45293552e-02, -6.74177036e-02,  1.28456667e-01],\n",
       "          [-1.20334469e-01,  1.90265939e-01,  6.24656379e-01, ...,\n",
       "            2.14681868e-02,  1.70285925e-01, -5.86475730e-01],\n",
       "          [ 2.96899855e-01, -3.64989251e-01,  2.17059553e-02, ...,\n",
       "            5.97781122e-01, -4.92358029e-01, -3.69825453e-01],\n",
       "          ...,\n",
       "          [-7.96230435e-01, -2.66814053e-01, -8.36545587e-01, ...,\n",
       "           -2.08245426e-01, -2.25896627e-01, -6.85549974e-01],\n",
       "          [-5.90006933e-02,  1.83654517e-01, -1.75824016e-01, ...,\n",
       "           -1.85838401e-01, -1.21125318e-01, -9.15153325e-02],\n",
       "          [ 1.35201180e+00, -1.22587420e-01, -1.43463635e+00, ...,\n",
       "           -2.24363899e+00, -2.86477000e-01,  1.08446944e+00]],\n",
       " \n",
       "         [[-5.92057645e-01, -8.07652548e-02,  5.64755380e-01, ...,\n",
       "           -2.30515406e-01, -1.83851153e-01,  3.50307196e-01],\n",
       "          [ 3.88287246e-01, -6.13937438e-01, -2.01559973e+00, ...,\n",
       "           -6.92721158e-02, -5.49467325e-01,  1.89240086e+00],\n",
       "          [-6.23557754e-02,  7.66561106e-02, -4.55874810e-03, ...,\n",
       "           -1.25547737e-01,  1.03406474e-01,  7.76718184e-02],\n",
       "          ...,\n",
       "          [ 1.86086130e+00,  6.23568118e-01,  1.95508134e+00, ...,\n",
       "            4.86688048e-01,  5.27940452e-01,  1.60219121e+00],\n",
       "          [ 5.43333292e-01, -1.69126165e+00,  1.61915112e+00, ...,\n",
       "            1.71137297e+00,  1.11543465e+00,  8.42758358e-01],\n",
       "          [-2.51957035e+00,  2.28450388e-01,  2.67354703e+00, ...,\n",
       "            4.18118095e+00,  5.33870280e-01, -2.02098608e+00]],\n",
       " \n",
       "         [[-7.67621756e-01, -1.04714751e-01,  7.32223511e-01, ...,\n",
       "           -2.98870623e-01, -2.38368928e-01,  4.54184532e-01],\n",
       "          [ 3.55767220e-01, -5.62518656e-01, -1.84678805e+00, ...,\n",
       "           -6.34704009e-02, -5.03448009e-01,  1.73390746e+00],\n",
       "          [-1.38816282e-01,  1.70651659e-01, -1.01486752e-02, ...,\n",
       "           -2.79494077e-01,  2.30203256e-01,  1.72912836e-01],\n",
       "          ...,\n",
       "          [-9.93491173e-01, -3.32915425e-01, -1.04379416e+00, ...,\n",
       "           -2.59836823e-01, -2.81861007e-01, -8.55390370e-01],\n",
       "          [ 6.83331668e-01, -2.12704182e+00,  2.03635073e+00, ...,\n",
       "            2.15233493e+00,  1.40284383e+00,  1.05990827e+00],\n",
       "          [ 8.73734593e-01, -7.92218447e-02, -9.27130520e-01, ...,\n",
       "           -1.44994676e+00, -1.85135126e-01,  7.00836003e-01]],\n",
       " \n",
       "         ...,\n",
       " \n",
       "         [[ 1.95248187e+00,  2.66346872e-01, -1.86244476e+00, ...,\n",
       "            7.60191441e-01,  6.06302559e-01, -1.15523970e+00],\n",
       "          [ 1.39074638e-01, -2.19896823e-01, -7.21936643e-01, ...,\n",
       "           -2.48115137e-02, -1.96805254e-01,  6.77809954e-01],\n",
       "          [-5.56690037e-01,  6.84358299e-01, -4.06988747e-02, ...,\n",
       "           -1.12084532e+00,  9.23175991e-01,  6.93426192e-01],\n",
       "          ...,\n",
       "          [-3.41687143e-01, -1.14498176e-01, -3.58987629e-01, ...,\n",
       "           -8.93645659e-02, -9.69392434e-02, -2.94190735e-01],\n",
       "          [ 1.15901381e-01, -3.60772222e-01,  3.45389932e-01, ...,\n",
       "            3.65062237e-01,  2.37939432e-01,  1.79773360e-01],\n",
       "          [-1.18123472e+00,  1.07102990e-01,  1.25342262e+00, ...,\n",
       "            1.96023750e+00,  2.50291139e-01, -9.47486520e-01]],\n",
       " \n",
       "         [[-1.66159141e+00, -2.26665199e-01,  1.58496845e+00, ...,\n",
       "           -6.46934390e-01, -5.15972614e-01,  9.83126342e-01],\n",
       "          [-3.07817549e-01,  4.86703366e-01,  1.59788120e+00, ...,\n",
       "            5.49159683e-02,  4.35594201e-01, -1.50021446e+00],\n",
       "          [ 4.20261286e-02, -5.16641736e-02,  3.07247485e-03, ...,\n",
       "            8.46158266e-02, -6.96932003e-02, -5.23487367e-02],\n",
       "          ...,\n",
       "          [-3.26079696e-01, -1.09268166e-01, -3.42589915e-01, ...,\n",
       "           -8.52826014e-02, -9.25112814e-02, -2.80752778e-01],\n",
       "          [ 1.03989162e-01, -3.23692441e-01,  3.09891105e-01, ...,\n",
       "            3.27541530e-01,  2.13484272e-01,  1.61296442e-01],\n",
       "          [-1.03794086e+00,  9.41104963e-02,  1.10137188e+00, ...,\n",
       "            1.72244406e+00,  2.19928697e-01, -8.32548380e-01]],\n",
       " \n",
       "         [[-1.90989897e-01, -2.60537956e-02,  1.82182565e-01, ...,\n",
       "           -7.43611977e-02, -5.93079329e-02,  1.13004439e-01],\n",
       "          [-2.88507223e-01,  4.56171006e-01,  1.49764132e+00, ...,\n",
       "            5.14709242e-02,  4.08268064e-01, -1.40610147e+00],\n",
       "          [ 4.43669379e-01, -5.45418084e-01,  3.24360803e-02, ...,\n",
       "            8.93288314e-01, -7.35750377e-01, -5.52645028e-01],\n",
       "          ...,\n",
       "          [-1.24626815e+00, -4.17620093e-01, -1.30936980e+00, ...,\n",
       "           -3.25947911e-01, -3.53575736e-01, -1.07302988e+00],\n",
       "          [ 9.92344134e-03, -3.08892094e-02,  2.95721814e-02, ...,\n",
       "            3.12565193e-02,  2.03723032e-02,  1.53921414e-02],\n",
       "          [ 5.33859015e-01, -4.84051965e-02, -5.66484332e-01, ...,\n",
       "           -8.85929346e-01, -1.13119073e-01,  4.28216517e-01]]],\n",
       " \n",
       " \n",
       "        [[[ 2.22920036e+00,  3.04095298e-01, -2.12640262e+00, ...,\n",
       "            8.67930770e-01,  6.92231715e-01, -1.31896782e+00],\n",
       "          [-4.82984304e-01,  7.63666987e-01,  2.50717211e+00, ...,\n",
       "            8.61664787e-02,  6.83473587e-01, -2.35392714e+00],\n",
       "          [-6.94101453e-01,  8.53282928e-01, -5.07448390e-02, ...,\n",
       "           -1.39751077e+00,  1.15104949e+00,  8.64589095e-01],\n",
       "          ...,\n",
       "          [ 1.96447238e-01,  6.58287778e-02,  2.06393853e-01, ...,\n",
       "            5.13786376e-02,  5.57335727e-02,  1.69139966e-01],\n",
       "          [-3.83976370e-01,  1.19522309e+00, -1.14426219e+00, ...,\n",
       "           -1.20943582e+00, -7.88283288e-01, -5.95581591e-01],\n",
       "          [-1.38035083e+00,  1.25156924e-01,  1.46470726e+00, ...,\n",
       "            2.29066730e+00,  2.92481750e-01, -1.10720062e+00]],\n",
       " \n",
       "         [[ 1.98176324e+00,  2.70341277e-01, -1.89037585e+00, ...,\n",
       "            7.71592021e-01,  6.15395248e-01, -1.17256474e+00],\n",
       "          [-1.88001424e-01,  2.97257036e-01,  9.75915670e-01, ...,\n",
       "            3.35402638e-02,  2.66041785e-01, -9.16265070e-01],\n",
       "          [-2.66292039e-02,  3.27362008e-02, -1.94682588e-03, ...,\n",
       "           -5.36155030e-02,  4.41600159e-02,  3.31699625e-02],\n",
       "          ...,\n",
       "          [-2.71419573e+00, -9.09517467e-01, -2.85162210e+00, ...,\n",
       "           -7.09868371e-01, -7.70037889e-01, -2.33690739e+00],\n",
       "          [ 5.41723132e-01, -1.68624961e+00,  1.61435270e+00, ...,\n",
       "            1.70630121e+00,  1.11212909e+00,  8.40260804e-01],\n",
       "          [-5.58129549e-01,  5.06058186e-02,  5.92238128e-01, ...,\n",
       "            9.26205873e-01,  1.18261755e-01, -4.47684318e-01]],\n",
       " \n",
       "         [[ 3.47777724e+00,  4.74419296e-01, -3.31740236e+00, ...,\n",
       "            1.35405946e+00,  1.07995129e+00, -2.05772257e+00],\n",
       "          [-8.21439400e-02,  1.29881263e-01,  4.26409274e-01, ...,\n",
       "            1.46548310e-02,  1.16242312e-01, -4.00346011e-01],\n",
       "          [-2.10507587e-01,  2.58784235e-01, -1.53899314e-02, ...,\n",
       "           -4.23838049e-01,  3.49091113e-01,  2.62213200e-01],\n",
       "          ...,\n",
       "          [ 7.05786705e-01,  2.36506656e-01,  7.41522431e-01, ...,\n",
       "            1.84590846e-01,  2.00237051e-01,  6.07678413e-01],\n",
       "          [-5.98523207e-02,  1.86305419e-01, -1.78361893e-01, ...,\n",
       "           -1.88520819e-01, -1.22873664e-01, -9.28362831e-02],\n",
       "          [ 9.11617696e-01, -8.26567188e-02, -9.67328787e-01, ...,\n",
       "           -1.51281309e+00, -1.93162158e-01,  7.31222630e-01]],\n",
       " \n",
       "         ...,\n",
       " \n",
       "         [[ 1.48458138e-01,  2.02518459e-02, -1.41612113e-01, ...,\n",
       "            5.78016154e-02,  4.61005792e-02, -8.78393427e-02],\n",
       "          [ 8.70923325e-03, -1.37705384e-02, -4.52096425e-02, ...,\n",
       "           -1.55376468e-03, -1.23244813e-02,  4.24463078e-02],\n",
       "          [-7.67245114e-01,  9.43200886e-01, -5.60922734e-02, ...,\n",
       "           -1.54477882e+00,  1.27234578e+00,  9.55698550e-01],\n",
       "          ...,\n",
       "          [ 4.28478271e-01,  1.43581569e-01,  4.50173199e-01, ...,\n",
       "            1.12063833e-01,  1.21562541e-01,  3.68917406e-01],\n",
       "          [-5.67984544e-02,  1.76799476e-01, -1.69261262e-01, ...,\n",
       "           -1.78901851e-01, -1.16604231e-01, -8.80994573e-02],\n",
       "          [ 2.09914297e-01, -1.90330073e-02, -2.22742632e-01, ...,\n",
       "           -3.48348975e-01, -4.44786176e-02,  1.68375492e-01]],\n",
       " \n",
       "         [[-1.66510725e+00, -2.27144793e-01,  1.58832216e+00, ...,\n",
       "           -6.48303211e-01, -5.17064333e-01,  9.85206544e-01],\n",
       "          [-9.15132239e-02,  1.44695446e-01,  4.75045264e-01, ...,\n",
       "            1.63263530e-02,  1.29500836e-01, -4.46009248e-01],\n",
       "          [-3.15351516e-01,  3.87672514e-01, -2.30549332e-02, ...,\n",
       "           -6.34931862e-01,  5.22956967e-01,  3.92809272e-01],\n",
       "          ...,\n",
       "          [-4.12217796e-01, -1.38132736e-01, -4.33089405e-01, ...,\n",
       "           -1.07811086e-01, -1.16949312e-01, -3.54917198e-01],\n",
       "          [ 3.97112072e-02, -1.23611130e-01,  1.18340708e-01, ...,\n",
       "            1.25081018e-01,  8.15250203e-02,  6.15956225e-02],\n",
       "          [-8.52519572e-01,  7.72982687e-02,  9.04618979e-01, ...,\n",
       "            1.41474068e+00,  1.80639878e-01, -6.83819056e-01]],\n",
       " \n",
       "         [[-6.99276567e-01, -9.53914747e-02,  6.67029977e-01, ...,\n",
       "           -2.72260696e-01, -2.17145756e-01,  4.13746238e-01],\n",
       "          [ 1.36618033e-01, -2.16012567e-01, -7.09184349e-01, ...,\n",
       "           -2.43732426e-02, -1.93328872e-01,  6.65837109e-01],\n",
       "          [-2.39029020e-01,  2.93846637e-01, -1.74750965e-02, ...,\n",
       "           -4.81263399e-01,  3.96389067e-01,  2.97740161e-01],\n",
       "          ...,\n",
       "          [ 5.24595797e-01,  1.75790206e-01,  5.51157355e-01, ...,\n",
       "            1.37202322e-01,  1.48831800e-01,  4.51674014e-01],\n",
       "          [ 1.98696151e-01, -6.18491769e-01,  5.92121065e-01, ...,\n",
       "            6.25846446e-01,  4.07912731e-01,  3.08195412e-01],\n",
       "          [-1.63774860e+00,  1.48495287e-01,  1.73783517e+00, ...,\n",
       "            2.71781421e+00,  3.47021610e-01, -1.31366336e+00]]]],\n",
       "       dtype=float32)>,\n",
       " <tf.Tensor: id=2049, shape=(2, 32, 32, 32), dtype=float32, numpy=\n",
       " array([[[[-6.14114143e-02, -4.50182378e-01,  6.43802583e-02, ...,\n",
       "           -1.57729566e-01, -1.97763756e-01,  1.03792034e-01],\n",
       "          [-1.62521815e+00,  1.02787590e+00,  3.13083738e-01, ...,\n",
       "            9.10974789e+00,  1.14847863e+00, -3.33466083e-01],\n",
       "          [ 1.78657293e+00, -1.45328462e+00,  2.44372215e+01, ...,\n",
       "            8.87336910e-01, -1.07733238e+00, -1.43428004e+00],\n",
       "          ...,\n",
       "          [-1.08583403e+00, -3.24036217e+00, -1.03350508e+00, ...,\n",
       "           -4.15170765e+00, -3.82729983e+00, -1.26113939e+00],\n",
       "          [-1.02045763e+00,  3.27831358e-01, -3.42431664e-01, ...,\n",
       "           -3.23978841e-01, -4.97069567e-01, -6.57897532e-01],\n",
       "          [ 1.14364886e+00, -1.26132584e+01, -1.07778311e+00, ...,\n",
       "           -6.89160228e-01, -5.39738512e+00,  1.42579091e+00]],\n",
       " \n",
       "         [[-1.67471722e-01, -1.22766793e+00,  1.75567895e-01, ...,\n",
       "           -4.30135727e-01, -5.39310813e-01,  2.83045620e-01],\n",
       "          [ 5.24414539e+00, -3.31668139e+00, -1.01023781e+00, ...,\n",
       "           -2.93947277e+01, -3.70583463e+00,  1.07600617e+00],\n",
       "          [-3.75221282e-01,  3.05223078e-01, -5.13237667e+00, ...,\n",
       "           -1.86361089e-01,  2.26264507e-01,  3.01231682e-01],\n",
       "          ...,\n",
       "          [ 2.53769040e+00,  7.57301378e+00,  2.41539311e+00, ...,\n",
       "            9.70290947e+00,  8.94473934e+00,  2.94739485e+00],\n",
       "          [ 9.39732361e+00, -3.01897645e+00,  3.15342951e+00, ...,\n",
       "            2.98349881e+00,  4.57747936e+00,  6.05853271e+00],\n",
       "          [-2.13127112e+00,  2.35057049e+01,  2.00852561e+00, ...,\n",
       "            1.28429914e+00,  1.00584116e+01, -2.65706301e+00]],\n",
       " \n",
       "         [[-2.17132479e-01, -1.59171093e+00,  2.27629423e-01, ...,\n",
       "           -5.57684779e-01, -6.99233770e-01,  3.66977721e-01],\n",
       "          [ 4.80493498e+00, -3.03890085e+00, -9.25627828e-01, ...,\n",
       "           -2.69328442e+01, -3.39546156e+00,  9.85887885e-01],\n",
       "          [-8.35316777e-01,  6.79486930e-01, -1.14256859e+01, ...,\n",
       "           -4.14876640e-01,  5.03709495e-01,  6.70601308e-01],\n",
       "          ...,\n",
       "          [-1.35484207e+00, -4.04313993e+00, -1.28954899e+00, ...,\n",
       "           -5.18026495e+00, -4.77548742e+00, -1.57357824e+00],\n",
       "          [ 1.18186913e+01, -3.79686284e+00,  3.96596003e+00, ...,\n",
       "            3.75224400e+00,  5.75693846e+00,  7.61960840e+00],\n",
       "          [ 7.39080548e-01, -8.15128994e+00, -6.96514904e-01, ...,\n",
       "           -4.45368260e-01, -3.48804832e+00,  9.21414196e-01]],\n",
       " \n",
       "         ...,\n",
       " \n",
       "         [[ 5.52286625e-01,  4.04859114e+00, -5.78986108e-01, ...,\n",
       "            1.41849744e+00,  1.77853382e+00, -9.33425009e-01],\n",
       "          [ 1.87831986e+00, -1.18795109e+00, -3.61841559e-01, ...,\n",
       "           -1.05284462e+01, -1.32733595e+00,  3.85398090e-01],\n",
       "          [-3.34984136e+00,  2.72492242e+00, -4.58200226e+01, ...,\n",
       "           -1.66376519e+00,  2.02000856e+00,  2.68928862e+00],\n",
       "          ...,\n",
       "          [-4.65965003e-01, -1.39053977e+00, -4.43509042e-01, ...,\n",
       "           -1.78162634e+00, -1.64241290e+00, -5.41194022e-01],\n",
       "          [ 2.00459409e+00, -6.43994272e-01,  6.72675192e-01, ...,\n",
       "            6.36426330e-01,  9.76446927e-01,  1.29237854e+00],\n",
       "          [-9.99190748e-01,  1.10200357e+01,  9.41644669e-01, ...,\n",
       "            6.02110088e-01,  4.71562338e+00, -1.24569452e+00]],\n",
       " \n",
       "         [[-4.70004231e-01, -3.44541216e+00,  4.92725879e-01, ...,\n",
       "           -1.20716262e+00, -1.51355910e+00,  7.94358730e-01],\n",
       "          [-4.15733433e+00,  2.62932324e+00,  8.00873339e-01, ...,\n",
       "            2.33028831e+01,  2.93782711e+00, -8.53011668e-01],\n",
       "          [ 2.52889127e-01, -2.05712214e-01,  3.45908499e+00, ...,\n",
       "            1.25602409e-01, -1.52496234e-01, -2.03022122e-01],\n",
       "          ...,\n",
       "          [-4.44680810e-01, -1.32702315e+00, -4.23250586e-01, ...,\n",
       "           -1.70024586e+00, -1.56739128e+00, -5.16473532e-01],\n",
       "          [ 1.79856408e+00, -5.77805221e-01,  6.03538334e-01, ...,\n",
       "            5.71015120e-01,  8.76088798e-01,  1.15954924e+00],\n",
       "          [-8.77980471e-01,  9.68321228e+00,  8.27415228e-01, ...,\n",
       "            5.29069006e-01,  4.14357853e+00, -1.09458125e+00]],\n",
       " \n",
       "         [[-5.40241487e-02, -3.96029323e-01,  5.66358641e-02, ...,\n",
       "           -1.38756052e-01, -1.73974469e-01,  9.13067386e-02],\n",
       "          [-3.89653230e+00,  2.46437788e+00,  7.50632107e-01, ...,\n",
       "            2.18410225e+01,  2.75352836e+00, -7.99499691e-01],\n",
       "          [ 2.66974783e+00, -2.17170167e+00,  3.65175209e+01, ...,\n",
       "            1.32598317e+00, -1.60990107e+00, -2.14330220e+00],\n",
       "          ...,\n",
       "          [-1.69955862e+00, -5.07184839e+00, -1.61765289e+00, ...,\n",
       "           -6.49829578e+00, -5.99052954e+00, -1.97394848e+00],\n",
       "          [ 1.71632752e-01, -5.51385954e-02,  5.75942472e-02, ...,\n",
       "            5.44906333e-02,  8.36030990e-02,  1.10653058e-01],\n",
       "          [ 4.51584250e-01, -4.98050499e+00, -4.25576299e-01, ...,\n",
       "           -2.72123635e-01, -2.13122606e+00,  5.62991619e-01]]],\n",
       " \n",
       " \n",
       "        [[[ 6.30560279e-01,  4.62238407e+00, -6.61043763e-01, ...,\n",
       "            1.61953616e+00,  2.03059936e+00, -1.06571615e+00],\n",
       "          [-6.52310896e+00,  4.12556696e+00,  1.25661862e+00, ...,\n",
       "            3.65636330e+01,  4.60962820e+00, -1.33842683e+00],\n",
       "          [-4.17670441e+00,  3.39753270e+00, -5.71300774e+01, ...,\n",
       "           -2.07444310e+00,  2.51862025e+00,  3.35310340e+00],\n",
       "          ...,\n",
       "          [ 2.67898679e-01,  7.99467266e-01,  2.54987985e-01, ...,\n",
       "            1.02431583e+00,  9.44277406e-01,  3.11150312e-01],\n",
       "          [-6.64113569e+00,  2.13352585e+00, -2.22854447e+00, ...,\n",
       "           -2.10845351e+00, -3.23492765e+00, -4.28159523e+00],\n",
       "          [-1.16762054e+00,  1.28776407e+01,  1.10037410e+00, ...,\n",
       "            7.03605473e-01,  5.51051807e+00, -1.45567644e+00]],\n",
       " \n",
       "         [[ 5.60569286e-01,  4.10930777e+00, -5.87669134e-01, ...,\n",
       "            1.43977058e+00,  1.80520654e+00, -9.47423577e-01],\n",
       "          [-2.53911734e+00,  1.60587513e+00,  4.89138246e-01, ...,\n",
       "            1.42323780e+01,  1.79429579e+00, -5.20982027e-01],\n",
       "          [-1.60239264e-01,  1.30346343e-01, -2.19179535e+00, ...,\n",
       "           -7.95860142e-02,  9.66268703e-02,  1.28641814e-01],\n",
       "          ...,\n",
       "          [-3.70139813e+00, -1.10457678e+01, -3.52301884e+00, ...,\n",
       "           -1.41523685e+01, -1.30465250e+01, -4.29898024e+00],\n",
       "          [ 9.36947441e+00, -3.01002955e+00,  3.14408422e+00, ...,\n",
       "            2.97465706e+00,  4.56391382e+00,  6.04057789e+00],\n",
       "          [-4.72114384e-01,  5.20693111e+00,  4.44924086e-01, ...,\n",
       "            2.84495056e-01,  2.22811675e+00, -5.88586628e-01]],\n",
       " \n",
       "         [[ 9.83737588e-01,  7.21138477e+00, -1.03129494e+00, ...,\n",
       "            2.52663970e+00,  3.16793966e+00, -1.66262460e+00],\n",
       "          [-1.10942292e+00,  7.01659024e-01,  2.13720396e-01, ...,\n",
       "            6.21858835e+00,  7.83986151e-01, -2.27633998e-01],\n",
       "          [-1.26671386e+00,  1.03040612e+00, -1.73264503e+01, ...,\n",
       "           -6.29138589e-01,  7.63848960e-01,  1.01693153e+00],\n",
       "          ...,\n",
       "          [ 9.62494195e-01,  2.87228966e+00,  9.16109324e-01, ...,\n",
       "            3.68011546e+00,  3.39255714e+00,  1.11788666e+00],\n",
       "          [-1.03518713e+00,  3.32563341e-01, -3.47374380e-01, ...,\n",
       "           -3.28655213e-01, -5.04244387e-01, -6.67393744e-01],\n",
       "          [ 7.71125376e-01, -8.50471115e+00, -7.26714194e-01, ...,\n",
       "           -4.64678377e-01, -3.63928199e+00,  9.61364627e-01]],\n",
       " \n",
       "         ...,\n",
       " \n",
       "         [[ 4.19934466e-02,  3.07837069e-01, -4.40235585e-02, ...,\n",
       "            1.07856311e-01,  1.35231897e-01, -7.09735379e-02],\n",
       "          [ 1.17625520e-01, -7.43927434e-02, -2.26595048e-02, ...,\n",
       "           -6.59319997e-01, -8.31213966e-02,  2.41346806e-02],\n",
       "          [-4.61684084e+00,  3.75556087e+00, -6.31503792e+01, ...,\n",
       "           -2.29304552e+00,  2.78402972e+00,  3.70644951e+00],\n",
       "          ...,\n",
       "          [ 5.84323645e-01,  1.74374735e+00,  5.56163669e-01, ...,\n",
       "            2.23417282e+00,  2.05959821e+00,  6.78661346e-01],\n",
       "          [-9.82368350e-01,  3.15594852e-01, -3.29650164e-01, ...,\n",
       "           -3.11886102e-01, -4.78516102e-01, -6.33341014e-01],\n",
       "          [ 1.77563727e-01, -1.95834327e+00, -1.67337358e-01, ...,\n",
       "           -1.06999494e-01, -8.38001788e-01,  2.21369296e-01]],\n",
       " \n",
       "         [[-4.70998704e-01, -3.45270228e+00,  4.93768424e-01, ...,\n",
       "           -1.20971692e+00, -1.51676166e+00,  7.96039522e-01],\n",
       "          [-1.23596299e+00,  7.81689882e-01,  2.38097221e-01, ...,\n",
       "            6.92787695e+00,  8.73407185e-01, -2.53597796e-01],\n",
       "          [-1.89760447e+00,  1.54360306e+00, -2.59559402e+01, ...,\n",
       "           -9.42482948e-01,  1.14428627e+00,  1.52341735e+00],\n",
       "          ...,\n",
       "          [-5.62148929e-01, -1.67757320e+00, -5.35057604e-01, ...,\n",
       "           -2.14938736e+00, -1.98143768e+00, -6.52906597e-01],\n",
       "          [ 6.86832666e-01, -2.20651299e-01,  2.30478227e-01, ...,\n",
       "            2.18058303e-01,  3.34559321e-01,  4.42806751e-01],\n",
       "          [-7.21134961e-01,  7.95336914e+00,  6.79602921e-01, ...,\n",
       "            4.34554309e-01,  3.40335536e+00, -8.99041474e-01]],\n",
       " \n",
       "         [[-1.97800085e-01, -1.44999290e+00,  2.07362443e-01, ...,\n",
       "           -5.08031368e-01, -6.36977494e-01,  3.34303856e-01],\n",
       "          [ 1.84514129e+00, -1.16696715e+00, -3.55449975e-01, ...,\n",
       "           -1.03424711e+01, -1.30388987e+00,  3.78590435e-01],\n",
       "          [-1.43833947e+00,  1.17001474e+00, -1.96739922e+01, ...,\n",
       "           -7.14379847e-01,  8.67341995e-01,  1.15471447e+00],\n",
       "          ...,\n",
       "          [ 7.15400815e-01,  2.13490987e+00,  6.80923939e-01, ...,\n",
       "            2.73534918e+00,  2.52161336e+00,  8.30900669e-01],\n",
       "          [ 3.43658662e+00, -1.10403502e+00,  1.15320432e+00, ...,\n",
       "            1.09106088e+00,  1.67397702e+00,  2.21559596e+00],\n",
       "          [-1.38534987e+00,  1.52789688e+01,  1.30556393e+00, ...,\n",
       "            8.34808707e-01,  6.53807926e+00, -1.72712040e+00]]]],\n",
       "       dtype=float32)>)"
      ]
     },
     "execution_count": 76,
     "metadata": {},
     "output_type": "execute_result"
    }
   ],
   "source": [
    "a = tf.random.normal([2, 32, 32, 1])\n",
    "b = tf.random.normal([32, 32])\n",
    "a+b,a-b,a*b,a/b"
   ]
  },
  {
   "cell_type": "markdown",
   "metadata": {},
   "source": [
    "可以看到，自动推导按照最右优先原则。"
   ]
  },
  {
   "cell_type": "markdown",
   "metadata": {},
   "source": [
    "5.数学运算。"
   ]
  },
  {
   "cell_type": "markdown",
   "metadata": {},
   "source": [
    "加减乘除是最基本的数学运算，分别通过tf.add, tf.subtract, tf.multiply, tf.divide 函数实\n",
    "现，TensorFlow 已经重载了+ −∗/运算符，一般推荐直接使用运算符来完成加减乘除运\n",
    "算。"
   ]
  },
  {
   "cell_type": "markdown",
   "metadata": {},
   "source": [
    "整除和余除也是常见的运算之一，分别通过//和%运算符实现，如下所示："
   ]
  },
  {
   "cell_type": "code",
   "execution_count": 78,
   "metadata": {},
   "outputs": [
    {
     "data": {
      "text/plain": [
       "<tf.Tensor: id=2712, shape=(5,), dtype=int32, numpy=array([0, 0, 1, 1, 2])>"
      ]
     },
     "execution_count": 78,
     "metadata": {},
     "output_type": "execute_result"
    }
   ],
   "source": [
    "a = tf.range(5)\n",
    "b = tf.constant(2)\n",
    "a//2"
   ]
  },
  {
   "cell_type": "code",
   "execution_count": 79,
   "metadata": {},
   "outputs": [
    {
     "data": {
      "text/plain": [
       "<tf.Tensor: id=3383, shape=(5,), dtype=int32, numpy=array([0, 1, 0, 1, 0])>"
      ]
     },
     "execution_count": 79,
     "metadata": {},
     "output_type": "execute_result"
    }
   ],
   "source": [
    "a%2"
   ]
  },
  {
   "cell_type": "markdown",
   "metadata": {},
   "source": [
    "乘方："
   ]
  },
  {
   "cell_type": "code",
   "execution_count": 80,
   "metadata": {},
   "outputs": [
    {
     "data": {
      "text/plain": [
       "<tf.Tensor: id=3390, shape=(5,), dtype=int32, numpy=array([ 0,  1,  4,  9, 16])>"
      ]
     },
     "execution_count": 80,
     "metadata": {},
     "output_type": "execute_result"
    }
   ],
   "source": [
    "x = tf.range(5)\n",
    "tf.pow(x, 2)"
   ]
  },
  {
   "cell_type": "markdown",
   "metadata": {},
   "source": [
    "根号运算："
   ]
  },
  {
   "cell_type": "code",
   "execution_count": 85,
   "metadata": {},
   "outputs": [
    {
     "data": {
      "text/plain": [
       "<tf.Tensor: id=3409, shape=(3,), dtype=float32, numpy=array([1.       , 1.4142135, 1.7320508], dtype=float32)>"
      ]
     },
     "execution_count": 85,
     "metadata": {},
     "output_type": "execute_result"
    }
   ],
   "source": [
    "x = tf.constant([1., 2., 3.])\n",
    "x**0.5"
   ]
  },
  {
   "cell_type": "markdown",
   "metadata": {},
   "source": [
    "平方和平方根："
   ]
  },
  {
   "cell_type": "code",
   "execution_count": 89,
   "metadata": {},
   "outputs": [
    {
     "data": {
      "text/plain": [
       "<tf.Tensor: id=3424, shape=(5,), dtype=int32, numpy=array([ 0,  1,  4,  9, 16])>"
      ]
     },
     "execution_count": 89,
     "metadata": {},
     "output_type": "execute_result"
    }
   ],
   "source": [
    "x = tf.range(5)\n",
    "tf.square(x)"
   ]
  },
  {
   "cell_type": "code",
   "execution_count": 90,
   "metadata": {},
   "outputs": [
    {
     "data": {
      "text/plain": [
       "<tf.Tensor: id=3427, shape=(5,), dtype=float32, numpy=\n",
       "array([0.       , 1.       , 1.4142135, 1.7320508, 2.       ],\n",
       "      dtype=float32)>"
      ]
     },
     "execution_count": 90,
     "metadata": {},
     "output_type": "execute_result"
    }
   ],
   "source": [
    "x = tf.cast(x, dtype=tf.float32)\n",
    "tf.sqrt(x)"
   ]
  },
  {
   "cell_type": "markdown",
   "metadata": {},
   "source": [
    "指数和对数："
   ]
  },
  {
   "cell_type": "code",
   "execution_count": null,
   "metadata": {},
   "outputs": [],
   "source": []
  }
 ],
 "metadata": {
  "kernelspec": {
   "display_name": "Python 3",
   "language": "python",
   "name": "python3"
  },
  "language_info": {
   "codemirror_mode": {
    "name": "ipython",
    "version": 3
   },
   "file_extension": ".py",
   "mimetype": "text/x-python",
   "name": "python",
   "nbconvert_exporter": "python",
   "pygments_lexer": "ipython3",
   "version": "3.6.4"
  }
 },
 "nbformat": 4,
 "nbformat_minor": 2
}
