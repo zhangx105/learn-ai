{
 "cells": [
  {
   "cell_type": "markdown",
   "metadata": {},
   "source": [
    "概要："
   ]
  },
  {
   "cell_type": "code",
   "execution_count": 8,
   "metadata": {},
   "outputs": [],
   "source": [
    "import tensorflow as tf\n",
    "from    tensorflow import keras\n",
    "from    tensorflow.keras import layers, optimizers, datasets\n",
    "import pandas as pd"
   ]
  },
  {
   "cell_type": "code",
   "execution_count": 9,
   "metadata": {},
   "outputs": [],
   "source": [
    "dataset_path = keras.utils.get_file(\"auto-mpg.data\",\"http://archive.ics.uci.edu/ml/machine-learning-databases/auto-mpg/auto-mpg.data\")"
   ]
  },
  {
   "cell_type": "code",
   "execution_count": 10,
   "metadata": {},
   "outputs": [],
   "source": [
    "column_names = ['MPG','Cylinders','Displacement','Horsepower','Weight',\n",
    "'Acceleration', 'Model Year', 'Origin']"
   ]
  },
  {
   "cell_type": "code",
   "execution_count": 11,
   "metadata": {},
   "outputs": [],
   "source": [
    "raw_dataset = pd.read_csv(dataset_path, names=column_names,\n",
    "na_values = \"?\", comment='\\t',\n",
    "sep=\" \", skipinitialspace=True)"
   ]
  },
  {
   "cell_type": "code",
   "execution_count": 12,
   "metadata": {},
   "outputs": [],
   "source": [
    "dataset = raw_dataset.copy()"
   ]
  },
  {
   "cell_type": "code",
   "execution_count": 13,
   "metadata": {},
   "outputs": [
    {
     "data": {
      "text/html": [
       "<div>\n",
       "<style scoped>\n",
       "    .dataframe tbody tr th:only-of-type {\n",
       "        vertical-align: middle;\n",
       "    }\n",
       "\n",
       "    .dataframe tbody tr th {\n",
       "        vertical-align: top;\n",
       "    }\n",
       "\n",
       "    .dataframe thead th {\n",
       "        text-align: right;\n",
       "    }\n",
       "</style>\n",
       "<table border=\"1\" class=\"dataframe\">\n",
       "  <thead>\n",
       "    <tr style=\"text-align: right;\">\n",
       "      <th></th>\n",
       "      <th>MPG</th>\n",
       "      <th>Cylinders</th>\n",
       "      <th>Displacement</th>\n",
       "      <th>Horsepower</th>\n",
       "      <th>Weight</th>\n",
       "      <th>Acceleration</th>\n",
       "      <th>Model Year</th>\n",
       "      <th>Origin</th>\n",
       "    </tr>\n",
       "  </thead>\n",
       "  <tbody>\n",
       "    <tr>\n",
       "      <th>0</th>\n",
       "      <td>18.0</td>\n",
       "      <td>8</td>\n",
       "      <td>307.0</td>\n",
       "      <td>130.0</td>\n",
       "      <td>3504.0</td>\n",
       "      <td>12.0</td>\n",
       "      <td>70</td>\n",
       "      <td>1</td>\n",
       "    </tr>\n",
       "    <tr>\n",
       "      <th>1</th>\n",
       "      <td>15.0</td>\n",
       "      <td>8</td>\n",
       "      <td>350.0</td>\n",
       "      <td>165.0</td>\n",
       "      <td>3693.0</td>\n",
       "      <td>11.5</td>\n",
       "      <td>70</td>\n",
       "      <td>1</td>\n",
       "    </tr>\n",
       "    <tr>\n",
       "      <th>2</th>\n",
       "      <td>18.0</td>\n",
       "      <td>8</td>\n",
       "      <td>318.0</td>\n",
       "      <td>150.0</td>\n",
       "      <td>3436.0</td>\n",
       "      <td>11.0</td>\n",
       "      <td>70</td>\n",
       "      <td>1</td>\n",
       "    </tr>\n",
       "    <tr>\n",
       "      <th>3</th>\n",
       "      <td>16.0</td>\n",
       "      <td>8</td>\n",
       "      <td>304.0</td>\n",
       "      <td>150.0</td>\n",
       "      <td>3433.0</td>\n",
       "      <td>12.0</td>\n",
       "      <td>70</td>\n",
       "      <td>1</td>\n",
       "    </tr>\n",
       "    <tr>\n",
       "      <th>4</th>\n",
       "      <td>17.0</td>\n",
       "      <td>8</td>\n",
       "      <td>302.0</td>\n",
       "      <td>140.0</td>\n",
       "      <td>3449.0</td>\n",
       "      <td>10.5</td>\n",
       "      <td>70</td>\n",
       "      <td>1</td>\n",
       "    </tr>\n",
       "  </tbody>\n",
       "</table>\n",
       "</div>"
      ],
      "text/plain": [
       "    MPG  Cylinders  Displacement  Horsepower  Weight  Acceleration  \\\n",
       "0  18.0          8         307.0       130.0  3504.0          12.0   \n",
       "1  15.0          8         350.0       165.0  3693.0          11.5   \n",
       "2  18.0          8         318.0       150.0  3436.0          11.0   \n",
       "3  16.0          8         304.0       150.0  3433.0          12.0   \n",
       "4  17.0          8         302.0       140.0  3449.0          10.5   \n",
       "\n",
       "   Model Year  Origin  \n",
       "0          70       1  \n",
       "1          70       1  \n",
       "2          70       1  \n",
       "3          70       1  \n",
       "4          70       1  "
      ]
     },
     "execution_count": 13,
     "metadata": {},
     "output_type": "execute_result"
    }
   ],
   "source": [
    "dataset.head()"
   ]
  },
  {
   "cell_type": "code",
   "execution_count": 14,
   "metadata": {},
   "outputs": [
    {
     "data": {
      "text/html": [
       "<div>\n",
       "<style scoped>\n",
       "    .dataframe tbody tr th:only-of-type {\n",
       "        vertical-align: middle;\n",
       "    }\n",
       "\n",
       "    .dataframe tbody tr th {\n",
       "        vertical-align: top;\n",
       "    }\n",
       "\n",
       "    .dataframe thead th {\n",
       "        text-align: right;\n",
       "    }\n",
       "</style>\n",
       "<table border=\"1\" class=\"dataframe\">\n",
       "  <thead>\n",
       "    <tr style=\"text-align: right;\">\n",
       "      <th></th>\n",
       "      <th>MPG</th>\n",
       "      <th>Cylinders</th>\n",
       "      <th>Displacement</th>\n",
       "      <th>Horsepower</th>\n",
       "      <th>Weight</th>\n",
       "      <th>Acceleration</th>\n",
       "      <th>Model Year</th>\n",
       "      <th>Origin</th>\n",
       "    </tr>\n",
       "  </thead>\n",
       "  <tbody>\n",
       "    <tr>\n",
       "      <th>count</th>\n",
       "      <td>398.000000</td>\n",
       "      <td>398.000000</td>\n",
       "      <td>398.000000</td>\n",
       "      <td>392.000000</td>\n",
       "      <td>398.000000</td>\n",
       "      <td>398.000000</td>\n",
       "      <td>398.000000</td>\n",
       "      <td>398.000000</td>\n",
       "    </tr>\n",
       "    <tr>\n",
       "      <th>mean</th>\n",
       "      <td>23.514573</td>\n",
       "      <td>5.454774</td>\n",
       "      <td>193.425879</td>\n",
       "      <td>104.469388</td>\n",
       "      <td>2970.424623</td>\n",
       "      <td>15.568090</td>\n",
       "      <td>76.010050</td>\n",
       "      <td>1.572864</td>\n",
       "    </tr>\n",
       "    <tr>\n",
       "      <th>std</th>\n",
       "      <td>7.815984</td>\n",
       "      <td>1.701004</td>\n",
       "      <td>104.269838</td>\n",
       "      <td>38.491160</td>\n",
       "      <td>846.841774</td>\n",
       "      <td>2.757689</td>\n",
       "      <td>3.697627</td>\n",
       "      <td>0.802055</td>\n",
       "    </tr>\n",
       "    <tr>\n",
       "      <th>min</th>\n",
       "      <td>9.000000</td>\n",
       "      <td>3.000000</td>\n",
       "      <td>68.000000</td>\n",
       "      <td>46.000000</td>\n",
       "      <td>1613.000000</td>\n",
       "      <td>8.000000</td>\n",
       "      <td>70.000000</td>\n",
       "      <td>1.000000</td>\n",
       "    </tr>\n",
       "    <tr>\n",
       "      <th>25%</th>\n",
       "      <td>17.500000</td>\n",
       "      <td>4.000000</td>\n",
       "      <td>104.250000</td>\n",
       "      <td>75.000000</td>\n",
       "      <td>2223.750000</td>\n",
       "      <td>13.825000</td>\n",
       "      <td>73.000000</td>\n",
       "      <td>1.000000</td>\n",
       "    </tr>\n",
       "    <tr>\n",
       "      <th>50%</th>\n",
       "      <td>23.000000</td>\n",
       "      <td>4.000000</td>\n",
       "      <td>148.500000</td>\n",
       "      <td>93.500000</td>\n",
       "      <td>2803.500000</td>\n",
       "      <td>15.500000</td>\n",
       "      <td>76.000000</td>\n",
       "      <td>1.000000</td>\n",
       "    </tr>\n",
       "    <tr>\n",
       "      <th>75%</th>\n",
       "      <td>29.000000</td>\n",
       "      <td>8.000000</td>\n",
       "      <td>262.000000</td>\n",
       "      <td>126.000000</td>\n",
       "      <td>3608.000000</td>\n",
       "      <td>17.175000</td>\n",
       "      <td>79.000000</td>\n",
       "      <td>2.000000</td>\n",
       "    </tr>\n",
       "    <tr>\n",
       "      <th>max</th>\n",
       "      <td>46.600000</td>\n",
       "      <td>8.000000</td>\n",
       "      <td>455.000000</td>\n",
       "      <td>230.000000</td>\n",
       "      <td>5140.000000</td>\n",
       "      <td>24.800000</td>\n",
       "      <td>82.000000</td>\n",
       "      <td>3.000000</td>\n",
       "    </tr>\n",
       "  </tbody>\n",
       "</table>\n",
       "</div>"
      ],
      "text/plain": [
       "              MPG   Cylinders  Displacement  Horsepower       Weight  \\\n",
       "count  398.000000  398.000000    398.000000  392.000000   398.000000   \n",
       "mean    23.514573    5.454774    193.425879  104.469388  2970.424623   \n",
       "std      7.815984    1.701004    104.269838   38.491160   846.841774   \n",
       "min      9.000000    3.000000     68.000000   46.000000  1613.000000   \n",
       "25%     17.500000    4.000000    104.250000   75.000000  2223.750000   \n",
       "50%     23.000000    4.000000    148.500000   93.500000  2803.500000   \n",
       "75%     29.000000    8.000000    262.000000  126.000000  3608.000000   \n",
       "max     46.600000    8.000000    455.000000  230.000000  5140.000000   \n",
       "\n",
       "       Acceleration  Model Year      Origin  \n",
       "count    398.000000  398.000000  398.000000  \n",
       "mean      15.568090   76.010050    1.572864  \n",
       "std        2.757689    3.697627    0.802055  \n",
       "min        8.000000   70.000000    1.000000  \n",
       "25%       13.825000   73.000000    1.000000  \n",
       "50%       15.500000   76.000000    1.000000  \n",
       "75%       17.175000   79.000000    2.000000  \n",
       "max       24.800000   82.000000    3.000000  "
      ]
     },
     "execution_count": 14,
     "metadata": {},
     "output_type": "execute_result"
    }
   ],
   "source": [
    "dataset.describe()"
   ]
  },
  {
   "cell_type": "code",
   "execution_count": 15,
   "metadata": {},
   "outputs": [
    {
     "name": "stdout",
     "output_type": "stream",
     "text": [
      "<class 'pandas.core.frame.DataFrame'>\n",
      "RangeIndex: 398 entries, 0 to 397\n",
      "Data columns (total 8 columns):\n",
      "MPG             398 non-null float64\n",
      "Cylinders       398 non-null int64\n",
      "Displacement    398 non-null float64\n",
      "Horsepower      392 non-null float64\n",
      "Weight          398 non-null float64\n",
      "Acceleration    398 non-null float64\n",
      "Model Year      398 non-null int64\n",
      "Origin          398 non-null int64\n",
      "dtypes: float64(5), int64(3)\n",
      "memory usage: 25.0 KB\n"
     ]
    }
   ],
   "source": [
    "dataset.info()"
   ]
  },
  {
   "cell_type": "code",
   "execution_count": 16,
   "metadata": {},
   "outputs": [
    {
     "data": {
      "text/plain": [
       "array([[<matplotlib.axes._subplots.AxesSubplot object at 0x000000000692C518>,\n",
       "        <matplotlib.axes._subplots.AxesSubplot object at 0x0000000006AEA630>,\n",
       "        <matplotlib.axes._subplots.AxesSubplot object at 0x0000000006B0FB70>],\n",
       "       [<matplotlib.axes._subplots.AxesSubplot object at 0x0000000006B3B160>,\n",
       "        <matplotlib.axes._subplots.AxesSubplot object at 0x0000000006B5B710>,\n",
       "        <matplotlib.axes._subplots.AxesSubplot object at 0x0000000006B7FCC0>],\n",
       "       [<matplotlib.axes._subplots.AxesSubplot object at 0x0000000006BA72B0>,\n",
       "        <matplotlib.axes._subplots.AxesSubplot object at 0x0000000006BC8898>,\n",
       "        <matplotlib.axes._subplots.AxesSubplot object at 0x0000000006BC88D0>]],\n",
       "      dtype=object)"
      ]
     },
     "execution_count": 16,
     "metadata": {},
     "output_type": "execute_result"
    }
   ],
   "source": [
    "import matplotlib.pyplot as plt\n",
    "dataset.hist(bins=50, figsize=(40,25))"
   ]
  },
  {
   "cell_type": "code",
   "execution_count": 10,
   "metadata": {},
   "outputs": [
    {
     "data": {
      "text/html": [
       "<div>\n",
       "<style scoped>\n",
       "    .dataframe tbody tr th:only-of-type {\n",
       "        vertical-align: middle;\n",
       "    }\n",
       "\n",
       "    .dataframe tbody tr th {\n",
       "        vertical-align: top;\n",
       "    }\n",
       "\n",
       "    .dataframe thead th {\n",
       "        text-align: right;\n",
       "    }\n",
       "</style>\n",
       "<table border=\"1\" class=\"dataframe\">\n",
       "  <thead>\n",
       "    <tr style=\"text-align: right;\">\n",
       "      <th></th>\n",
       "      <th>MPG</th>\n",
       "      <th>Cylinders</th>\n",
       "      <th>Displacement</th>\n",
       "      <th>Horsepower</th>\n",
       "      <th>Weight</th>\n",
       "      <th>Acceleration</th>\n",
       "      <th>Model Year</th>\n",
       "      <th>Origin</th>\n",
       "    </tr>\n",
       "  </thead>\n",
       "  <tbody>\n",
       "    <tr>\n",
       "      <th>MPG</th>\n",
       "      <td>1.000000</td>\n",
       "      <td>-0.775396</td>\n",
       "      <td>-0.804203</td>\n",
       "      <td>-0.778427</td>\n",
       "      <td>-0.831741</td>\n",
       "      <td>0.420289</td>\n",
       "      <td>0.579267</td>\n",
       "      <td>0.563450</td>\n",
       "    </tr>\n",
       "    <tr>\n",
       "      <th>Cylinders</th>\n",
       "      <td>-0.775396</td>\n",
       "      <td>1.000000</td>\n",
       "      <td>0.950721</td>\n",
       "      <td>0.842983</td>\n",
       "      <td>0.896017</td>\n",
       "      <td>-0.505419</td>\n",
       "      <td>-0.348746</td>\n",
       "      <td>-0.562543</td>\n",
       "    </tr>\n",
       "    <tr>\n",
       "      <th>Displacement</th>\n",
       "      <td>-0.804203</td>\n",
       "      <td>0.950721</td>\n",
       "      <td>1.000000</td>\n",
       "      <td>0.897257</td>\n",
       "      <td>0.932824</td>\n",
       "      <td>-0.543684</td>\n",
       "      <td>-0.370164</td>\n",
       "      <td>-0.609409</td>\n",
       "    </tr>\n",
       "    <tr>\n",
       "      <th>Horsepower</th>\n",
       "      <td>-0.778427</td>\n",
       "      <td>0.842983</td>\n",
       "      <td>0.897257</td>\n",
       "      <td>1.000000</td>\n",
       "      <td>0.864538</td>\n",
       "      <td>-0.689196</td>\n",
       "      <td>-0.416361</td>\n",
       "      <td>-0.455171</td>\n",
       "    </tr>\n",
       "    <tr>\n",
       "      <th>Weight</th>\n",
       "      <td>-0.831741</td>\n",
       "      <td>0.896017</td>\n",
       "      <td>0.932824</td>\n",
       "      <td>0.864538</td>\n",
       "      <td>1.000000</td>\n",
       "      <td>-0.417457</td>\n",
       "      <td>-0.306564</td>\n",
       "      <td>-0.581024</td>\n",
       "    </tr>\n",
       "    <tr>\n",
       "      <th>Acceleration</th>\n",
       "      <td>0.420289</td>\n",
       "      <td>-0.505419</td>\n",
       "      <td>-0.543684</td>\n",
       "      <td>-0.689196</td>\n",
       "      <td>-0.417457</td>\n",
       "      <td>1.000000</td>\n",
       "      <td>0.288137</td>\n",
       "      <td>0.205873</td>\n",
       "    </tr>\n",
       "    <tr>\n",
       "      <th>Model Year</th>\n",
       "      <td>0.579267</td>\n",
       "      <td>-0.348746</td>\n",
       "      <td>-0.370164</td>\n",
       "      <td>-0.416361</td>\n",
       "      <td>-0.306564</td>\n",
       "      <td>0.288137</td>\n",
       "      <td>1.000000</td>\n",
       "      <td>0.180662</td>\n",
       "    </tr>\n",
       "    <tr>\n",
       "      <th>Origin</th>\n",
       "      <td>0.563450</td>\n",
       "      <td>-0.562543</td>\n",
       "      <td>-0.609409</td>\n",
       "      <td>-0.455171</td>\n",
       "      <td>-0.581024</td>\n",
       "      <td>0.205873</td>\n",
       "      <td>0.180662</td>\n",
       "      <td>1.000000</td>\n",
       "    </tr>\n",
       "  </tbody>\n",
       "</table>\n",
       "</div>"
      ],
      "text/plain": [
       "                   MPG  Cylinders  Displacement  Horsepower    Weight  \\\n",
       "MPG           1.000000  -0.775396     -0.804203   -0.778427 -0.831741   \n",
       "Cylinders    -0.775396   1.000000      0.950721    0.842983  0.896017   \n",
       "Displacement -0.804203   0.950721      1.000000    0.897257  0.932824   \n",
       "Horsepower   -0.778427   0.842983      0.897257    1.000000  0.864538   \n",
       "Weight       -0.831741   0.896017      0.932824    0.864538  1.000000   \n",
       "Acceleration  0.420289  -0.505419     -0.543684   -0.689196 -0.417457   \n",
       "Model Year    0.579267  -0.348746     -0.370164   -0.416361 -0.306564   \n",
       "Origin        0.563450  -0.562543     -0.609409   -0.455171 -0.581024   \n",
       "\n",
       "              Acceleration  Model Year    Origin  \n",
       "MPG               0.420289    0.579267  0.563450  \n",
       "Cylinders        -0.505419   -0.348746 -0.562543  \n",
       "Displacement     -0.543684   -0.370164 -0.609409  \n",
       "Horsepower       -0.689196   -0.416361 -0.455171  \n",
       "Weight           -0.417457   -0.306564 -0.581024  \n",
       "Acceleration      1.000000    0.288137  0.205873  \n",
       "Model Year        0.288137    1.000000  0.180662  \n",
       "Origin            0.205873    0.180662  1.000000  "
      ]
     },
     "execution_count": 10,
     "metadata": {},
     "output_type": "execute_result"
    }
   ],
   "source": [
    "corr_matric = dataset.corr()\n",
    "corr_matric"
   ]
  },
  {
   "cell_type": "code",
   "execution_count": 17,
   "metadata": {},
   "outputs": [
    {
     "data": {
      "text/plain": [
       "array([[<matplotlib.axes._subplots.AxesSubplot object at 0x00000000341D7D30>,\n",
       "        <matplotlib.axes._subplots.AxesSubplot object at 0x0000000034220C88>,\n",
       "        <matplotlib.axes._subplots.AxesSubplot object at 0x000000003425C240>,\n",
       "        <matplotlib.axes._subplots.AxesSubplot object at 0x000000003428B7F0>],\n",
       "       [<matplotlib.axes._subplots.AxesSubplot object at 0x00000000342BEDA0>,\n",
       "        <matplotlib.axes._subplots.AxesSubplot object at 0x00000000342FC390>,\n",
       "        <matplotlib.axes._subplots.AxesSubplot object at 0x000000003432A940>,\n",
       "        <matplotlib.axes._subplots.AxesSubplot object at 0x000000003435FF28>],\n",
       "       [<matplotlib.axes._subplots.AxesSubplot object at 0x000000003435FF60>,\n",
       "        <matplotlib.axes._subplots.AxesSubplot object at 0x00000000343CEA90>,\n",
       "        <matplotlib.axes._subplots.AxesSubplot object at 0x000000003440D080>,\n",
       "        <matplotlib.axes._subplots.AxesSubplot object at 0x000000003443C630>],\n",
       "       [<matplotlib.axes._subplots.AxesSubplot object at 0x000000003446FBE0>,\n",
       "        <matplotlib.axes._subplots.AxesSubplot object at 0x00000000344AC1D0>,\n",
       "        <matplotlib.axes._subplots.AxesSubplot object at 0x00000000344DD780>,\n",
       "        <matplotlib.axes._subplots.AxesSubplot object at 0x000000003450FD30>]],\n",
       "      dtype=object)"
      ]
     },
     "execution_count": 17,
     "metadata": {},
     "output_type": "execute_result"
    },
    {
     "data": {
      "image/png": "[encoded data removed]",
      "text/plain": [
       "<Figure size 864x576 with 16 Axes>"
      ]
     },
     "metadata": {
      "needs_background": "light"
     },
     "output_type": "display_data"
    }
   ],
   "source": [
    "from pandas.plotting import scatter_matrix\n",
    "\n",
    "attributes = [\"MPG\", \"Cylinders\", \"Displacement\",\n",
    "              \"Horsepower\"]\n",
    "scatter_matrix(dataset[attributes], figsize=(12, 8))"
   ]
  },
  {
   "cell_type": "markdown",
   "metadata": {},
   "source": [
    "我们看到，MPG和马达数，马力，排量成反比关系。"
   ]
  },
  {
   "cell_type": "code",
   "execution_count": 18,
   "metadata": {},
   "outputs": [
    {
     "data": {
      "text/plain": [
       "MPG             0\n",
       "Cylinders       0\n",
       "Displacement    0\n",
       "Horsepower      6\n",
       "Weight          0\n",
       "Acceleration    0\n",
       "Model Year      0\n",
       "Origin          0\n",
       "dtype: int64"
      ]
     },
     "execution_count": 18,
     "metadata": {},
     "output_type": "execute_result"
    }
   ],
   "source": [
    "dataset.isna().sum()"
   ]
  },
  {
   "cell_type": "markdown",
   "metadata": {},
   "source": [
    "马力数据项有6个是NULL值，比较少，直接删除："
   ]
  },
  {
   "cell_type": "code",
   "execution_count": 19,
   "metadata": {},
   "outputs": [],
   "source": [
    "dataset = dataset.dropna()"
   ]
  },
  {
   "cell_type": "code",
   "execution_count": 20,
   "metadata": {},
   "outputs": [
    {
     "data": {
      "text/plain": [
       "MPG             0\n",
       "Cylinders       0\n",
       "Displacement    0\n",
       "Horsepower      0\n",
       "Weight          0\n",
       "Acceleration    0\n",
       "Model Year      0\n",
       "Origin          0\n",
       "dtype: int64"
      ]
     },
     "execution_count": 20,
     "metadata": {},
     "output_type": "execute_result"
    }
   ],
   "source": [
    "dataset.isna().sum()"
   ]
  },
  {
   "cell_type": "markdown",
   "metadata": {},
   "source": [
    "NULL数据项被删除了。"
   ]
  },
  {
   "cell_type": "code",
   "execution_count": 21,
   "metadata": {
    "scrolled": true
   },
   "outputs": [
    {
     "name": "stdout",
     "output_type": "stream",
     "text": [
      "<class 'pandas.core.frame.DataFrame'>\n",
      "Int64Index: 392 entries, 0 to 397\n",
      "Data columns (total 8 columns):\n",
      "MPG             392 non-null float64\n",
      "Cylinders       392 non-null int64\n",
      "Displacement    392 non-null float64\n",
      "Horsepower      392 non-null float64\n",
      "Weight          392 non-null float64\n",
      "Acceleration    392 non-null float64\n",
      "Model Year      392 non-null int64\n",
      "Origin          392 non-null int64\n",
      "dtypes: float64(5), int64(3)\n",
      "memory usage: 27.6 KB\n"
     ]
    }
   ],
   "source": [
    "dataset.info()"
   ]
  },
  {
   "cell_type": "code",
   "execution_count": 23,
   "metadata": {},
   "outputs": [],
   "source": [
    "origin = dataset.pop(\"Origin\")\n",
    "dataset[\"USA\"] = (origin==1)*1.0"
   ]
  },
  {
   "cell_type": "code",
   "execution_count": 24,
   "metadata": {},
   "outputs": [],
   "source": [
    "dataset[\"Europe\"] = (origin==2)*1.0\n",
    "dataset[\"Japan\"] = (origin==3)*1.0"
   ]
  },
  {
   "cell_type": "code",
   "execution_count": 25,
   "metadata": {},
   "outputs": [
    {
     "data": {
      "text/html": [
       "<div>\n",
       "<style scoped>\n",
       "    .dataframe tbody tr th:only-of-type {\n",
       "        vertical-align: middle;\n",
       "    }\n",
       "\n",
       "    .dataframe tbody tr th {\n",
       "        vertical-align: top;\n",
       "    }\n",
       "\n",
       "    .dataframe thead th {\n",
       "        text-align: right;\n",
       "    }\n",
       "</style>\n",
       "<table border=\"1\" class=\"dataframe\">\n",
       "  <thead>\n",
       "    <tr style=\"text-align: right;\">\n",
       "      <th></th>\n",
       "      <th>MPG</th>\n",
       "      <th>Cylinders</th>\n",
       "      <th>Displacement</th>\n",
       "      <th>Horsepower</th>\n",
       "      <th>Weight</th>\n",
       "      <th>Acceleration</th>\n",
       "      <th>Model Year</th>\n",
       "      <th>USA</th>\n",
       "      <th>Europe</th>\n",
       "      <th>Japan</th>\n",
       "    </tr>\n",
       "  </thead>\n",
       "  <tbody>\n",
       "    <tr>\n",
       "      <th>0</th>\n",
       "      <td>18.0</td>\n",
       "      <td>8</td>\n",
       "      <td>307.0</td>\n",
       "      <td>130.0</td>\n",
       "      <td>3504.0</td>\n",
       "      <td>12.0</td>\n",
       "      <td>70</td>\n",
       "      <td>1.0</td>\n",
       "      <td>0.0</td>\n",
       "      <td>0.0</td>\n",
       "    </tr>\n",
       "    <tr>\n",
       "      <th>1</th>\n",
       "      <td>15.0</td>\n",
       "      <td>8</td>\n",
       "      <td>350.0</td>\n",
       "      <td>165.0</td>\n",
       "      <td>3693.0</td>\n",
       "      <td>11.5</td>\n",
       "      <td>70</td>\n",
       "      <td>1.0</td>\n",
       "      <td>0.0</td>\n",
       "      <td>0.0</td>\n",
       "    </tr>\n",
       "    <tr>\n",
       "      <th>2</th>\n",
       "      <td>18.0</td>\n",
       "      <td>8</td>\n",
       "      <td>318.0</td>\n",
       "      <td>150.0</td>\n",
       "      <td>3436.0</td>\n",
       "      <td>11.0</td>\n",
       "      <td>70</td>\n",
       "      <td>1.0</td>\n",
       "      <td>0.0</td>\n",
       "      <td>0.0</td>\n",
       "    </tr>\n",
       "    <tr>\n",
       "      <th>3</th>\n",
       "      <td>16.0</td>\n",
       "      <td>8</td>\n",
       "      <td>304.0</td>\n",
       "      <td>150.0</td>\n",
       "      <td>3433.0</td>\n",
       "      <td>12.0</td>\n",
       "      <td>70</td>\n",
       "      <td>1.0</td>\n",
       "      <td>0.0</td>\n",
       "      <td>0.0</td>\n",
       "    </tr>\n",
       "    <tr>\n",
       "      <th>4</th>\n",
       "      <td>17.0</td>\n",
       "      <td>8</td>\n",
       "      <td>302.0</td>\n",
       "      <td>140.0</td>\n",
       "      <td>3449.0</td>\n",
       "      <td>10.5</td>\n",
       "      <td>70</td>\n",
       "      <td>1.0</td>\n",
       "      <td>0.0</td>\n",
       "      <td>0.0</td>\n",
       "    </tr>\n",
       "  </tbody>\n",
       "</table>\n",
       "</div>"
      ],
      "text/plain": [
       "    MPG  Cylinders  Displacement  Horsepower  Weight  Acceleration  \\\n",
       "0  18.0          8         307.0       130.0  3504.0          12.0   \n",
       "1  15.0          8         350.0       165.0  3693.0          11.5   \n",
       "2  18.0          8         318.0       150.0  3436.0          11.0   \n",
       "3  16.0          8         304.0       150.0  3433.0          12.0   \n",
       "4  17.0          8         302.0       140.0  3449.0          10.5   \n",
       "\n",
       "   Model Year  USA  Europe  Japan  \n",
       "0          70  1.0     0.0    0.0  \n",
       "1          70  1.0     0.0    0.0  \n",
       "2          70  1.0     0.0    0.0  \n",
       "3          70  1.0     0.0    0.0  \n",
       "4          70  1.0     0.0    0.0  "
      ]
     },
     "execution_count": 25,
     "metadata": {},
     "output_type": "execute_result"
    }
   ],
   "source": [
    "dataset.head()"
   ]
  },
  {
   "cell_type": "markdown",
   "metadata": {},
   "source": [
    "切分数据集，分为训练集和测试集："
   ]
  },
  {
   "cell_type": "code",
   "execution_count": 26,
   "metadata": {},
   "outputs": [],
   "source": [
    "train_dataset = dataset.sample(frac=0.8, random_state=0)"
   ]
  },
  {
   "cell_type": "code",
   "execution_count": 27,
   "metadata": {},
   "outputs": [],
   "source": [
    "test_dataset = dataset.drop(train_dataset.index)"
   ]
  },
  {
   "cell_type": "markdown",
   "metadata": {},
   "source": [
    "将MPG字段移出数据集："
   ]
  },
  {
   "cell_type": "code",
   "execution_count": 28,
   "metadata": {},
   "outputs": [
    {
     "name": "stdout",
     "output_type": "stream",
     "text": [
      "<class 'pandas.core.frame.DataFrame'>\n",
      "Int64Index: 314 entries, 146 to 182\n",
      "Data columns (total 10 columns):\n",
      "MPG             314 non-null float64\n",
      "Cylinders       314 non-null int64\n",
      "Displacement    314 non-null float64\n",
      "Horsepower      314 non-null float64\n",
      "Weight          314 non-null float64\n",
      "Acceleration    314 non-null float64\n",
      "Model Year      314 non-null int64\n",
      "USA             314 non-null float64\n",
      "Europe          314 non-null float64\n",
      "Japan           314 non-null float64\n",
      "dtypes: float64(8), int64(2)\n",
      "memory usage: 27.0 KB\n"
     ]
    }
   ],
   "source": [
    "train_dataset.info()"
   ]
  },
  {
   "cell_type": "code",
   "execution_count": 29,
   "metadata": {},
   "outputs": [],
   "source": [
    "train_labels = train_dataset.pop('MPG')\n",
    "test_labels = test_dataset.pop('MPG')"
   ]
  },
  {
   "cell_type": "markdown",
   "metadata": {},
   "source": [
    "标准化数据："
   ]
  },
  {
   "cell_type": "code",
   "execution_count": 30,
   "metadata": {},
   "outputs": [],
   "source": [
    "train_stats = train_dataset.describe()"
   ]
  },
  {
   "cell_type": "code",
   "execution_count": 31,
   "metadata": {},
   "outputs": [
    {
     "data": {
      "text/html": [
       "<div>\n",
       "<style scoped>\n",
       "    .dataframe tbody tr th:only-of-type {\n",
       "        vertical-align: middle;\n",
       "    }\n",
       "\n",
       "    .dataframe tbody tr th {\n",
       "        vertical-align: top;\n",
       "    }\n",
       "\n",
       "    .dataframe thead th {\n",
       "        text-align: right;\n",
       "    }\n",
       "</style>\n",
       "<table border=\"1\" class=\"dataframe\">\n",
       "  <thead>\n",
       "    <tr style=\"text-align: right;\">\n",
       "      <th></th>\n",
       "      <th>count</th>\n",
       "      <th>mean</th>\n",
       "      <th>std</th>\n",
       "      <th>min</th>\n",
       "      <th>25%</th>\n",
       "      <th>50%</th>\n",
       "      <th>75%</th>\n",
       "      <th>max</th>\n",
       "    </tr>\n",
       "  </thead>\n",
       "  <tbody>\n",
       "    <tr>\n",
       "      <th>Cylinders</th>\n",
       "      <td>314.0</td>\n",
       "      <td>5.477707</td>\n",
       "      <td>1.699788</td>\n",
       "      <td>3.0</td>\n",
       "      <td>4.00</td>\n",
       "      <td>4.0</td>\n",
       "      <td>8.00</td>\n",
       "      <td>8.0</td>\n",
       "    </tr>\n",
       "    <tr>\n",
       "      <th>Displacement</th>\n",
       "      <td>314.0</td>\n",
       "      <td>195.318471</td>\n",
       "      <td>104.331589</td>\n",
       "      <td>68.0</td>\n",
       "      <td>105.50</td>\n",
       "      <td>151.0</td>\n",
       "      <td>265.75</td>\n",
       "      <td>455.0</td>\n",
       "    </tr>\n",
       "    <tr>\n",
       "      <th>Horsepower</th>\n",
       "      <td>314.0</td>\n",
       "      <td>104.869427</td>\n",
       "      <td>38.096214</td>\n",
       "      <td>46.0</td>\n",
       "      <td>76.25</td>\n",
       "      <td>94.5</td>\n",
       "      <td>128.00</td>\n",
       "      <td>225.0</td>\n",
       "    </tr>\n",
       "    <tr>\n",
       "      <th>Weight</th>\n",
       "      <td>314.0</td>\n",
       "      <td>2990.251592</td>\n",
       "      <td>843.898596</td>\n",
       "      <td>1649.0</td>\n",
       "      <td>2256.50</td>\n",
       "      <td>2822.5</td>\n",
       "      <td>3608.00</td>\n",
       "      <td>5140.0</td>\n",
       "    </tr>\n",
       "    <tr>\n",
       "      <th>Acceleration</th>\n",
       "      <td>314.0</td>\n",
       "      <td>15.559236</td>\n",
       "      <td>2.789230</td>\n",
       "      <td>8.0</td>\n",
       "      <td>13.80</td>\n",
       "      <td>15.5</td>\n",
       "      <td>17.20</td>\n",
       "      <td>24.8</td>\n",
       "    </tr>\n",
       "  </tbody>\n",
       "</table>\n",
       "</div>"
      ],
      "text/plain": [
       "              count         mean         std     min      25%     50%  \\\n",
       "Cylinders     314.0     5.477707    1.699788     3.0     4.00     4.0   \n",
       "Displacement  314.0   195.318471  104.331589    68.0   105.50   151.0   \n",
       "Horsepower    314.0   104.869427   38.096214    46.0    76.25    94.5   \n",
       "Weight        314.0  2990.251592  843.898596  1649.0  2256.50  2822.5   \n",
       "Acceleration  314.0    15.559236    2.789230     8.0    13.80    15.5   \n",
       "\n",
       "                  75%     max  \n",
       "Cylinders        8.00     8.0  \n",
       "Displacement   265.75   455.0  \n",
       "Horsepower     128.00   225.0  \n",
       "Weight        3608.00  5140.0  \n",
       "Acceleration    17.20    24.8  "
      ]
     },
     "execution_count": 31,
     "metadata": {},
     "output_type": "execute_result"
    }
   ],
   "source": [
    "train_stats = train_stats.transpose()\n",
    "train_stats.head()"
   ]
  },
  {
   "cell_type": "markdown",
   "metadata": {},
   "source": [
    "数据标准化："
   ]
  },
  {
   "cell_type": "code",
   "execution_count": 32,
   "metadata": {},
   "outputs": [],
   "source": [
    "def norm(x):\n",
    "    return (x-train_stats[\"mean\"])/train_stats[\"std\"]\n",
    "\n",
    "train_dataset = norm(train_dataset)\n",
    "test_dataset = norm(test_dataset)"
   ]
  },
  {
   "cell_type": "code",
   "execution_count": 33,
   "metadata": {},
   "outputs": [],
   "source": [
    "train_db = tf.data.Dataset.from_tensor_slices((train_dataset.values, train_labels.values))"
   ]
  },
  {
   "cell_type": "code",
   "execution_count": 34,
   "metadata": {},
   "outputs": [],
   "source": [
    "train_db = train_db.shuffle(100).batch(32)"
   ]
  },
  {
   "cell_type": "markdown",
   "metadata": {},
   "source": [
    "创建网络："
   ]
  },
  {
   "cell_type": "code",
   "execution_count": 35,
   "metadata": {},
   "outputs": [],
   "source": [
    "class Network(keras.Model):\n",
    "    def __init__(self):\n",
    "        super(Network, self).__init__()\n",
    "        self.fc1 = layers.Dense(64, activation='relu')\n",
    "        self.fc2 = layers.Dense(64, activation='relu')\n",
    "        self.fc3 = layers.Dense(1)\n",
    "    \n",
    "    def call(self, inputs, training=None, mask=None):\n",
    "        x = self.fc1(inputs)\n",
    "        x = self.fc2(x)\n",
    "        x = self.fc3(x)\n",
    "        \n",
    "        return x\n",
    "        "
   ]
  },
  {
   "cell_type": "code",
   "execution_count": 36,
   "metadata": {},
   "outputs": [],
   "source": [
    "model = Network()\n",
    "model.build(input_shape=(4, 9))"
   ]
  },
  {
   "cell_type": "code",
   "execution_count": 37,
   "metadata": {},
   "outputs": [
    {
     "name": "stdout",
     "output_type": "stream",
     "text": [
      "Model: \"network\"\n",
      "_________________________________________________________________\n",
      "Layer (type)                 Output Shape              Param #   \n",
      "=================================================================\n",
      "dense (Dense)                multiple                  640       \n",
      "_________________________________________________________________\n",
      "dense_1 (Dense)              multiple                  4160      \n",
      "_________________________________________________________________\n",
      "dense_2 (Dense)              multiple                  65        \n",
      "=================================================================\n",
      "Total params: 4,865\n",
      "Trainable params: 4,865\n",
      "Non-trainable params: 0\n",
      "_________________________________________________________________\n"
     ]
    }
   ],
   "source": [
    "model.summary()"
   ]
  },
  {
   "cell_type": "code",
   "execution_count": 39,
   "metadata": {},
   "outputs": [],
   "source": [
    "optimizers = tf.keras.optimizers.RMSprop(0.001)"
   ]
  },
  {
   "cell_type": "code",
   "execution_count": 41,
   "metadata": {},
   "outputs": [],
   "source": [
    "%matplotlib inline\n",
    "import matplotlib.pyplot as plt\n",
    "train_mae_losses = []\n",
    "test_mae_losses = []"
   ]
  },
  {
   "cell_type": "code",
   "execution_count": 44,
   "metadata": {},
   "outputs": [
    {
     "name": "stdout",
     "output_type": "stream",
     "text": [
      "0 0 571.7352294921875\n",
      "1 0 503.76202392578125\n",
      "2 0 430.57757568359375\n",
      "3 0 354.5826416015625\n",
      "4 0 282.6965637207031\n",
      "5 0 221.41397094726562\n",
      "6 0 175.5919189453125\n",
      "7 0 145.7165069580078\n",
      "8 0 127.43185424804688\n",
      "9 0 114.68366241455078\n",
      "10 0 104.3622817993164\n",
      "11 0 96.14360046386719\n",
      "12 0 90.06875610351562\n",
      "13 0 85.85919189453125\n",
      "14 0 82.95524597167969\n",
      "15 0 80.9122314453125\n",
      "16 0 79.42561340332031\n",
      "17 0 78.34532928466797\n",
      "18 0 77.56427001953125\n",
      "19 0 76.97782135009766\n",
      "20 0 76.53842163085938\n",
      "21 0 76.20501708984375\n",
      "22 0 75.93704223632812\n",
      "23 0 75.7269058227539\n",
      "24 0 75.55239868164062\n",
      "25 0 75.407958984375\n",
      "26 0 75.28396606445312\n",
      "27 0 75.17668151855469\n",
      "28 0 75.08598327636719\n",
      "29 0 74.9994125366211\n",
      "30 0 74.92516326904297\n",
      "31 0 74.8616714477539\n",
      "32 0 74.8026123046875\n",
      "33 0 74.75\n",
      "34 0 74.70093536376953\n",
      "35 0 74.65628051757812\n",
      "36 0 74.61491394042969\n",
      "37 0 74.57588195800781\n",
      "38 0 74.54017639160156\n",
      "39 0 74.5081558227539\n",
      "40 0 74.47750091552734\n",
      "41 0 74.44877624511719\n",
      "42 0 74.42234802246094\n",
      "43 0 74.39701843261719\n",
      "44 0 74.37225341796875\n",
      "45 0 74.3496322631836\n",
      "46 0 74.32746887207031\n",
      "47 0 74.30619049072266\n",
      "48 0 74.28675842285156\n",
      "49 0 74.26849365234375\n",
      "50 0 74.25096130371094\n",
      "51 0 74.23361206054688\n",
      "52 0 74.21756744384766\n",
      "53 0 74.20297241210938\n",
      "54 0 74.19087982177734\n",
      "55 0 74.1786117553711\n",
      "56 0 74.16697692871094\n",
      "57 0 74.15617370605469\n",
      "58 0 74.14584350585938\n",
      "59 0 74.13549041748047\n",
      "60 0 74.12763977050781\n",
      "61 0 74.11947631835938\n",
      "62 0 74.11225128173828\n",
      "63 0 74.10499572753906\n",
      "64 0 74.09654235839844\n",
      "65 0 74.09117889404297\n",
      "66 0 74.08638000488281\n",
      "67 0 74.07968139648438\n",
      "68 0 74.0750503540039\n",
      "69 0 74.06897735595703\n",
      "70 0 74.06468963623047\n",
      "71 0 74.05978393554688\n",
      "72 0 74.05485534667969\n",
      "73 0 74.05052185058594\n",
      "74 0 74.04747009277344\n",
      "75 0 74.04326629638672\n",
      "76 0 74.0381088256836\n",
      "77 0 74.03555297851562\n",
      "78 0 74.03157806396484\n",
      "79 0 74.02938842773438\n",
      "80 0 74.02645111083984\n",
      "81 0 74.02359008789062\n",
      "82 0 74.01852416992188\n",
      "83 0 74.01678466796875\n",
      "84 0 74.01341247558594\n",
      "85 0 74.01115417480469\n",
      "86 0 74.0089111328125\n",
      "87 0 74.00674438476562\n",
      "88 0 74.00306701660156\n",
      "89 0 74.00028991699219\n",
      "90 0 73.99801635742188\n",
      "91 0 73.99542236328125\n",
      "92 0 73.99259948730469\n",
      "93 0 73.9901351928711\n",
      "94 0 73.98699951171875\n",
      "95 0 73.98515319824219\n",
      "96 0 73.98359680175781\n",
      "97 0 73.98051452636719\n",
      "98 0 73.97895812988281\n",
      "99 0 73.97752380371094\n",
      "100 0 73.97537231445312\n",
      "101 0 73.97476196289062\n",
      "102 0 73.97218322753906\n",
      "103 0 73.97040557861328\n",
      "104 0 73.96952819824219\n",
      "105 0 73.96822357177734\n",
      "106 0 73.96780395507812\n",
      "107 0 73.9659652709961\n",
      "108 0 73.96426391601562\n",
      "109 0 73.96229553222656\n",
      "110 0 73.96190643310547\n",
      "111 0 73.9607925415039\n",
      "112 0 73.95970153808594\n",
      "113 0 73.95883178710938\n",
      "114 0 73.95750427246094\n",
      "115 0 73.95681762695312\n",
      "116 0 73.95443725585938\n",
      "117 0 73.95254516601562\n",
      "118 0 73.95323181152344\n",
      "119 0 73.95118713378906\n",
      "120 0 73.95032501220703\n",
      "121 0 73.94937896728516\n",
      "122 0 73.94801330566406\n",
      "123 0 73.94692993164062\n",
      "124 0 73.94532012939453\n",
      "125 0 73.94342041015625\n",
      "126 0 73.94376373291016\n",
      "127 0 73.94226837158203\n",
      "128 0 73.94056701660156\n",
      "129 0 73.94004821777344\n",
      "130 0 73.93761444091797\n",
      "131 0 73.93708801269531\n",
      "132 0 73.9365463256836\n",
      "133 0 73.9360122680664\n",
      "134 0 73.93513488769531\n",
      "135 0 73.93531799316406\n",
      "136 0 73.93402099609375\n",
      "137 0 73.93309020996094\n",
      "138 0 73.9328842163086\n",
      "139 0 73.93185424804688\n",
      "140 0 73.93112182617188\n",
      "141 0 73.93014526367188\n",
      "142 0 73.9301528930664\n",
      "143 0 73.9295654296875\n",
      "144 0 73.92781066894531\n",
      "145 0 73.92767333984375\n",
      "146 0 73.9280014038086\n",
      "147 0 73.92527770996094\n",
      "148 0 73.92556762695312\n",
      "149 0 73.92379760742188\n",
      "150 0 73.9254150390625\n",
      "151 0 73.92389678955078\n",
      "152 0 73.92265319824219\n",
      "153 0 73.92341613769531\n",
      "154 0 73.92078399658203\n",
      "155 0 73.92030334472656\n",
      "156 0 73.91876220703125\n",
      "157 0 73.91830444335938\n",
      "158 0 73.9164810180664\n",
      "159 0 73.91410827636719\n",
      "160 0 73.91262817382812\n",
      "161 0 73.91160583496094\n",
      "162 0 73.91087341308594\n",
      "163 0 73.91095733642578\n",
      "164 0 73.90930938720703\n",
      "165 0 73.907470703125\n",
      "166 0 73.90704345703125\n",
      "167 0 73.90596008300781\n",
      "168 0 73.90583801269531\n",
      "169 0 73.90364074707031\n",
      "170 0 73.9034652709961\n",
      "171 0 73.90291595458984\n",
      "172 0 73.90178680419922\n",
      "173 0 73.90022277832031\n",
      "174 0 73.89981842041016\n",
      "175 0 73.8985595703125\n",
      "176 0 73.89747619628906\n",
      "177 0 73.89606475830078\n",
      "178 0 73.89677429199219\n",
      "179 0 73.89520263671875\n",
      "180 0 73.8946304321289\n",
      "181 0 73.89366912841797\n",
      "182 0 73.8922348022461\n",
      "183 0 73.89141845703125\n",
      "184 0 73.89167785644531\n",
      "185 0 73.89032745361328\n",
      "186 0 73.88862609863281\n",
      "187 0 73.88893127441406\n",
      "188 0 73.88800048828125\n",
      "189 0 73.88760375976562\n",
      "190 0 73.88655090332031\n",
      "191 0 73.8858413696289\n",
      "192 0 73.88538360595703\n",
      "193 0 73.88471984863281\n",
      "194 0 73.88430786132812\n",
      "195 0 73.88375854492188\n",
      "196 0 73.8821792602539\n",
      "197 0 73.88221740722656\n",
      "198 0 73.8818359375\n",
      "199 0 73.880126953125\n"
     ]
    }
   ],
   "source": [
    "for epoch in range(200):\n",
    "    for step, (x,y) in enumerate(train_db):\n",
    "        with tf.GradientTape() as tape:\n",
    "            out = model(x)\n",
    "            loss = tf.reduce_mean(keras.losses.MSE(y, out))\n",
    "            mae_loss = tf.reduce_mean(keras.losses.MAE(y, out))\n",
    "            \n",
    "        if step % 10 == 0:\n",
    "            print(epoch, step, float(loss))\n",
    "            \n",
    "        grads = tape.gradient(loss, model.trainable_variables)\n",
    "        optimizers.apply_gradients(zip(grads, model.trainable_variables))\n",
    "        \n",
    "    train_mae_losses.append(float(mae_loss))\n",
    "    test_out = model(tf.constant(test_dataset.values))\n",
    "    test_mae_losses.append(tf.reduce_mean(keras.losses.MAE(test_labels, test_out)))\n",
    "    "
   ]
  },
  {
   "cell_type": "code",
   "execution_count": 46,
   "metadata": {},
   "outputs": [
    {
     "data": {
      "image/png": "[encoded data removed]",
      "text/plain": [
       "<Figure size 432x288 with 1 Axes>"
      ]
     },
     "metadata": {
      "needs_background": "light"
     },
     "output_type": "display_data"
    }
   ],
   "source": [
    "plt.figure()\n",
    "plt.ylabel(\"MAE\")\n",
    "plt.xlabel(\"epoch\")\n",
    "plt.plot(train_mae_losses, label=\"train\")\n",
    "\n",
    "plt.plot(test_mae_losses, label=\"test\")\n",
    "plt.legend()\n",
    "plt.show()"
   ]
  },
  {
   "cell_type": "code",
   "execution_count": null,
   "metadata": {},
   "outputs": [],
   "source": []
  }
 ],
 "metadata": {
  "kernelspec": {
   "display_name": "Python 3",
   "language": "python",
   "name": "python3"
  },
  "language_info": {
   "codemirror_mode": {
    "name": "ipython",
    "version": 3
   },
   "file_extension": ".py",
   "mimetype": "text/x-python",
   "name": "python",
   "nbconvert_exporter": "python",
   "pygments_lexer": "ipython3",
   "version": "3.6.4"
  }
 },
 "nbformat": 4,
 "nbformat_minor": 2
}
